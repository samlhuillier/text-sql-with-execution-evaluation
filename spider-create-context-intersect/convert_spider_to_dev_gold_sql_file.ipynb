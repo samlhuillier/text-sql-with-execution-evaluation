{
 "cells": [
  {
   "cell_type": "code",
   "execution_count": 1,
   "metadata": {},
   "outputs": [],
   "source": [
    "import json\n",
    "\n",
    "# Step 1: Read the JSON file\n",
    "with open('spider_create_context_val_db_id.json', 'r') as f:\n",
    "    data = json.load(f)\n",
    "\n",
    "# Step 2: Open a text file in write mode\n",
    "with open('spider_create_context_gold.sql', 'w') as f:\n",
    "    # Step 3: Loop over the objects in the JSON file and write each \"answer\" to the text file\n",
    "    for item in data:\n",
    "        answer = item.get('answer')\n",
    "        db_id = item.get('db_id')\n",
    "        if answer:\n",
    "            f.write(answer + '\t' + db_id + '\\n')"
   ]
  },
  {
   "cell_type": "code",
   "execution_count": 2,
   "metadata": {},
   "outputs": [],
   "source": [
    "with open('test_predicted.txt', 'w') as f:\n",
    "    # Step 3: Loop over the objects in the JSON file and write each \"answer\" to the text file\n",
    "    for item in data:\n",
    "        answer = item.get('answer')\n",
    "        db_id = item.get('db_id')\n",
    "        if answer:\n",
    "            f.write(answer + '\\n')"
   ]
  },
  {
   "cell_type": "code",
   "execution_count": null,
   "metadata": {},
   "outputs": [],
   "source": []
  }
 ],
 "metadata": {
  "kernelspec": {
   "display_name": "spider-eval",
   "language": "python",
   "name": "python3"
  },
  "language_info": {
   "codemirror_mode": {
    "name": "ipython",
    "version": 3
   },
   "file_extension": ".py",
   "mimetype": "text/x-python",
   "name": "python",
   "nbconvert_exporter": "python",
   "pygments_lexer": "ipython3",
   "version": "3.10.12"
  },
  "orig_nbformat": 4
 },
 "nbformat": 4,
 "nbformat_minor": 2
}
