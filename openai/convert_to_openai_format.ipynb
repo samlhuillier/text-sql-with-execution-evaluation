{
 "cells": [
  {
   "cell_type": "code",
   "execution_count": 3,
   "metadata": {},
   "outputs": [],
   "source": [
    "import json\n",
    "\n",
    "\n",
    "with open('../spider-create-context-intersect/spider_create_context_train_db_id.json') as f:\n",
    "  train = json.load(f)\n",
    "\n",
    "with open('../spider-create-context-intersect/spider_create_context_val_db_id.json') as f:\n",
    "  validation = json.load(f)\n",
    "\n"
   ]
  },
  {
   "cell_type": "code",
   "execution_count": 4,
   "metadata": {},
   "outputs": [
    {
     "data": {
      "text/plain": [
       "{'question': 'How many heads of the departments are older than 56 ?',\n",
       " 'context': 'CREATE TABLE head (age INTEGER)',\n",
       " 'answer': 'SELECT count(*) FROM head WHERE age  >  56',\n",
       " 'db_id': 'department_management'}"
      ]
     },
     "execution_count": 4,
     "metadata": {},
     "output_type": "execute_result"
    }
   ],
   "source": [
    "train[0]"
   ]
  },
  {
   "cell_type": "code",
   "execution_count": 5,
   "metadata": {},
   "outputs": [],
   "source": [
    "# def input_text_to_system_and_user_prompt(input_text):\n",
    "#   system_prompt = \"System: \" + input_text + \" User:\"\n",
    "#   user_prompt = \"System: \" + input_text + \" User:\"\n",
    "#   return system_prompt, user_prompt\n",
    "\n",
    "# def input_text_to_system_and_user_prompt(input_str):\n",
    "#     # Remove the [INST] and [/INST] tags\n",
    "#     clean_str = input_str.replace(\"[INST]\", \"\").replace(\"[/INST]\", \"\").replace(\"Please write me a SQL statement that answers the following question\", \"Write an SQL query that answers the following\") \n",
    "#     # Split the cleaned string into two parts: schema and query, based on two newline characters\n",
    "#     parts = clean_str.rsplit(\"\\n\\n\", 1)\n",
    "#     schema = parts[0].strip()\n",
    "#     query = parts[1].strip()\n",
    "#     system_prompt = \"You are a powerful text-to-SQL model.\" + schema\n",
    "#     return system_prompt, query\n",
    "\n",
    "# print(train[0]['input'])\n",
    "# a, b = input_text_to_system_and_user_prompt(train[0]['input'])\n",
    "# print(\"A:\")\n",
    "# print(a)\n",
    "# print(\"B:\")\n",
    "# print(b)\n"
   ]
  },
  {
   "cell_type": "code",
   "execution_count": 6,
   "metadata": {},
   "outputs": [],
   "source": [
    "def system_prompt_from_context(context):\n",
    "    return f\"\"\"You are a powerful text-to-SQL model. Your job is to answer questions about a database. You are given a question and context regarding one or more tables.\n",
    "\n",
    "You must output the SQL query that answers the question.\n",
    "\n",
    "### Context:\n",
    "{context}\"\"\""
   ]
  },
  {
   "cell_type": "code",
   "execution_count": 7,
   "metadata": {},
   "outputs": [],
   "source": [
    "def convert_to_openai_format(data_point):\n",
    "    \"\"\"\n",
    "    Converts the data to OpenAI format.\n",
    "    \"\"\"\n",
    "    system_prompt = system_prompt_from_context(data_point['context']) \n",
    "    return {\"messages\": [\n",
    "        {\n",
    "            \"role\": \"system\",\n",
    "            \"content\": system_prompt\n",
    "        },\n",
    "        {\n",
    "            \"role\": \"user\",\n",
    "            \"content\": data_point['question']\n",
    "        },\n",
    "        {\n",
    "            \"role\": \"assistant\",\n",
    "            \"content\": data_point['answer']\n",
    "        }\n",
    "    ]}\n",
    "            \n",
    "    #         {\n",
    "    #     \"system_prompt\": system_prompt,\n",
    "    #     \"user_prompt\": user_prompt,\n",
    "    #     \"assistant_response\": assistant_response\n",
    "    # }}\n",
    "   "
   ]
  },
  {
   "cell_type": "code",
   "execution_count": 8,
   "metadata": {},
   "outputs": [],
   "source": [
    "def convert_dataset(dataset):\n",
    "    output = []\n",
    "    for d in dataset:\n",
    "        oai_format = convert_to_openai_format(d)\n",
    "        output.append(oai_format)\n",
    "    return output"
   ]
  },
  {
   "cell_type": "code",
   "execution_count": 9,
   "metadata": {},
   "outputs": [],
   "source": [
    "converted_train = convert_dataset(train)\n",
    "converted_validation = convert_dataset(validation)"
   ]
  },
  {
   "cell_type": "code",
   "execution_count": 10,
   "metadata": {},
   "outputs": [
    {
     "data": {
      "text/plain": [
       "{'messages': [{'role': 'system',\n",
       "   'content': 'You are a powerful text-to-SQL model. Your job is to answer questions about a database. You are given a question and context regarding one or more tables.\\n\\nYou must output the SQL query that answers the question.\\n\\n### Context:\\nCREATE TABLE singer (Id VARCHAR)'},\n",
       "  {'role': 'user', 'content': 'How many singers do we have?'},\n",
       "  {'role': 'assistant', 'content': 'SELECT count(*) FROM singer'}]}"
      ]
     },
     "execution_count": 10,
     "metadata": {},
     "output_type": "execute_result"
    }
   ],
   "source": [
    "converted_validation[0]"
   ]
  },
  {
   "cell_type": "code",
   "execution_count": 11,
   "metadata": {},
   "outputs": [],
   "source": [
    "# Save each as a separate file\n",
    "with open('train_oai_format.json', 'w') as f:\n",
    "    json.dump(converted_train, f)\n",
    "\n",
    "with open('validation_oai_format.json', 'w') as f:\n",
    "    json.dump(converted_validation, f)"
   ]
  },
  {
   "cell_type": "code",
   "execution_count": null,
   "metadata": {},
   "outputs": [],
   "source": []
  }
 ],
 "metadata": {
  "kernelspec": {
   "display_name": "spider-eval",
   "language": "python",
   "name": "python3"
  },
  "language_info": {
   "codemirror_mode": {
    "name": "ipython",
    "version": 3
   },
   "file_extension": ".py",
   "mimetype": "text/x-python",
   "name": "python",
   "nbconvert_exporter": "python",
   "pygments_lexer": "ipython3",
   "version": "3.10.12"
  },
  "orig_nbformat": 4
 },
 "nbformat": 4,
 "nbformat_minor": 2
}
