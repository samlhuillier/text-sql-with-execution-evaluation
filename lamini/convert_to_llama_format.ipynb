{
 "cells": [
  {
   "cell_type": "code",
   "execution_count": 41,
   "metadata": {},
   "outputs": [],
   "source": [
    "import json\n",
    "\n",
    "\n",
    "with open('train.json') as f:\n",
    "  train = json.load(f)\n",
    "\n",
    "with open('validation.json') as f:\n",
    "  validation = json.load(f)\n",
    "\n"
   ]
  },
  {
   "cell_type": "code",
   "execution_count": 42,
   "metadata": {},
   "outputs": [
    {
     "data": {
      "text/plain": [
       "{'input': '[INST] Here is a database schema:\\ndepartment :\\nDepartment_ID [ INT ] primary_key\\nName [ TEXT ]\\nCreation [ TEXT ]\\nRanking [ INT ]\\nBudget_in_Billions [ INT ]\\nNum_Employees [ INT ]\\n\\nhead :\\nhead_ID [ INT ] primary_key\\nname [ TEXT ]\\nborn_state [ TEXT ]\\nage [ INT ]\\n\\nmanagement :\\ndepartment_ID [ INT ] primary_key management.department_ID = department.Department_ID\\nhead_ID [ INT ] management.head_ID = head.head_ID\\ntemporary_acting [ TEXT ]\\n\\nPlease write me a SQL statement that answers the following question: How many heads of the departments are older than 56 ? [/INST]',\n",
       " 'output': 'SELECT count(*) FROM head WHERE age  >  56;'}"
      ]
     },
     "execution_count": 42,
     "metadata": {},
     "output_type": "execute_result"
    }
   ],
   "source": [
    "train[0]"
   ]
  },
  {
   "cell_type": "code",
   "execution_count": 43,
   "metadata": {},
   "outputs": [
    {
     "name": "stdout",
     "output_type": "stream",
     "text": [
      "[INST] Here is a database schema:\n",
      "department :\n",
      "Department_ID [ INT ] primary_key\n",
      "Name [ TEXT ]\n",
      "Creation [ TEXT ]\n",
      "Ranking [ INT ]\n",
      "Budget_in_Billions [ INT ]\n",
      "Num_Employees [ INT ]\n",
      "\n",
      "head :\n",
      "head_ID [ INT ] primary_key\n",
      "name [ TEXT ]\n",
      "born_state [ TEXT ]\n",
      "age [ INT ]\n",
      "\n",
      "management :\n",
      "department_ID [ INT ] primary_key management.department_ID = department.Department_ID\n",
      "head_ID [ INT ] management.head_ID = head.head_ID\n",
      "temporary_acting [ TEXT ]\n",
      "\n",
      "Please write me a SQL statement that answers the following question: How many heads of the departments are older than 56 ? [/INST]\n",
      "A:\n",
      "You are a powerful text-to-SQL model. Here is a database schema:\n",
      "department :\n",
      "Department_ID [ INT ] primary_key\n",
      "Name [ TEXT ]\n",
      "Creation [ TEXT ]\n",
      "Ranking [ INT ]\n",
      "Budget_in_Billions [ INT ]\n",
      "Num_Employees [ INT ]\n",
      "\n",
      "head :\n",
      "head_ID [ INT ] primary_key\n",
      "name [ TEXT ]\n",
      "born_state [ TEXT ]\n",
      "age [ INT ]\n",
      "\n",
      "management :\n",
      "department_ID [ INT ] primary_key management.department_ID = department.Department_ID\n",
      "head_ID [ INT ] management.head_ID = head.head_ID\n",
      "temporary_acting [ TEXT ]\n",
      "B:\n",
      "Write an SQL query that answers the following. Respond with only SQL: How many heads of the departments are older than 56 ?\n"
     ]
    }
   ],
   "source": [
    "# def input_text_to_system_and_user_prompt(input_text):\n",
    "#   system_prompt = \"System: \" + input_text + \" User:\"\n",
    "#   user_prompt = \"System: \" + input_text + \" User:\"\n",
    "#   return system_prompt, user_prompt\n",
    "\n",
    "def input_text_to_system_and_user_prompt(input_str):\n",
    "    # Remove the [INST] and [/INST] tags\n",
    "    clean_str = input_str.replace(\"[INST]\", \"\").replace(\"[/INST]\", \"\").replace(\"Please write me a SQL statement that answers the following question\", \"Write an SQL query that answers the following\") \n",
    "    # Split the cleaned string into two parts: schema and query, based on two newline characters\n",
    "    parts = clean_str.rsplit(\"\\n\\n\", 1)\n",
    "    schema = parts[0].strip()\n",
    "    query = parts[1].strip()\n",
    "    system_prompt = \"You are a powerful text-to-SQL model. \" + schema\n",
    "    return system_prompt, query\n",
    "\n",
    "print(train[0]['input'])\n",
    "a, b = input_text_to_system_and_user_prompt(train[0]['input'])\n",
    "print(\"A:\")\n",
    "print(a)\n",
    "print(\"B:\")\n",
    "print(b)\n"
   ]
  },
  {
   "cell_type": "code",
   "execution_count": 44,
   "metadata": {},
   "outputs": [],
   "source": [
    "def convert_to_openai_format(data_point):\n",
    "    \"\"\"\n",
    "    Converts the data to OpenAI format.\n",
    "    \"\"\"\n",
    "    system_prompt, user_prompt = input_text_to_system_and_user_prompt(data_point['input'])\n",
    "    assistant_response = data_point['output']\n",
    "    return {\"messages\": [\n",
    "        {\n",
    "            \"role\": \"system\",\n",
    "            \"content\": system_prompt\n",
    "        },\n",
    "        {\n",
    "            \"role\": \"user\",\n",
    "            \"content\": user_prompt\n",
    "        },\n",
    "        {\n",
    "            \"role\": \"assistant\",\n",
    "            \"content\": assistant_response\n",
    "        }\n",
    "    ]}\n",
    "            \n",
    "    #         {\n",
    "    #     \"system_prompt\": system_prompt,\n",
    "    #     \"user_prompt\": user_prompt,\n",
    "    #     \"assistant_response\": assistant_response\n",
    "    # }}\n",
    "   "
   ]
  },
  {
   "cell_type": "code",
   "execution_count": 45,
   "metadata": {},
   "outputs": [],
   "source": [
    "def convert_dataset(dataset):\n",
    "    output = []\n",
    "    for d in dataset:\n",
    "        oai_format = convert_to_openai_format(d)\n",
    "        output.append(oai_format)\n",
    "    return output"
   ]
  },
  {
   "cell_type": "code",
   "execution_count": 46,
   "metadata": {},
   "outputs": [],
   "source": [
    "converted_train = convert_dataset(train)\n",
    "converted_validation = convert_dataset(validation)"
   ]
  },
  {
   "cell_type": "code",
   "execution_count": 47,
   "metadata": {},
   "outputs": [
    {
     "data": {
      "text/plain": [
       "{'messages': [{'role': 'system',\n",
       "   'content': 'You are a powerful text-to-SQL model. Here is a database schema:\\nstadium :\\nStadium_ID [ INT ] primary_key\\nLocation [ TEXT ]\\nName [ TEXT ]\\nCapacity [ INT ]\\nHighest [ INT ]\\nLowest [ INT ]\\nAverage [ INT ]\\n\\nsinger :\\nSinger_ID [ INT ] primary_key\\nName [ TEXT ]\\nCountry [ TEXT ]\\nSong_Name [ TEXT ]\\nSong_release_year [ TEXT ]\\nAge [ INT ]\\nIs_male [ bool ]\\n\\nconcert :\\nconcert_ID [ INT ] primary_key\\nconcert_Name [ TEXT ]\\nTheme [ TEXT ]\\nStadium_ID [ TEXT ] concert.Stadium_ID = stadium.Stadium_ID\\nYear [ TEXT ]\\n\\nsinger_in_concert :\\nconcert_ID [ INT ] primary_key singer_in_concert.concert_ID = concert.concert_ID\\nSinger_ID [ TEXT ] singer_in_concert.Singer_ID = singer.Singer_ID'},\n",
       "  {'role': 'user',\n",
       "   'content': 'Write an SQL query that answers the following. Respond with only SQL: How many singers do we have?'},\n",
       "  {'role': 'assistant', 'content': 'SELECT count(*) FROM singer;'}]}"
      ]
     },
     "execution_count": 47,
     "metadata": {},
     "output_type": "execute_result"
    }
   ],
   "source": [
    "converted_validation[0]"
   ]
  },
  {
   "cell_type": "code",
   "execution_count": 48,
   "metadata": {},
   "outputs": [],
   "source": [
    "# Save each as a separate file\n",
    "with open('train_oai_format.json', 'w') as f:\n",
    "    json.dump(converted_train, f)\n",
    "\n",
    "with open('validation_oai_format.json', 'w') as f:\n",
    "    json.dump(converted_validation, f)"
   ]
  }
 ],
 "metadata": {
  "kernelspec": {
   "display_name": "spider-eval",
   "language": "python",
   "name": "python3"
  },
  "language_info": {
   "codemirror_mode": {
    "name": "ipython",
    "version": 3
   },
   "file_extension": ".py",
   "mimetype": "text/x-python",
   "name": "python",
   "nbconvert_exporter": "python",
   "pygments_lexer": "ipython3",
   "version": "3.10.12"
  },
  "orig_nbformat": 4
 },
 "nbformat": 4,
 "nbformat_minor": 2
}
