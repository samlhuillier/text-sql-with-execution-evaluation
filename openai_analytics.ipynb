{
 "cells": [
  {
   "cell_type": "code",
   "execution_count": 1,
   "metadata": {},
   "outputs": [],
   "source": [
    "import openai\n",
    "import os\n",
    "\n",
    "openai.api_key = \"sk\""
   ]
  },
  {
   "cell_type": "code",
   "execution_count": 2,
   "metadata": {},
   "outputs": [
    {
     "name": "stdout",
     "output_type": "stream",
     "text": [
      "yo\n"
     ]
    }
   ],
   "source": [
    "import json\n",
    "\n",
    "dataset = []\n",
    "with open('spider-fine-tuning-sample-dataset.jsonl') as f:\n",
    "    for line in f:\n",
    "        dataset.append(json.loads(line))\n",
    "print(\"yo\")"
   ]
  },
  {
   "cell_type": "code",
   "execution_count": 3,
   "metadata": {},
   "outputs": [
    {
     "name": "stdout",
     "output_type": "stream",
     "text": [
      "Num examples: 2000\n",
      "First example:\n",
      "{'role': 'system', 'content': '\\nYou are an assistant that is an expert in generating sqlite SQL queries.\\nHaving the access to database content, generate a correct sqlite SQL query for the given question.\\n### Database content ###\\n        \\nCREATE TABLE trip (\\n\\tid INTEGER, \\n\\tduration INTEGER, \\n\\tstart_date TEXT, \\n\\tstart_station_name TEXT, \\n\\tstart_station_id INTEGER, \\n\\tend_date TEXT, \\n\\tend_station_name TEXT, \\n\\tend_station_id INTEGER, \\n\\tbike_id INTEGER, \\n\\tsubscription_type TEXT, \\n\\tzip_code INTEGER, \\n\\tPRIMARY KEY (id)\\n)\\n/*\\nColumns in trip and 3 examples in each column for high cardinality columns :\\nid : 900645, 900752, 900524\\nduration : 1131, 2146, 1155\\nstart_date : 8/21/2015 17:39, 8/21/2015 17:03, 8/21/2015 17:16\\nstart_station_name : Howard at 2nd, 2nd at Folsom, Market at 10th\\nstart_station_id : 56, 65, 49\\nend_date : 8/21/2015 17:19, 8/21/2015 18:08, 8/21/2015 17:32\\nend_station_name : Howard at 2nd, 2nd at Folsom, Market at 10th\\nend_station_id : 56, 65, 49\\nbike_id : 586, 56, 65\\nzip_code : 94070, 94530, 94040-1724\\n*/\\n/*\\nColumns in trip and all categories for low cardinality columns :\\nsubscription_type : Customer, Subscriber\\n*/\\n \\nCREATE TABLE \"Problems\" (\\n\\tproblem_id INTEGER, \\n\\tproduct_id INTEGER NOT NULL, \\n\\tclosure_authorised_by_staff_id INTEGER NOT NULL, \\n\\treported_by_staff_id INTEGER NOT NULL, \\n\\tdate_problem_reported DATETIME NOT NULL, \\n\\tdate_problem_closed DATETIME, \\n\\tproblem_description VARCHAR(255), \\n\\tother_problem_details VARCHAR(255), \\n\\tPRIMARY KEY (problem_id), \\n\\tFOREIGN KEY(reported_by_staff_id) REFERENCES \"Staff\" (staff_id), \\n\\tFOREIGN KEY(product_id) REFERENCES \"Product\" (product_id), \\n\\tFOREIGN KEY(closure_authorised_by_staff_id) REFERENCES \"Staff\" (staff_id)\\n)\\n/*\\nColumns in Problems and 3 examples in each column for high cardinality columns :\\nproblem_id : 1, 13, 11\\nclosure_authorised_by_staff_id : 1, 13, 2\\ndate_problem_reported : 1995-05-14 08:32:56, 1988-11-07 16:09:31, 1986-11-13 07:30:55\\ndate_problem_closed : 1974-09-20 13:42:19, 1997-10-18 20:09:57, 2004-06-20 01:08:25\\nproblem_description : d, i, s\\n*/\\n/*\\nColumns in Problems and all categories for low cardinality columns :\\nproduct_id : 1, 13, 2, 5, 7, 8, 4, 6, 15\\nreported_by_staff_id : 1, 13, 11, 2, 5, 7, 4, 14, 10\\nother_problem_details : f, m, i, s, k, l, p, v, c\\n*/\\n \\nCREATE TABLE management (\\n\\t\"department_ID\" INTEGER, \\n\\t\"head_ID\" INTEGER, \\n\\ttemporary_acting TEXT, \\n\\tPRIMARY KEY (\"department_ID\", \"head_ID\"), \\n\\tFOREIGN KEY(\"head_ID\") REFERENCES head (\"head_ID\"), \\n\\tFOREIGN KEY(\"department_ID\") REFERENCES department (\"Department_ID\")\\n)\\n/*\\nColumns in management and all categories for low cardinality columns :\\ndepartment_ID : 7, 15, 2, 11\\nhead_ID : 5, 4, 6, 3, 10\\ntemporary_acting : Yes, No\\n*/\\n \\nCREATE TABLE category (\\n\\tcategory_id INTEGER NOT NULL, \\n\\tname VARCHAR(25) NOT NULL, \\n\\tlast_update TIMESTAMP DEFAULT CURRENT_TIMESTAMP NOT NULL, \\n\\tPRIMARY KEY (category_id)\\n)\\n/*\\nColumns in category and 3 examples in each column for high cardinality columns :\\ncategory_id : 1, 16, 13\\nname : Family, Sci-Fi, Action\\n*/\\n/*\\nColumns in category and all categories for low cardinality columns :\\nlast_update : 2006-02-15 04:46:27\\n*/\\n \\nCREATE TABLE ship (\\n\\t\"Ship_ID\" INTEGER, \\n\\t\"Name\" TEXT, \\n\\t\"Type\" TEXT, \\n\\t\"Nationality\" TEXT, \\n\\t\"Tonnage\" INTEGER, \\n\\tPRIMARY KEY (\"Ship_ID\")\\n)\\n/*\\nColumns in ship and all categories for low cardinality columns :\\nShip_ID : 1, 2, 5, 7, 8, 4, 6, 3\\nName : Clan McTavish, Farringford, Appam, Author, Dromonby, Corbridge, Trader, Ariadne\\nType : Battle ship, Cargo ship\\nNationality : United States, United Kingdom\\nTonnage : 3035, 3146, 7781, 3496, 3687, 5816, 3627, 3608\\n*/\\n \\nCREATE TABLE member_attendance (\\n\\t\"Member_ID\" INTEGER, \\n\\t\"Performance_ID\" INTEGER, \\n\\t\"Num_of_Pieces\" INTEGER, \\n\\tPRIMARY KEY (\"Member_ID\", \"Performance_ID\"), \\n\\tFOREIGN KEY(\"Performance_ID\") REFERENCES performance (\"Performance_ID\"), \\n\\tFOREIGN KEY(\"Member_ID\") REFERENCES member (\"Member_ID\")\\n)\\n/*\\nColumns in member_attendance and all categories for low cardinality columns :\\nMember_ID : 1, 11, 2, 5, 7, 4, 3\\nPerformance_ID : 1, 2, 4, 6, 3\\nNum_of_Pieces : 1, 2, 4, 3\\n*/\\n \\nCREATE TABLE department (\\n\\t\"Department_ID\" INTEGER, \\n\\t\"Name\" TEXT, \\n\\t\"Creation\" TEXT, \\n\\t\"Ranking\" INTEGER, \\n\\t\"Budget_in_Billions\" REAL, \\n\\t\"Num_Employees\" REAL, \\n\\tPRIMARY KEY (\"Department_ID\")\\n)\\n/*\\nColumns in department and 3 examples in each column for high cardinality columns :\\nDepartment_ID : 1, 13, 11\\nName : Energy, Interior, Health and Human Services\\nCreation : 1913, 1979, 1989\\nRanking : 1, 13, 11\\nBudget_in_Billions : 10.7, 77.6, 59.7\\nNum_Employees : 112557.0, 3000000.0, 235000.0\\n*/\\n\\n \\nCREATE TABLE chip_model (\\n\\t\"Model_name\" TEXT, \\n\\t\"Launch_year\" REAL, \\n\\t\"RAM_MiB\" REAL, \\n\\t\"ROM_MiB\" REAL, \\n\\t\"Slots\" TEXT, \\n\\t\"WiFi\" TEXT, \\n\\t\"Bluetooth\" TEXT, \\n\\tPRIMARY KEY (\"Model_name\")\\n)\\n/*\\nColumns in chip_model and 3 examples in each column for high cardinality columns :\\nModel_name : X30 mid-range, X50 Advanced, X51 mid-range\\n*/\\n/*\\nColumns in chip_model and all categories for low cardinality columns :\\nLaunch_year : 2002.0, 2005.0, 2004.0, 2003.0\\nRAM_MiB : 32.0, 64.0\\nROM_MiB : 48.0, 256.0, 128.0, 32.0, 64.0\\nSlots : 1CFII,1SD, 1SD\\nWiFi : 802.11b, No\\nBluetooth : 1.2, Yes, No, 1.1\\n*/\\n \\nCREATE TABLE head (\\n\\t\"head_ID\" INTEGER, \\n\\tname TEXT, \\n\\tborn_state TEXT, \\n\\tage REAL, \\n\\tPRIMARY KEY (\"head_ID\")\\n)\\n/*\\nColumns in head and all categories for low cardinality columns :\\nhead_ID : 1, 2, 5, 7, 8, 4, 6, 3, 10, 9\\nname : Jeff Maggert, Pádraig Harrington, Billy Mayfair, K. J. Choi, Dudley Hart, Sergio García, Stewart Cink, Tiger Woods, Nick Faldo, Franklin Langham\\nborn_state : Delaware, Connecticut, Alabama, California, Florida\\nage : 69.0, 67.0, 68.0, 53.0, 56.0, 52.0, 50.0, 43.0\\n*/\\n \\nCREATE TABLE mountain (\\n\\t\"Mountain_ID\" INTEGER, \\n\\t\"Name\" TEXT, \\n\\t\"Height\" REAL, \\n\\t\"Prominence\" REAL, \\n\\t\"Range\" TEXT, \\n\\t\"Country\" TEXT, \\n\\tPRIMARY KEY (\"Mountain_ID\")\\n)\\n/*\\nColumns in mountain and all categories for low cardinality columns :\\nMountain_ID : 1, 2, 5, 7, 4, 6, 3\\nName : Ngaliema / Mt Stanley (Margherita Pk), Mount Kenya (Lenana), Kibo (Uhuru Pk), Ngaliema / Mt Stanley (Savoia Pk), Mount Kenya (Batian), Duwoni / Mt Speke (Vittorio Emanuele Pk), Mawenzi (Hans Meyer Pk)\\nHeight : 5109.0, 5199.0, 5895.0, 4890.0, 4985.0, 4977.0, 5148.0\\nProminence : 720.0, 850.0, 3951.0, 3825.0, 130.0, 5885.0, 110.0\\nRange : Kilimanjaro, Mount Kenya, Rwenzori\\nCountry : DR Congo Uganda, Uganda, Tanzania, Kenya\\n*/\\n \\nCREATE TABLE \"Restaurant_Type\" (\\n\\t\"ResTypeID\" INTEGER, \\n\\t\"ResTypeName\" VARCHAR(40), \\n\\t\"ResTypeDescription\" VARCHAR(100), \\n\\tPRIMARY KEY (\"ResTypeID\")\\n)\\n/*\\nColumns in Restaurant_Type and all categories for low cardinality columns :\\nResTypeID : 1, 2\\nResTypeName : Sandwich, Stir-fry\\nResTypeDescription : Classic Chinese cooking., Simplest there is.\\n*/\\n \\nCREATE TABLE farm_competition (\\n\\t\"Competition_ID\" INTEGER, \\n\\t\"Year\" INTEGER, \\n\\t\"Theme\" TEXT, \\n\\t\"Host_city_ID\" INTEGER, \\n\\t\"Hosts\" TEXT, \\n\\tPRIMARY KEY (\"Competition_ID\"), \\n\\tFOREIGN KEY(\"Host_city_ID\") REFERENCES city (\"City_ID\")\\n)\\n/*\\nColumns in farm_competition and all categories for low cardinality columns :\\nCompetition_ID : 1, 2, 5, 4, 6, 3\\nYear : 2004, 2013, 2005, 2006, 2003, 2002\\nTheme : MTV Cube, Valentine\\'s Day, Codehunters, Carnival M is back!, Aliens, MTV Asia Aid\\nHost_city_ID : 1, 2, 5, 4, 3\\nHosts : Mandy Moore and Ronan Keating, Alicia Keys, Shaggy and Coco Lee, Leehom Wang and Kelly Rowland, Miley Cyrus Jared Leto and Karen Mok, Vanness Wu and Michelle Branch\\n*/\\n \\nCREATE TABLE \"Country\" (\\n\\tid INTEGER, \\n\\tname TEXT, \\n\\tPRIMARY KEY (id)\\n)\\n/*\\nColumns in Country and 3 examples in each column for high cardinality columns :\\nid : 1, 19694, 7809\\nname : Scotland, Italy, Spain\\n*/\\n\\n \\nCREATE TABLE artist (\\n\\tartist_name TEXT(50) NOT NULL, \\n\\tcountry TEXT(20), \\n\\tgender TEXT(20), \\n\\tpreferred_genre TEXT(50), \\n\\tCONSTRAINT a_name PRIMARY KEY (artist_name), \\n\\tFOREIGN KEY(preferred_genre) REFERENCES genre (g_name) ON DELETE CASCADE\\n)\\n/*\\nColumns in artist and all categories for low cardinality columns :\\nartist_name : Prity, Michel, Topu, Shrikanta, Enrique, Farida\\ncountry : India, UK, USA, Bangladesh\\ngender : Male, Female\\npreferred_genre : tagore, folk, modern, nazrul, blues, pop\\n*/\\n \\nCREATE TABLE \"Organizations\" (\\n\\torganization_id INTEGER NOT NULL, \\n\\tparent_organization_id INTEGER, \\n\\torganization_details VARCHAR(255), \\n\\tPRIMARY KEY (organization_id)\\n)\\n/*\\nColumns in Organizations and all categories for low cardinality columns :\\norganization_id : 7, 8, 10\\nparent_organization_id : 7, 8\\norganization_details : Denesik and Sons Party, Reinger, Hudson and Nolan Group, Robel-Schulist Group\\n*/\\n \\nCREATE TABLE school (\\n\\t\"School_ID\" INTEGER, \\n\\t\"School\" TEXT, \\n\\t\"Location\" TEXT, \\n\\t\"Enrollment\" REAL, \\n\\t\"Founded\" REAL, \\n\\t\"Denomination\" TEXT, \\n\\t\"Boys_or_Girls\" TEXT, \\n\\t\"Day_or_Boarding\" TEXT, \\n\\t\"Year_Entered_Competition\" REAL, \\n\\t\"School_Colors\" TEXT, \\n\\tPRIMARY KEY (\"School_ID\")\\n)\\n/*\\nColumns in school and all categories for low cardinality columns :\\nSchool_ID : 1, 2, 5, 4, 6, 3\\nSchool : St Aloysius\\' College, Cranbrook School, Waverley College, Knox Grammar School, Barker College, Trinity Grammar School\\nLocation : Hornsby, Summer Hill, Waverley, Bellevue Hill, Milsons Point, Wahroonga\\nEnrollment : 1000.0, 1850.0, 2200.0, 1200.0, 2300.0, 1430.0\\nFounded : 1918.0, 1924.0, 1913.0, 1879.0, 1903.0, 1890.0\\nDenomination : Catholic, Uniting Church, Anglican\\nBoys_or_Girls : Boys only to Yr 9 Co-ed Year 10 to 12, Boys\\nDay_or_Boarding : Day, Day & Boarding\\nYear_Entered_Competition : 1944.0, 1929.0\\nSchool_Colors : Royal Blue and Gold, Black & Blue, Red, White & Blue, Red & Blue, Green and White\\n*/\\n \\nCREATE TABLE flight (\\n\\tid INTEGER, \\n\\t\"Vehicle_Flight_number\" TEXT, \\n\\t\"Date\" TEXT, \\n\\t\"Pilot\" TEXT, \\n\\t\"Velocity\" REAL, \\n\\t\"Altitude\" REAL, \\n\\tairport_id INTEGER, \\n\\tcompany_id INTEGER, \\n\\tPRIMARY KEY (id), \\n\\tFOREIGN KEY(company_id) REFERENCES operate_company (id), \\n\\tFOREIGN KEY(airport_id) REFERENCES airport (id)\\n)\\n/*\\nColumns in flight and 3 examples in each column for high cardinality columns :\\nid : 1, 13, 11\\nVehicle_Flight_number : M2-F1 #14, M2-F1 #61, M2-F1 #0\\nDate : July 16, 1965, May 19, 1964, March 28, 1966\\n*/\\n/*\\nColumns in flight and all categories for low cardinality columns :\\nPilot : Thompson, Peterson\\nVelocity : 240.0, 135.0\\nAltitude : 3650.0, 0.0\\nairport_id : 1, 2, 5, 8, 4, 6, 3, 9\\ncompany_id : 1, 13, 11, 2, 5, 7, 4, 6, 3, 9\\n*/\\n \\nCREATE TABLE \"Type_Of_Restaurant\" (\\n\\t\"ResID\" INTEGER, \\n\\t\"ResTypeID\" INTEGER, \\n\\tFOREIGN KEY(\"ResID\") REFERENCES \"Restaurant\" (\"ResID\"), \\n\\tFOREIGN KEY(\"ResTypeID\") REFERENCES \"Restaurant_Type\" (\"ResTypeID\")\\n)\\n/*\\nColumns in Type_Of_Restaurant and all categories for low cardinality columns :\\nResID : 1, 2\\nResTypeID : 1, 2\\n*/\\n \\nCREATE TABLE journalist (\\n\\t\"journalist_ID\" INTEGER, \\n\\t\"Name\" TEXT, \\n\\t\"Nationality\" TEXT, \\n\\t\"Age\" TEXT, \\n\\t\"Years_working\" INTEGER, \\n\\tPRIMARY KEY (\"journalist_ID\")\\n)\\n/*\\nColumns in journalist and 3 examples in each column for high cardinality columns :\\njournalist_ID : 1, 11, 2\\nName : Jack Meaney, Herbert Swindells, Jackie Waring\\n*/\\n/*\\nColumns in journalist and all categories for low cardinality columns :\\nNationality : Northern Ireland, Wales, England\\nAge : 37, 28, 25, 33, 34, 43, 27, 29\\nYears_working : 1, 5, 7, 8, 21, 6, 3, 12, 10, 9\\n*/\\n \\nCREATE TABLE list (\\n\\t\"LastName\" TEXT, \\n\\t\"FirstName\" TEXT, \\n\\t\"Grade\" INTEGER, \\n\\t\"Classroom\" INTEGER, \\n\\tPRIMARY KEY (\"LastName\", \"FirstName\")\\n)\\n/*\\nColumns in list and 3 examples in each column for high cardinality columns :\\nLastName : HOUTCHENS, GELL, FLACHS\\nFirstName :  RAY,  EMILE,  PATRINA\\nClassroom : 109, 110, 106\\n*/\\n/*\\nColumns in list and all categories for low cardinality columns :\\nGrade : 1, 2, 5, 4, 6, 3, 0\\n*/\\n'}\n",
      "{'role': 'user', 'content': 'How many heads of the departments are older than 56 ?'}\n",
      "{'role': 'assistant', 'content': \"\\nTo construct the query, I'll be working with the following tables: head.\\nFrom these tables, I'll be using the following columns: age.\\nThe SQL query I'll be generating is:\\nSELECT count(*) FROM head WHERE age  >  56\"}\n"
     ]
    }
   ],
   "source": [
    "# Initial dataset stats\n",
    "print(\"Num examples:\", len(dataset))\n",
    "print(\"First example:\")\n",
    "for message in dataset[0][\"messages\"]:\n",
    "    print(message)"
   ]
  },
  {
   "cell_type": "code",
   "execution_count": 4,
   "metadata": {},
   "outputs": [
    {
     "name": "stdout",
     "output_type": "stream",
     "text": [
      "No errors found\n"
     ]
    }
   ],
   "source": [
    "from collections import defaultdict\n",
    "# Format error checks\n",
    "format_errors = defaultdict(int)\n",
    "\n",
    "for ex in dataset:\n",
    "    if not isinstance(ex, dict):\n",
    "        format_errors[\"data_type\"] += 1\n",
    "        continue\n",
    "\n",
    "    messages = ex.get(\"messages\", None)\n",
    "    if not messages:\n",
    "        format_errors[\"missing_messages_list\"] += 1\n",
    "        continue\n",
    "\n",
    "    for message in messages:\n",
    "        if \"role\" not in message or \"content\" not in message:\n",
    "            format_errors[\"message_missing_key\"] += 1\n",
    "\n",
    "        if any(k not in (\"role\", \"content\", \"name\") for k in message):\n",
    "            format_errors[\"message_unrecognized_key\"] += 1\n",
    "\n",
    "        if message.get(\"role\", None) not in (\"system\", \"user\", \"assistant\"):\n",
    "            format_errors[\"unrecognized_role\"] += 1\n",
    "\n",
    "        content = message.get(\"content\", None)\n",
    "        if not content or not isinstance(content, str):\n",
    "            format_errors[\"missing_content\"] += 1\n",
    "\n",
    "    if not any(message.get(\"role\", None) == \"assistant\" for message in messages):\n",
    "        format_errors[\"example_missing_assistant_message\"] += 1\n",
    "\n",
    "if format_errors:\n",
    "    print(\"Found errors:\")\n",
    "    for k, v in format_errors.items():\n",
    "        print(f\"{k}: {v}\")\n",
    "else:\n",
    "    print(\"No errors found\")"
   ]
  },
  {
   "cell_type": "code",
   "execution_count": 7,
   "metadata": {},
   "outputs": [],
   "source": [
    "import tiktoken\n",
    "import numpy as np\n",
    "# Token counting functions\n",
    "encoding = tiktoken.get_encoding(\"cl100k_base\")\n",
    "\n",
    "# not exact!\n",
    "# simplified from https://github.com/openai/openai-cookbook/blob/main/examples/How_to_count_tokens_with_tiktoken.ipynb\n",
    "def num_tokens_from_messages(messages, tokens_per_message=3, tokens_per_name=1):\n",
    "    num_tokens = 0\n",
    "    for message in messages:\n",
    "        num_tokens += tokens_per_message\n",
    "        for key, value in message.items():\n",
    "            num_tokens += len(encoding.encode(value))\n",
    "            if key == \"name\":\n",
    "                num_tokens += tokens_per_name\n",
    "    num_tokens += 3\n",
    "    return num_tokens\n",
    "\n",
    "def num_assistant_tokens_from_messages(messages):\n",
    "    num_tokens = 0\n",
    "    for message in messages:\n",
    "        if message[\"role\"] == \"assistant\":\n",
    "            num_tokens += len(encoding.encode(message[\"content\"]))\n",
    "    return num_tokens\n",
    "\n",
    "def print_distribution(values, name):\n",
    "    print(f\"\\n#### Distribution of {name}:\")\n",
    "    print(f\"min / max: {min(values)}, {max(values)}\")\n",
    "    print(f\"mean / median: {np.mean(values)}, {np.median(values)}\")\n",
    "    print(f\"p5 / p95: {np.quantile(values, 0.1)}, {np.quantile(values, 0.9)}\")"
   ]
  },
  {
   "cell_type": "code",
   "execution_count": 8,
   "metadata": {},
   "outputs": [
    {
     "name": "stdout",
     "output_type": "stream",
     "text": [
      "Num examples missing system message: 0\n",
      "Num examples missing user message: 0\n",
      "\n",
      "#### Distribution of num_messages_per_example:\n",
      "min / max: 3, 3\n",
      "mean / median: 3.0, 3.0\n",
      "p5 / p95: 3.0, 3.0\n",
      "\n",
      "#### Distribution of num_total_tokens_per_example:\n",
      "min / max: 3219, 4018\n",
      "mean / median: 3891.0655, 3911.5\n",
      "p5 / p95: 3766.0, 3996.0\n",
      "\n",
      "#### Distribution of num_assistant_tokens_per_example:\n",
      "min / max: 44, 206\n",
      "mean / median: 78.3795, 65.0\n",
      "p5 / p95: 50.0, 121.0\n",
      "\n",
      "0 examples may be over the 4096 token limit, they will be truncated during fine-tuning\n"
     ]
    }
   ],
   "source": [
    "# Warnings and tokens counts\n",
    "n_missing_system = 0\n",
    "n_missing_user = 0\n",
    "n_messages = []\n",
    "convo_lens = []\n",
    "assistant_message_lens = []\n",
    "\n",
    "for ex in dataset:\n",
    "    messages = ex[\"messages\"]\n",
    "    if not any(message[\"role\"] == \"system\" for message in messages):\n",
    "        n_missing_system += 1\n",
    "    if not any(message[\"role\"] == \"user\" for message in messages):\n",
    "        n_missing_user += 1\n",
    "    n_messages.append(len(messages))\n",
    "    convo_lens.append(num_tokens_from_messages(messages))\n",
    "    assistant_message_lens.append(num_assistant_tokens_from_messages(messages))\n",
    "\n",
    "print(\"Num examples missing system message:\", n_missing_system)\n",
    "print(\"Num examples missing user message:\", n_missing_user)\n",
    "print_distribution(n_messages, \"num_messages_per_example\")\n",
    "print_distribution(convo_lens, \"num_total_tokens_per_example\")\n",
    "print_distribution(assistant_message_lens, \"num_assistant_tokens_per_example\")\n",
    "n_too_long = sum(l > 4096 for l in convo_lens)\n",
    "print(f\"\\n{n_too_long} examples may be over the 4096 token limit, they will be truncated during fine-tuning\")"
   ]
  },
  {
   "cell_type": "code",
   "execution_count": 9,
   "metadata": {},
   "outputs": [
    {
     "name": "stdout",
     "output_type": "stream",
     "text": [
      "Dataset has ~7782131 tokens that will be charged for during training\n",
      "By default, you'll train for 1 epochs on this dataset\n",
      "By default, you'll be charged for ~7782131 tokens\n",
      "See pricing page to estimate total costs\n"
     ]
    }
   ],
   "source": [
    "# Pricing and default n_epochs estimate\n",
    "MAX_TOKENS_PER_EXAMPLE = 4096\n",
    "\n",
    "TARGET_EPOCHS = 1\n",
    "MIN_TARGET_EXAMPLES = 100\n",
    "MAX_TARGET_EXAMPLES = 25000\n",
    "MIN_DEFAULT_EPOCHS = 3\n",
    "MAX_DEFAULT_EPOCHS = 25\n",
    "\n",
    "n_epochs = TARGET_EPOCHS\n",
    "n_train_examples = len(dataset)\n",
    "if n_train_examples * TARGET_EPOCHS < MIN_TARGET_EXAMPLES:\n",
    "    n_epochs = min(MAX_DEFAULT_EPOCHS, MIN_TARGET_EXAMPLES // n_train_examples)\n",
    "elif n_train_examples * TARGET_EPOCHS > MAX_TARGET_EXAMPLES:\n",
    "    n_epochs = max(MIN_DEFAULT_EPOCHS, MAX_TARGET_EXAMPLES // n_train_examples)\n",
    "\n",
    "n_billing_tokens_in_dataset = sum(min(MAX_TOKENS_PER_EXAMPLE, length) for length in convo_lens)\n",
    "print(f\"Dataset has ~{n_billing_tokens_in_dataset} tokens that will be charged for during training\")\n",
    "print(f\"By default, you'll train for {n_epochs} epochs on this dataset\")\n",
    "print(f\"By default, you'll be charged for ~{n_epochs * n_billing_tokens_in_dataset} tokens\")\n",
    "print(\"See pricing page to estimate total costs\")\n"
   ]
  },
  {
   "cell_type": "code",
   "execution_count": null,
   "metadata": {},
   "outputs": [],
   "source": []
  }
 ],
 "metadata": {
  "kernelspec": {
   "display_name": "din-sql",
   "language": "python",
   "name": "python3"
  },
  "language_info": {
   "codemirror_mode": {
    "name": "ipython",
    "version": 3
   },
   "file_extension": ".py",
   "mimetype": "text/x-python",
   "name": "python",
   "nbconvert_exporter": "python",
   "pygments_lexer": "ipython3",
   "version": "3.10.12"
  },
  "orig_nbformat": 4
 },
 "nbformat": 4,
 "nbformat_minor": 2
}
