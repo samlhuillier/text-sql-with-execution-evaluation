{
 "cells": [
  {
   "cell_type": "code",
   "execution_count": 1,
   "metadata": {},
   "outputs": [
    {
     "name": "stdout",
     "output_type": "stream",
     "text": [
      "Collecting git+https://github.com/huggingface/transformers.git@main\n",
      "  Cloning https://github.com/huggingface/transformers.git (to revision main) to /tmp/pip-req-build-no10rb4l\n",
      "  Running command git clone --filter=blob:none --quiet https://github.com/huggingface/transformers.git /tmp/pip-req-build-no10rb4l\n"
     ]
    },
    {
     "name": "stdout",
     "output_type": "stream",
     "text": [
      "  Resolved https://github.com/huggingface/transformers.git to commit 5af2c6269672cda01c24ad48fab13f14a3ffb746\n",
      "  Installing build dependencies ... \u001b[?25ldone\n",
      "\u001b[?25h  Getting requirements to build wheel ... \u001b[?25ldone\n",
      "\u001b[?25h  Preparing metadata (pyproject.toml) ... \u001b[?25ldone\n",
      "\u001b[?25hCollecting bitsandbytes\n",
      "  Downloading bitsandbytes-0.41.1-py3-none-any.whl (92.6 MB)\n",
      "\u001b[2K     \u001b[90m━━━━━━━━━━━━━━━━━━━━━━━━━━━━━━━━━━━━━━━━\u001b[0m \u001b[32m92.6/92.6 MB\u001b[0m \u001b[31m25.0 MB/s\u001b[0m eta \u001b[36m0:00:00\u001b[0m00:01\u001b[0m00:01\u001b[0m\n",
      "\u001b[?25hCollecting accelerate==0.20.3\n",
      "  Downloading accelerate-0.20.3-py3-none-any.whl (227 kB)\n",
      "\u001b[2K     \u001b[90m━━━━━━━━━━━━━━━━━━━━━━━━━━━━━━━━━━━━━━\u001b[0m \u001b[32m227.6/227.6 kB\u001b[0m \u001b[31m65.8 MB/s\u001b[0m eta \u001b[36m0:00:00\u001b[0m\n",
      "\u001b[?25hCollecting numpy>=1.17 (from accelerate==0.20.3)\n",
      "  Downloading numpy-1.25.2-cp311-cp311-manylinux_2_17_x86_64.manylinux2014_x86_64.whl (18.2 MB)\n",
      "\u001b[2K     \u001b[90m━━━━━━━━━━━━━━━━━━━━━━━━━━━━━━━━━━━━━━━━\u001b[0m \u001b[32m18.2/18.2 MB\u001b[0m \u001b[31m47.6 MB/s\u001b[0m eta \u001b[36m0:00:00\u001b[0m00:01\u001b[0m00:01\u001b[0m\n",
      "\u001b[?25hRequirement already satisfied: packaging>=20.0 in /root/miniconda3/lib/python3.11/site-packages (from accelerate==0.20.3) (23.0)\n",
      "Requirement already satisfied: psutil in /root/miniconda3/lib/python3.11/site-packages (from accelerate==0.20.3) (5.9.0)\n",
      "Collecting pyyaml (from accelerate==0.20.3)\n",
      "  Downloading PyYAML-6.0.1-cp311-cp311-manylinux_2_17_x86_64.manylinux2014_x86_64.whl (757 kB)\n",
      "\u001b[2K     \u001b[90m━━━━━━━━━━━━━━━━━━━━━━━━━━━━━━━━━━━━━\u001b[0m \u001b[32m757.7/757.7 kB\u001b[0m \u001b[31m127.3 MB/s\u001b[0m eta \u001b[36m0:00:00\u001b[0m\n",
      "\u001b[?25hCollecting torch>=1.6.0 (from accelerate==0.20.3)\n",
      "  Downloading torch-2.0.1-cp311-cp311-manylinux1_x86_64.whl (619.9 MB)\n",
      "\u001b[2K     \u001b[90m━━━━━━━━━━━━━━━━━━━━━━━━━━━━━━━━━━━━━━━\u001b[0m \u001b[32m619.9/619.9 MB\u001b[0m \u001b[31m5.2 MB/s\u001b[0m eta \u001b[36m0:00:00\u001b[0m00:01\u001b[0m00:01\u001b[0m\n",
      "\u001b[?25hCollecting filelock (from transformers==4.34.0.dev0)\n",
      "  Downloading filelock-3.12.3-py3-none-any.whl (11 kB)\n",
      "Collecting huggingface-hub<1.0,>=0.15.1 (from transformers==4.34.0.dev0)\n",
      "  Downloading huggingface_hub-0.17.1-py3-none-any.whl (294 kB)\n",
      "\u001b[2K     \u001b[90m━━━━━━━━━━━━━━━━━━━━━━━━━━━━━━━━━━━━━━\u001b[0m \u001b[32m294.8/294.8 kB\u001b[0m \u001b[31m45.5 MB/s\u001b[0m eta \u001b[36m0:00:00\u001b[0m\n",
      "\u001b[?25hCollecting regex!=2019.12.17 (from transformers==4.34.0.dev0)\n",
      "  Downloading regex-2023.8.8-cp311-cp311-manylinux_2_17_x86_64.manylinux2014_x86_64.whl (782 kB)\n",
      "\u001b[2K     \u001b[90m━━━━━━━━━━━━━━━━━━━━━━━━━━━━━━━━━━━━━━\u001b[0m \u001b[32m782.4/782.4 kB\u001b[0m \u001b[31m82.8 MB/s\u001b[0m eta \u001b[36m0:00:00\u001b[0m\n",
      "\u001b[?25hRequirement already satisfied: requests in /root/miniconda3/lib/python3.11/site-packages (from transformers==4.34.0.dev0) (2.29.0)\n",
      "Collecting tokenizers!=0.11.3,<0.14,>=0.11.1 (from transformers==4.34.0.dev0)\n",
      "  Downloading tokenizers-0.13.3-cp311-cp311-manylinux_2_17_x86_64.manylinux2014_x86_64.whl (7.8 MB)\n",
      "\u001b[2K     \u001b[90m━━━━━━━━━━━━━━━━━━━━━━━━━━━━━━━━━━━━━━━━\u001b[0m \u001b[32m7.8/7.8 MB\u001b[0m \u001b[31m76.0 MB/s\u001b[0m eta \u001b[36m0:00:00\u001b[0ma \u001b[36m0:00:01\u001b[0m\n",
      "\u001b[?25hCollecting safetensors>=0.3.1 (from transformers==4.34.0.dev0)\n",
      "  Downloading safetensors-0.3.3-cp311-cp311-manylinux_2_17_x86_64.manylinux2014_x86_64.whl (1.3 MB)\n",
      "\u001b[2K     \u001b[90m━━━━━━━━━━━━━━━━━━━━━━━━━━━━━━━━━━━━━━━━\u001b[0m \u001b[32m1.3/1.3 MB\u001b[0m \u001b[31m105.6 MB/s\u001b[0m eta \u001b[36m0:00:00\u001b[0m\n",
      "\u001b[?25hRequirement already satisfied: tqdm>=4.27 in /root/miniconda3/lib/python3.11/site-packages (from transformers==4.34.0.dev0) (4.65.0)\n",
      "Collecting fsspec (from huggingface-hub<1.0,>=0.15.1->transformers==4.34.0.dev0)\n",
      "  Downloading fsspec-2023.9.0-py3-none-any.whl (173 kB)\n",
      "\u001b[2K     \u001b[90m━━━━━━━━━━━━━━━━━━━━━━━━━━━━━━━━━━━━━━\u001b[0m \u001b[32m173.2/173.2 kB\u001b[0m \u001b[31m43.4 MB/s\u001b[0m eta \u001b[36m0:00:00\u001b[0m\n",
      "\u001b[?25hRequirement already satisfied: typing-extensions>=3.7.4.3 in /root/miniconda3/lib/python3.11/site-packages (from huggingface-hub<1.0,>=0.15.1->transformers==4.34.0.dev0) (4.7.1)\n",
      "Collecting sympy (from torch>=1.6.0->accelerate==0.20.3)\n",
      "  Downloading sympy-1.12-py3-none-any.whl (5.7 MB)\n",
      "\u001b[2K     \u001b[90m━━━━━━━━━━━━━━━━━━━━━━━━━━━━━━━━━━━━━━━━\u001b[0m \u001b[32m5.7/5.7 MB\u001b[0m \u001b[31m76.0 MB/s\u001b[0m eta \u001b[36m0:00:00\u001b[0m00:01\u001b[0m00:01\u001b[0m\n",
      "\u001b[?25hCollecting networkx (from torch>=1.6.0->accelerate==0.20.3)\n",
      "  Downloading networkx-3.1-py3-none-any.whl (2.1 MB)\n",
      "\u001b[2K     \u001b[90m━━━━━━━━━━━━━━━━━━━━━━━━━━━━━━━━━━━━━━━━\u001b[0m \u001b[32m2.1/2.1 MB\u001b[0m \u001b[31m100.6 MB/s\u001b[0m eta \u001b[36m0:00:00\u001b[0m\n",
      "\u001b[?25hCollecting jinja2 (from torch>=1.6.0->accelerate==0.20.3)\n",
      "  Downloading Jinja2-3.1.2-py3-none-any.whl (133 kB)\n",
      "\u001b[2K     \u001b[90m━━━━━━━━━━━━━━━━━━━━━━━━━━━━━━━━━━━━━━\u001b[0m \u001b[32m133.1/133.1 kB\u001b[0m \u001b[31m52.5 MB/s\u001b[0m eta \u001b[36m0:00:00\u001b[0m\n",
      "\u001b[?25hCollecting nvidia-cuda-nvrtc-cu11==11.7.99 (from torch>=1.6.0->accelerate==0.20.3)\n",
      "  Downloading nvidia_cuda_nvrtc_cu11-11.7.99-2-py3-none-manylinux1_x86_64.whl (21.0 MB)\n",
      "\u001b[2K     \u001b[90m━━━━━━━━━━━━━━━━━━━━━━━━━━━━━━━━━━━━━━━━\u001b[0m \u001b[32m21.0/21.0 MB\u001b[0m \u001b[31m55.0 MB/s\u001b[0m eta \u001b[36m0:00:00\u001b[0m00:01\u001b[0m00:01\u001b[0m\n",
      "\u001b[?25hCollecting nvidia-cuda-runtime-cu11==11.7.99 (from torch>=1.6.0->accelerate==0.20.3)\n",
      "  Downloading nvidia_cuda_runtime_cu11-11.7.99-py3-none-manylinux1_x86_64.whl (849 kB)\n",
      "\u001b[2K     \u001b[90m━━━━━━━━━━━━━━━━━━━━━━━━━━━━━━━━━━━━━━\u001b[0m \u001b[32m849.3/849.3 kB\u001b[0m \u001b[31m98.6 MB/s\u001b[0m eta \u001b[36m0:00:00\u001b[0m\n",
      "\u001b[?25hCollecting nvidia-cuda-cupti-cu11==11.7.101 (from torch>=1.6.0->accelerate==0.20.3)\n",
      "  Downloading nvidia_cuda_cupti_cu11-11.7.101-py3-none-manylinux1_x86_64.whl (11.8 MB)\n",
      "\u001b[2K     \u001b[90m━━━━━━━━━━━━━━━━━━━━━━━━━━━━━━━━━━━━━━━━\u001b[0m \u001b[32m11.8/11.8 MB\u001b[0m \u001b[31m68.0 MB/s\u001b[0m eta \u001b[36m0:00:00\u001b[0m00:01\u001b[0m0:01\u001b[0m\n",
      "\u001b[?25hCollecting nvidia-cudnn-cu11==8.5.0.96 (from torch>=1.6.0->accelerate==0.20.3)\n",
      "  Downloading nvidia_cudnn_cu11-8.5.0.96-2-py3-none-manylinux1_x86_64.whl (557.1 MB)\n",
      "\u001b[2K     \u001b[90m━━━━━━━━━━━━━━━━━━━━━━━━━━━━━━━━━━━━━━━\u001b[0m \u001b[32m557.1/557.1 MB\u001b[0m \u001b[31m5.5 MB/s\u001b[0m eta \u001b[36m0:00:00\u001b[0m00:01\u001b[0m00:01\u001b[0m\n",
      "\u001b[?25hCollecting nvidia-cublas-cu11==11.10.3.66 (from torch>=1.6.0->accelerate==0.20.3)\n",
      "  Downloading nvidia_cublas_cu11-11.10.3.66-py3-none-manylinux1_x86_64.whl (317.1 MB)\n",
      "\u001b[2K     \u001b[90m━━━━━━━━━━━━━━━━━━━━━━━━━━━━━━━━━━━━━━━\u001b[0m \u001b[32m317.1/317.1 MB\u001b[0m \u001b[31m9.6 MB/s\u001b[0m eta \u001b[36m0:00:00\u001b[0m00:01\u001b[0m00:01\u001b[0m\n",
      "\u001b[?25hCollecting nvidia-cufft-cu11==10.9.0.58 (from torch>=1.6.0->accelerate==0.20.3)\n",
      "  Downloading nvidia_cufft_cu11-10.9.0.58-py3-none-manylinux1_x86_64.whl (168.4 MB)\n",
      "\u001b[2K     \u001b[90m━━━━━━━━━━━━━━━━━━━━━━━━━━━━━━━━━━━━━━\u001b[0m \u001b[32m168.4/168.4 MB\u001b[0m \u001b[31m13.8 MB/s\u001b[0m eta \u001b[36m0:00:00\u001b[0m00:01\u001b[0m00:01\u001b[0m\n",
      "\u001b[?25hCollecting nvidia-curand-cu11==10.2.10.91 (from torch>=1.6.0->accelerate==0.20.3)\n",
      "  Downloading nvidia_curand_cu11-10.2.10.91-py3-none-manylinux1_x86_64.whl (54.6 MB)\n",
      "\u001b[2K     \u001b[90m━━━━━━━━━━━━━━━━━━━━━━━━━━━━━━━━━━━━━━━━\u001b[0m \u001b[32m54.6/54.6 MB\u001b[0m \u001b[31m31.9 MB/s\u001b[0m eta \u001b[36m0:00:00\u001b[0m00:01\u001b[0m00:01\u001b[0m\n",
      "\u001b[?25hCollecting nvidia-cusolver-cu11==11.4.0.1 (from torch>=1.6.0->accelerate==0.20.3)\n",
      "  Downloading nvidia_cusolver_cu11-11.4.0.1-2-py3-none-manylinux1_x86_64.whl (102.6 MB)\n",
      "\u001b[2K     \u001b[90m━━━━━━━━━━━━━━━━━━━━━━━━━━━━━━━━━━━━━━\u001b[0m \u001b[32m102.6/102.6 MB\u001b[0m \u001b[31m22.5 MB/s\u001b[0m eta \u001b[36m0:00:00\u001b[0m00:01\u001b[0m00:01\u001b[0m\n",
      "\u001b[?25hCollecting nvidia-cusparse-cu11==11.7.4.91 (from torch>=1.6.0->accelerate==0.20.3)\n",
      "  Downloading nvidia_cusparse_cu11-11.7.4.91-py3-none-manylinux1_x86_64.whl (173.2 MB)\n",
      "\u001b[2K     \u001b[90m━━━━━━━━━━━━━━━━━━━━━━━━━━━━━━━━━━━━━━\u001b[0m \u001b[32m173.2/173.2 MB\u001b[0m \u001b[31m15.7 MB/s\u001b[0m eta \u001b[36m0:00:00\u001b[0m00:01\u001b[0m00:01\u001b[0m\n",
      "\u001b[?25hCollecting nvidia-nccl-cu11==2.14.3 (from torch>=1.6.0->accelerate==0.20.3)\n",
      "  Downloading nvidia_nccl_cu11-2.14.3-py3-none-manylinux1_x86_64.whl (177.1 MB)\n",
      "\u001b[2K     \u001b[90m━━━━━━━━━━━━━━━━━━━━━━━━━━━━━━━━━━━━━━\u001b[0m \u001b[32m177.1/177.1 MB\u001b[0m \u001b[31m15.8 MB/s\u001b[0m eta \u001b[36m0:00:00\u001b[0m00:01\u001b[0m00:01\u001b[0m\n",
      "\u001b[?25hCollecting nvidia-nvtx-cu11==11.7.91 (from torch>=1.6.0->accelerate==0.20.3)\n",
      "  Downloading nvidia_nvtx_cu11-11.7.91-py3-none-manylinux1_x86_64.whl (98 kB)\n",
      "\u001b[2K     \u001b[90m━━━━━━━━━━━━━━━━━━━━━━━━━━━━━━━━━━━━━━━━\u001b[0m \u001b[32m98.6/98.6 kB\u001b[0m \u001b[31m39.2 MB/s\u001b[0m eta \u001b[36m0:00:00\u001b[0m\n",
      "\u001b[?25hCollecting triton==2.0.0 (from torch>=1.6.0->accelerate==0.20.3)\n",
      "  Downloading triton-2.0.0-1-cp311-cp311-manylinux2014_x86_64.manylinux_2_17_x86_64.whl (63.3 MB)\n",
      "\u001b[2K     \u001b[90m━━━━━━━━━━━━━━━━━━━━━━━━━━━━━━━━━━━━━━━━\u001b[0m \u001b[32m63.3/63.3 MB\u001b[0m \u001b[31m32.9 MB/s\u001b[0m eta \u001b[36m0:00:00\u001b[0m00:01\u001b[0m00:01\u001b[0m\n",
      "\u001b[?25hRequirement already satisfied: setuptools in /root/miniconda3/lib/python3.11/site-packages (from nvidia-cublas-cu11==11.10.3.66->torch>=1.6.0->accelerate==0.20.3) (67.8.0)\n",
      "Requirement already satisfied: wheel in /root/miniconda3/lib/python3.11/site-packages (from nvidia-cublas-cu11==11.10.3.66->torch>=1.6.0->accelerate==0.20.3) (0.38.4)\n",
      "Collecting cmake (from triton==2.0.0->torch>=1.6.0->accelerate==0.20.3)\n",
      "  Downloading cmake-3.27.4.1-py2.py3-none-manylinux2014_x86_64.manylinux_2_17_x86_64.whl (26.1 MB)\n",
      "\u001b[2K     \u001b[90m━━━━━━━━━━━━━━━━━━━━━━━━━━━━━━━━━━━━━━━━\u001b[0m \u001b[32m26.1/26.1 MB\u001b[0m \u001b[31m52.9 MB/s\u001b[0m eta \u001b[36m0:00:00\u001b[0m00:01\u001b[0m00:01\u001b[0m\n",
      "\u001b[?25hCollecting lit (from triton==2.0.0->torch>=1.6.0->accelerate==0.20.3)\n",
      "  Downloading lit-16.0.6.tar.gz (153 kB)\n",
      "\u001b[2K     \u001b[90m━━━━━━━━━━━━━━━━━━━━━━━━━━━━━━━━━━━━━━\u001b[0m \u001b[32m153.7/153.7 kB\u001b[0m \u001b[31m46.8 MB/s\u001b[0m eta \u001b[36m0:00:00\u001b[0m\n",
      "\u001b[?25h  Installing build dependencies ... \u001b[?25ldone\n",
      "\u001b[?25h  Getting requirements to build wheel ... \u001b[?25ldone\n",
      "\u001b[?25h  Installing backend dependencies ... \u001b[?25ldone\n",
      "\u001b[?25h  Preparing metadata (pyproject.toml) ... \u001b[?25ldone\n",
      "\u001b[?25hRequirement already satisfied: charset-normalizer<4,>=2 in /root/miniconda3/lib/python3.11/site-packages (from requests->transformers==4.34.0.dev0) (2.0.4)\n",
      "Requirement already satisfied: idna<4,>=2.5 in /root/miniconda3/lib/python3.11/site-packages (from requests->transformers==4.34.0.dev0) (3.4)\n",
      "Requirement already satisfied: urllib3<1.27,>=1.21.1 in /root/miniconda3/lib/python3.11/site-packages (from requests->transformers==4.34.0.dev0) (1.26.16)\n",
      "Requirement already satisfied: certifi>=2017.4.17 in /root/miniconda3/lib/python3.11/site-packages (from requests->transformers==4.34.0.dev0) (2023.7.22)\n",
      "Collecting MarkupSafe>=2.0 (from jinja2->torch>=1.6.0->accelerate==0.20.3)\n",
      "  Downloading MarkupSafe-2.1.3-cp311-cp311-manylinux_2_17_x86_64.manylinux2014_x86_64.whl (28 kB)\n",
      "Collecting mpmath>=0.19 (from sympy->torch>=1.6.0->accelerate==0.20.3)\n",
      "  Downloading mpmath-1.3.0-py3-none-any.whl (536 kB)\n",
      "\u001b[2K     \u001b[90m━━━━━━━━━━━━━━━━━━━━━━━━━━━━━━━━━━━━━━\u001b[0m \u001b[32m536.2/536.2 kB\u001b[0m \u001b[31m85.8 MB/s\u001b[0m eta \u001b[36m0:00:00\u001b[0m\n",
      "\u001b[?25hBuilding wheels for collected packages: transformers, lit\n",
      "  Building wheel for transformers (pyproject.toml) ... \u001b[?25ldone\n",
      "\u001b[?25h  Created wheel for transformers: filename=transformers-4.34.0.dev0-py3-none-any.whl size=7640440 sha256=2fcb14c73aaafbff3071fb998f7ed394c29da853ae340be01d91f11fdee4de20\n",
      "  Stored in directory: /tmp/pip-ephem-wheel-cache-zxgijv9n/wheels/bb/cb/6e/60d1799a10be9a6eeb01cb85fd51411adbfd9bc95d885ac15e\n",
      "  Building wheel for lit (pyproject.toml) ... \u001b[?25ldone\n",
      "\u001b[?25h  Created wheel for lit: filename=lit-16.0.6-py3-none-any.whl size=93584 sha256=a38a759a6d18cf8666902a782e3e39abe3af9c484f756a7d0edfd8c1922448ef\n",
      "  Stored in directory: /root/.cache/pip/wheels/ab/84/e4/5af8c76af9e5bee472e825f1451c18bb3b261d80a7b3ec7f8a\n",
      "Successfully built transformers lit\n",
      "Installing collected packages: tokenizers, safetensors, mpmath, lit, cmake, bitsandbytes, sympy, regex, pyyaml, nvidia-nvtx-cu11, nvidia-nccl-cu11, nvidia-cusparse-cu11, nvidia-curand-cu11, nvidia-cufft-cu11, nvidia-cuda-runtime-cu11, nvidia-cuda-nvrtc-cu11, nvidia-cuda-cupti-cu11, nvidia-cublas-cu11, numpy, networkx, MarkupSafe, fsspec, filelock, nvidia-cusolver-cu11, nvidia-cudnn-cu11, jinja2, huggingface-hub, transformers, triton, torch, accelerate\n",
      "Successfully installed MarkupSafe-2.1.3 accelerate-0.20.3 bitsandbytes-0.41.1 cmake-3.27.4.1 filelock-3.12.3 fsspec-2023.9.0 huggingface-hub-0.17.1 jinja2-3.1.2 lit-16.0.6 mpmath-1.3.0 networkx-3.1 numpy-1.25.2 nvidia-cublas-cu11-11.10.3.66 nvidia-cuda-cupti-cu11-11.7.101 nvidia-cuda-nvrtc-cu11-11.7.99 nvidia-cuda-runtime-cu11-11.7.99 nvidia-cudnn-cu11-8.5.0.96 nvidia-cufft-cu11-10.9.0.58 nvidia-curand-cu11-10.2.10.91 nvidia-cusolver-cu11-11.4.0.1 nvidia-cusparse-cu11-11.7.4.91 nvidia-nccl-cu11-2.14.3 nvidia-nvtx-cu11-11.7.91 pyyaml-6.0.1 regex-2023.8.8 safetensors-0.3.3 sympy-1.12 tokenizers-0.13.3 torch-2.0.1 transformers-4.34.0.dev0 triton-2.0.0\n",
      "\u001b[33mWARNING: Running pip as the 'root' user can result in broken permissions and conflicting behaviour with the system package manager. It is recommended to use a virtual environment instead: https://pip.pypa.io/warnings/venv\u001b[0m\u001b[33m\n",
      "\u001b[0mCollecting git+https://github.com/huggingface/peft.git@e536616888d51b453ed354a6f1e243fecb02ea08\n",
      "  Cloning https://github.com/huggingface/peft.git (to revision e536616888d51b453ed354a6f1e243fecb02ea08) to /tmp/pip-req-build-zhlwpouu\n",
      "  Running command git clone --filter=blob:none --quiet https://github.com/huggingface/peft.git /tmp/pip-req-build-zhlwpouu\n",
      "  Running command git rev-parse -q --verify 'sha^e536616888d51b453ed354a6f1e243fecb02ea08'\n",
      "  Running command git fetch -q https://github.com/huggingface/peft.git e536616888d51b453ed354a6f1e243fecb02ea08\n",
      "  Running command git checkout -q e536616888d51b453ed354a6f1e243fecb02ea08\n",
      "  Resolved https://github.com/huggingface/peft.git to commit e536616888d51b453ed354a6f1e243fecb02ea08\n",
      "  Installing build dependencies ... \u001b[?25ldone\n",
      "\u001b[?25h  Getting requirements to build wheel ... \u001b[?25ldone\n",
      "\u001b[?25h  Preparing metadata (pyproject.toml) ... \u001b[?25ldone\n",
      "\u001b[?25hRequirement already satisfied: numpy>=1.17 in /root/miniconda3/lib/python3.11/site-packages (from peft==0.3.0.dev0) (1.25.2)\n",
      "Requirement already satisfied: packaging>=20.0 in /root/miniconda3/lib/python3.11/site-packages (from peft==0.3.0.dev0) (23.0)\n",
      "Requirement already satisfied: psutil in /root/miniconda3/lib/python3.11/site-packages (from peft==0.3.0.dev0) (5.9.0)\n",
      "Requirement already satisfied: pyyaml in /root/miniconda3/lib/python3.11/site-packages (from peft==0.3.0.dev0) (6.0.1)\n",
      "Requirement already satisfied: torch>=1.13.0 in /root/miniconda3/lib/python3.11/site-packages (from peft==0.3.0.dev0) (2.0.1)\n",
      "Requirement already satisfied: transformers in /root/miniconda3/lib/python3.11/site-packages (from peft==0.3.0.dev0) (4.34.0.dev0)\n",
      "Requirement already satisfied: accelerate in /root/miniconda3/lib/python3.11/site-packages (from peft==0.3.0.dev0) (0.20.3)\n",
      "Requirement already satisfied: filelock in /root/miniconda3/lib/python3.11/site-packages (from torch>=1.13.0->peft==0.3.0.dev0) (3.12.3)\n",
      "Requirement already satisfied: typing-extensions in /root/miniconda3/lib/python3.11/site-packages (from torch>=1.13.0->peft==0.3.0.dev0) (4.7.1)\n",
      "Requirement already satisfied: sympy in /root/miniconda3/lib/python3.11/site-packages (from torch>=1.13.0->peft==0.3.0.dev0) (1.12)\n",
      "Requirement already satisfied: networkx in /root/miniconda3/lib/python3.11/site-packages (from torch>=1.13.0->peft==0.3.0.dev0) (3.1)\n",
      "Requirement already satisfied: jinja2 in /root/miniconda3/lib/python3.11/site-packages (from torch>=1.13.0->peft==0.3.0.dev0) (3.1.2)\n",
      "Requirement already satisfied: nvidia-cuda-nvrtc-cu11==11.7.99 in /root/miniconda3/lib/python3.11/site-packages (from torch>=1.13.0->peft==0.3.0.dev0) (11.7.99)\n",
      "Requirement already satisfied: nvidia-cuda-runtime-cu11==11.7.99 in /root/miniconda3/lib/python3.11/site-packages (from torch>=1.13.0->peft==0.3.0.dev0) (11.7.99)\n",
      "Requirement already satisfied: nvidia-cuda-cupti-cu11==11.7.101 in /root/miniconda3/lib/python3.11/site-packages (from torch>=1.13.0->peft==0.3.0.dev0) (11.7.101)\n",
      "Requirement already satisfied: nvidia-cudnn-cu11==8.5.0.96 in /root/miniconda3/lib/python3.11/site-packages (from torch>=1.13.0->peft==0.3.0.dev0) (8.5.0.96)\n",
      "Requirement already satisfied: nvidia-cublas-cu11==11.10.3.66 in /root/miniconda3/lib/python3.11/site-packages (from torch>=1.13.0->peft==0.3.0.dev0) (11.10.3.66)\n",
      "Requirement already satisfied: nvidia-cufft-cu11==10.9.0.58 in /root/miniconda3/lib/python3.11/site-packages (from torch>=1.13.0->peft==0.3.0.dev0) (10.9.0.58)\n",
      "Requirement already satisfied: nvidia-curand-cu11==10.2.10.91 in /root/miniconda3/lib/python3.11/site-packages (from torch>=1.13.0->peft==0.3.0.dev0) (10.2.10.91)\n",
      "Requirement already satisfied: nvidia-cusolver-cu11==11.4.0.1 in /root/miniconda3/lib/python3.11/site-packages (from torch>=1.13.0->peft==0.3.0.dev0) (11.4.0.1)\n",
      "Requirement already satisfied: nvidia-cusparse-cu11==11.7.4.91 in /root/miniconda3/lib/python3.11/site-packages (from torch>=1.13.0->peft==0.3.0.dev0) (11.7.4.91)\n",
      "Requirement already satisfied: nvidia-nccl-cu11==2.14.3 in /root/miniconda3/lib/python3.11/site-packages (from torch>=1.13.0->peft==0.3.0.dev0) (2.14.3)\n",
      "Requirement already satisfied: nvidia-nvtx-cu11==11.7.91 in /root/miniconda3/lib/python3.11/site-packages (from torch>=1.13.0->peft==0.3.0.dev0) (11.7.91)\n",
      "Requirement already satisfied: triton==2.0.0 in /root/miniconda3/lib/python3.11/site-packages (from torch>=1.13.0->peft==0.3.0.dev0) (2.0.0)\n",
      "Requirement already satisfied: setuptools in /root/miniconda3/lib/python3.11/site-packages (from nvidia-cublas-cu11==11.10.3.66->torch>=1.13.0->peft==0.3.0.dev0) (67.8.0)\n",
      "Requirement already satisfied: wheel in /root/miniconda3/lib/python3.11/site-packages (from nvidia-cublas-cu11==11.10.3.66->torch>=1.13.0->peft==0.3.0.dev0) (0.38.4)\n",
      "Requirement already satisfied: cmake in /root/miniconda3/lib/python3.11/site-packages (from triton==2.0.0->torch>=1.13.0->peft==0.3.0.dev0) (3.27.4.1)\n",
      "Requirement already satisfied: lit in /root/miniconda3/lib/python3.11/site-packages (from triton==2.0.0->torch>=1.13.0->peft==0.3.0.dev0) (16.0.6)\n",
      "Requirement already satisfied: huggingface-hub<1.0,>=0.15.1 in /root/miniconda3/lib/python3.11/site-packages (from transformers->peft==0.3.0.dev0) (0.17.1)\n",
      "Requirement already satisfied: regex!=2019.12.17 in /root/miniconda3/lib/python3.11/site-packages (from transformers->peft==0.3.0.dev0) (2023.8.8)\n",
      "Requirement already satisfied: requests in /root/miniconda3/lib/python3.11/site-packages (from transformers->peft==0.3.0.dev0) (2.29.0)\n",
      "Requirement already satisfied: tokenizers!=0.11.3,<0.14,>=0.11.1 in /root/miniconda3/lib/python3.11/site-packages (from transformers->peft==0.3.0.dev0) (0.13.3)\n",
      "Requirement already satisfied: safetensors>=0.3.1 in /root/miniconda3/lib/python3.11/site-packages (from transformers->peft==0.3.0.dev0) (0.3.3)\n",
      "Requirement already satisfied: tqdm>=4.27 in /root/miniconda3/lib/python3.11/site-packages (from transformers->peft==0.3.0.dev0) (4.65.0)\n",
      "Requirement already satisfied: fsspec in /root/miniconda3/lib/python3.11/site-packages (from huggingface-hub<1.0,>=0.15.1->transformers->peft==0.3.0.dev0) (2023.9.0)\n",
      "Requirement already satisfied: MarkupSafe>=2.0 in /root/miniconda3/lib/python3.11/site-packages (from jinja2->torch>=1.13.0->peft==0.3.0.dev0) (2.1.3)\n",
      "Requirement already satisfied: charset-normalizer<4,>=2 in /root/miniconda3/lib/python3.11/site-packages (from requests->transformers->peft==0.3.0.dev0) (2.0.4)\n",
      "Requirement already satisfied: idna<4,>=2.5 in /root/miniconda3/lib/python3.11/site-packages (from requests->transformers->peft==0.3.0.dev0) (3.4)\n",
      "Requirement already satisfied: urllib3<1.27,>=1.21.1 in /root/miniconda3/lib/python3.11/site-packages (from requests->transformers->peft==0.3.0.dev0) (1.26.16)\n",
      "Requirement already satisfied: certifi>=2017.4.17 in /root/miniconda3/lib/python3.11/site-packages (from requests->transformers->peft==0.3.0.dev0) (2023.7.22)\n",
      "Requirement already satisfied: mpmath>=0.19 in /root/miniconda3/lib/python3.11/site-packages (from sympy->torch>=1.13.0->peft==0.3.0.dev0) (1.3.0)\n",
      "Building wheels for collected packages: peft\n",
      "  Building wheel for peft (pyproject.toml) ... \u001b[?25ldone\n",
      "\u001b[?25h  Created wheel for peft: filename=peft-0.3.0.dev0-py3-none-any.whl size=41637 sha256=ade46b97a28f57decbf2e803251a9f39a5f7c6145f520249ec1f1c36c10168c6\n",
      "  Stored in directory: /root/.cache/pip/wheels/24/c9/bb/ef4d3bbba23d6940d88dcf53eb4caf25b10d608561deabef51\n",
      "Successfully built peft\n",
      "Installing collected packages: peft\n",
      "Successfully installed peft-0.3.0.dev0\n",
      "\u001b[33mWARNING: Running pip as the 'root' user can result in broken permissions and conflicting behaviour with the system package manager. It is recommended to use a virtual environment instead: https://pip.pypa.io/warnings/venv\u001b[0m\u001b[33m\n",
      "\u001b[0mCollecting datasets==2.10.1\n",
      "  Downloading datasets-2.10.1-py3-none-any.whl (469 kB)\n",
      "\u001b[2K     \u001b[90m━━━━━━━━━━━━━━━━━━━━━━━━━━━━━━━━━━━━━━━\u001b[0m \u001b[32m469.0/469.0 kB\u001b[0m \u001b[31m4.9 MB/s\u001b[0m eta \u001b[36m0:00:00\u001b[0ma \u001b[36m0:00:01\u001b[0m\n",
      "\u001b[?25hRequirement already satisfied: numpy>=1.17 in /root/miniconda3/lib/python3.11/site-packages (from datasets==2.10.1) (1.25.2)\n",
      "Collecting pyarrow>=6.0.0 (from datasets==2.10.1)\n",
      "  Downloading pyarrow-13.0.0-cp311-cp311-manylinux_2_28_x86_64.whl (40.0 MB)\n",
      "\u001b[2K     \u001b[90m━━━━━━━━━━━━━━━━━━━━━━━━━━━━━━━━━━━━━━━━\u001b[0m \u001b[32m40.0/40.0 MB\u001b[0m \u001b[31m42.9 MB/s\u001b[0m eta \u001b[36m0:00:00\u001b[0m00:01\u001b[0m00:01\u001b[0m\n",
      "\u001b[?25hCollecting dill<0.3.7,>=0.3.0 (from datasets==2.10.1)\n",
      "  Downloading dill-0.3.6-py3-none-any.whl (110 kB)\n",
      "\u001b[2K     \u001b[90m━━━━━━━━━━━━━━━━━━━━━━━━━━━━━━━━━━━━━━\u001b[0m \u001b[32m110.5/110.5 kB\u001b[0m \u001b[31m53.7 MB/s\u001b[0m eta \u001b[36m0:00:00\u001b[0m\n",
      "\u001b[?25hCollecting pandas (from datasets==2.10.1)\n",
      "  Downloading pandas-2.1.0-cp311-cp311-manylinux_2_17_x86_64.manylinux2014_x86_64.whl (12.6 MB)\n",
      "\u001b[2K     \u001b[90m━━━━━━━━━━━━━━━━━━━━━━━━━━━━━━━━━━━━━━━━\u001b[0m \u001b[32m12.6/12.6 MB\u001b[0m \u001b[31m68.7 MB/s\u001b[0m eta \u001b[36m0:00:00\u001b[0m00:01\u001b[0m00:01\u001b[0m\n",
      "\u001b[?25hRequirement already satisfied: requests>=2.19.0 in /root/miniconda3/lib/python3.11/site-packages (from datasets==2.10.1) (2.29.0)\n",
      "Requirement already satisfied: tqdm>=4.62.1 in /root/miniconda3/lib/python3.11/site-packages (from datasets==2.10.1) (4.65.0)\n",
      "Collecting xxhash (from datasets==2.10.1)\n",
      "  Downloading xxhash-3.3.0-cp311-cp311-manylinux_2_17_x86_64.manylinux2014_x86_64.whl (194 kB)\n",
      "\u001b[2K     \u001b[90m━━━━━━━━━━━━━━━━━━━━━━━━━━━━━━━━━━━━━━\u001b[0m \u001b[32m194.8/194.8 kB\u001b[0m \u001b[31m61.1 MB/s\u001b[0m eta \u001b[36m0:00:00\u001b[0m\n",
      "\u001b[?25hCollecting multiprocess (from datasets==2.10.1)\n",
      "  Downloading multiprocess-0.70.15-py311-none-any.whl (135 kB)\n",
      "\u001b[2K     \u001b[90m━━━━━━━━━━━━━━━━━━━━━━━━━━━━━━━━━━━━━━\u001b[0m \u001b[32m135.4/135.4 kB\u001b[0m \u001b[31m33.0 MB/s\u001b[0m eta \u001b[36m0:00:00\u001b[0m\n",
      "\u001b[?25hRequirement already satisfied: fsspec[http]>=2021.11.1 in /root/miniconda3/lib/python3.11/site-packages (from datasets==2.10.1) (2023.9.0)\n",
      "Collecting aiohttp (from datasets==2.10.1)\n",
      "  Downloading aiohttp-3.8.5-cp311-cp311-manylinux_2_17_x86_64.manylinux2014_x86_64.whl (1.1 MB)\n",
      "\u001b[2K     \u001b[90m━━━━━━━━━━━━━━━━━━━━━━━━━━━━━━━━━━━━━━━━\u001b[0m \u001b[32m1.1/1.1 MB\u001b[0m \u001b[31m121.4 MB/s\u001b[0m eta \u001b[36m0:00:00\u001b[0m\n",
      "\u001b[?25hRequirement already satisfied: huggingface-hub<1.0.0,>=0.2.0 in /root/miniconda3/lib/python3.11/site-packages (from datasets==2.10.1) (0.17.1)\n",
      "Requirement already satisfied: packaging in /root/miniconda3/lib/python3.11/site-packages (from datasets==2.10.1) (23.0)\n",
      "Collecting responses<0.19 (from datasets==2.10.1)\n",
      "  Downloading responses-0.18.0-py3-none-any.whl (38 kB)\n",
      "Requirement already satisfied: pyyaml>=5.1 in /root/miniconda3/lib/python3.11/site-packages (from datasets==2.10.1) (6.0.1)\n",
      "Collecting attrs>=17.3.0 (from aiohttp->datasets==2.10.1)\n",
      "  Downloading attrs-23.1.0-py3-none-any.whl (61 kB)\n",
      "\u001b[2K     \u001b[90m━━━━━━━━━━━━━━━━━━━━━━━━━━━━━━━━━━━━━━━━\u001b[0m \u001b[32m61.2/61.2 kB\u001b[0m \u001b[31m16.6 MB/s\u001b[0m eta \u001b[36m0:00:00\u001b[0m\n",
      "\u001b[?25hRequirement already satisfied: charset-normalizer<4.0,>=2.0 in /root/miniconda3/lib/python3.11/site-packages (from aiohttp->datasets==2.10.1) (2.0.4)\n",
      "Collecting multidict<7.0,>=4.5 (from aiohttp->datasets==2.10.1)\n",
      "  Downloading multidict-6.0.4-cp311-cp311-manylinux_2_17_x86_64.manylinux2014_x86_64.whl (117 kB)\n",
      "\u001b[2K     \u001b[90m━━━━━━━━━━━━━━━━━━━━━━━━━━━━━━━━━━━━━━\u001b[0m \u001b[32m117.4/117.4 kB\u001b[0m \u001b[31m58.8 MB/s\u001b[0m eta \u001b[36m0:00:00\u001b[0m\n",
      "\u001b[?25hCollecting async-timeout<5.0,>=4.0.0a3 (from aiohttp->datasets==2.10.1)\n",
      "  Downloading async_timeout-4.0.3-py3-none-any.whl (5.7 kB)\n",
      "Collecting yarl<2.0,>=1.0 (from aiohttp->datasets==2.10.1)\n",
      "  Downloading yarl-1.9.2-cp311-cp311-manylinux_2_17_x86_64.manylinux2014_x86_64.whl (282 kB)\n",
      "\u001b[2K     \u001b[90m━━━━━━━━━━━━━━━━━━━━━━━━━━━━━━━━━━━━━━\u001b[0m \u001b[32m282.8/282.8 kB\u001b[0m \u001b[31m10.8 MB/s\u001b[0m eta \u001b[36m0:00:00\u001b[0m\n",
      "\u001b[?25hCollecting frozenlist>=1.1.1 (from aiohttp->datasets==2.10.1)\n",
      "  Downloading frozenlist-1.4.0-cp311-cp311-manylinux_2_5_x86_64.manylinux1_x86_64.manylinux_2_17_x86_64.manylinux2014_x86_64.whl (250 kB)\n",
      "\u001b[2K     \u001b[90m━━━━━━━━━━━━━━━━━━━━━━━━━━━━━━━━━━━━━━━\u001b[0m \u001b[32m250.5/250.5 kB\u001b[0m \u001b[31m6.4 MB/s\u001b[0m eta \u001b[36m0:00:00\u001b[0m00:01\u001b[0m\n",
      "\u001b[?25hCollecting aiosignal>=1.1.2 (from aiohttp->datasets==2.10.1)\n",
      "  Downloading aiosignal-1.3.1-py3-none-any.whl (7.6 kB)\n",
      "Requirement already satisfied: filelock in /root/miniconda3/lib/python3.11/site-packages (from huggingface-hub<1.0.0,>=0.2.0->datasets==2.10.1) (3.12.3)\n",
      "Requirement already satisfied: typing-extensions>=3.7.4.3 in /root/miniconda3/lib/python3.11/site-packages (from huggingface-hub<1.0.0,>=0.2.0->datasets==2.10.1) (4.7.1)\n",
      "Requirement already satisfied: idna<4,>=2.5 in /root/miniconda3/lib/python3.11/site-packages (from requests>=2.19.0->datasets==2.10.1) (3.4)\n",
      "Requirement already satisfied: urllib3<1.27,>=1.21.1 in /root/miniconda3/lib/python3.11/site-packages (from requests>=2.19.0->datasets==2.10.1) (1.26.16)\n",
      "Requirement already satisfied: certifi>=2017.4.17 in /root/miniconda3/lib/python3.11/site-packages (from requests>=2.19.0->datasets==2.10.1) (2023.7.22)\n",
      "INFO: pip is looking at multiple versions of multiprocess to determine which version is compatible with other requirements. This could take a while.\n",
      "Collecting multiprocess (from datasets==2.10.1)\n",
      "  Downloading multiprocess-0.70.14-py310-none-any.whl (134 kB)\n",
      "\u001b[2K     \u001b[90m━━━━━━━━━━━━━━━━━━━━━━━━━━━━━━━━━━━━━━\u001b[0m \u001b[32m134.3/134.3 kB\u001b[0m \u001b[31m45.1 MB/s\u001b[0m eta \u001b[36m0:00:00\u001b[0m\n",
      "\u001b[?25hRequirement already satisfied: python-dateutil>=2.8.2 in /root/miniconda3/lib/python3.11/site-packages (from pandas->datasets==2.10.1) (2.8.2)\n",
      "Collecting pytz>=2020.1 (from pandas->datasets==2.10.1)\n",
      "  Downloading pytz-2023.3.post1-py2.py3-none-any.whl (502 kB)\n",
      "\u001b[2K     \u001b[90m━━━━━━━━━━━━━━━━━━━━━━━━━━━━━━━━━━━━━━\u001b[0m \u001b[32m502.5/502.5 kB\u001b[0m \u001b[31m71.2 MB/s\u001b[0m eta \u001b[36m0:00:00\u001b[0m\n",
      "\u001b[?25hCollecting tzdata>=2022.1 (from pandas->datasets==2.10.1)\n",
      "  Downloading tzdata-2023.3-py2.py3-none-any.whl (341 kB)\n",
      "\u001b[2K     \u001b[90m━━━━━━━━━━━━━━━━━━━━━━━━━━━━━━━━━━━━━━\u001b[0m \u001b[32m341.8/341.8 kB\u001b[0m \u001b[31m90.9 MB/s\u001b[0m eta \u001b[36m0:00:00\u001b[0m\n",
      "\u001b[?25hRequirement already satisfied: six>=1.5 in /root/miniconda3/lib/python3.11/site-packages (from python-dateutil>=2.8.2->pandas->datasets==2.10.1) (1.16.0)\n",
      "Installing collected packages: pytz, xxhash, tzdata, pyarrow, multidict, frozenlist, dill, attrs, async-timeout, yarl, responses, pandas, multiprocess, aiosignal, aiohttp, datasets\n",
      "Successfully installed aiohttp-3.8.5 aiosignal-1.3.1 async-timeout-4.0.3 attrs-23.1.0 datasets-2.10.1 dill-0.3.6 frozenlist-1.4.0 multidict-6.0.4 multiprocess-0.70.14 pandas-2.1.0 pyarrow-13.0.0 pytz-2023.3.post1 responses-0.18.0 tzdata-2023.3 xxhash-3.3.0 yarl-1.9.2\n",
      "\u001b[33mWARNING: Running pip as the 'root' user can result in broken permissions and conflicting behaviour with the system package manager. It is recommended to use a virtual environment instead: https://pip.pypa.io/warnings/venv\u001b[0m\u001b[33m\n",
      "\u001b[0mCollecting wandb\n",
      "  Downloading wandb-0.15.10-py3-none-any.whl (2.1 MB)\n",
      "\u001b[2K     \u001b[90m━━━━━━━━━━━━━━━━━━━━━━━━━━━━━━━━━━━━━━━━\u001b[0m \u001b[32m2.1/2.1 MB\u001b[0m \u001b[31m12.6 MB/s\u001b[0m eta \u001b[36m0:00:00\u001b[0ma \u001b[36m0:00:01\u001b[0m\n",
      "\u001b[?25hCollecting Click!=8.0.0,>=7.1 (from wandb)\n",
      "  Downloading click-8.1.7-py3-none-any.whl (97 kB)\n",
      "\u001b[2K     \u001b[90m━━━━━━━━━━━━━━━━━━━━━━━━━━━━━━━━━━━━━━━━\u001b[0m \u001b[32m97.9/97.9 kB\u001b[0m \u001b[31m38.0 MB/s\u001b[0m eta \u001b[36m0:00:00\u001b[0m\n",
      "\u001b[?25hCollecting GitPython!=3.1.29,>=1.0.0 (from wandb)\n",
      "  Downloading GitPython-3.1.35-py3-none-any.whl (188 kB)\n",
      "\u001b[2K     \u001b[90m━━━━━━━━━━━━━━━━━━━━━━━━━━━━━━━━━━━━━━\u001b[0m \u001b[32m188.8/188.8 kB\u001b[0m \u001b[31m43.6 MB/s\u001b[0m eta \u001b[36m0:00:00\u001b[0m\n",
      "\u001b[?25hRequirement already satisfied: requests<3,>=2.0.0 in /root/miniconda3/lib/python3.11/site-packages (from wandb) (2.29.0)\n",
      "Requirement already satisfied: psutil>=5.0.0 in /root/miniconda3/lib/python3.11/site-packages (from wandb) (5.9.0)\n",
      "Collecting sentry-sdk>=1.0.0 (from wandb)\n",
      "  Downloading sentry_sdk-1.30.0-py2.py3-none-any.whl (218 kB)\n",
      "\u001b[2K     \u001b[90m━━━━━━━━━━━━━━━━━━━━━━━━━━━━━━━━━━━━━━\u001b[0m \u001b[32m218.8/218.8 kB\u001b[0m \u001b[31m45.4 MB/s\u001b[0m eta \u001b[36m0:00:00\u001b[0m\n",
      "\u001b[?25hCollecting docker-pycreds>=0.4.0 (from wandb)\n",
      "  Downloading docker_pycreds-0.4.0-py2.py3-none-any.whl (9.0 kB)\n",
      "Requirement already satisfied: PyYAML in /root/miniconda3/lib/python3.11/site-packages (from wandb) (6.0.1)\n",
      "Collecting pathtools (from wandb)\n",
      "  Downloading pathtools-0.1.2.tar.gz (11 kB)\n",
      "  Preparing metadata (setup.py) ... \u001b[?25ldone\n",
      "\u001b[?25hCollecting setproctitle (from wandb)\n",
      "  Downloading setproctitle-1.3.2-cp311-cp311-manylinux_2_5_x86_64.manylinux1_x86_64.manylinux_2_17_x86_64.manylinux2014_x86_64.whl (31 kB)\n",
      "Requirement already satisfied: setuptools in /root/miniconda3/lib/python3.11/site-packages (from wandb) (67.8.0)\n",
      "Collecting appdirs>=1.4.3 (from wandb)\n",
      "  Downloading appdirs-1.4.4-py2.py3-none-any.whl (9.6 kB)\n",
      "Collecting protobuf!=4.21.0,<5,>=3.19.0 (from wandb)\n",
      "  Downloading protobuf-4.24.3-cp37-abi3-manylinux2014_x86_64.whl (311 kB)\n",
      "\u001b[2K     \u001b[90m━━━━━━━━━━━━━━━━━━━━━━━━━━━━━━━━━━━━━━\u001b[0m \u001b[32m311.6/311.6 kB\u001b[0m \u001b[31m53.6 MB/s\u001b[0m eta \u001b[36m0:00:00\u001b[0m\n",
      "\u001b[?25hRequirement already satisfied: six>=1.4.0 in /root/miniconda3/lib/python3.11/site-packages (from docker-pycreds>=0.4.0->wandb) (1.16.0)\n",
      "Collecting gitdb<5,>=4.0.1 (from GitPython!=3.1.29,>=1.0.0->wandb)\n",
      "  Downloading gitdb-4.0.10-py3-none-any.whl (62 kB)\n",
      "\u001b[2K     \u001b[90m━━━━━━━━━━━━━━━━━━━━━━━━━━━━━━━━━━━━━━━━\u001b[0m \u001b[32m62.7/62.7 kB\u001b[0m \u001b[31m27.1 MB/s\u001b[0m eta \u001b[36m0:00:00\u001b[0m\n",
      "\u001b[?25hRequirement already satisfied: charset-normalizer<4,>=2 in /root/miniconda3/lib/python3.11/site-packages (from requests<3,>=2.0.0->wandb) (2.0.4)\n",
      "Requirement already satisfied: idna<4,>=2.5 in /root/miniconda3/lib/python3.11/site-packages (from requests<3,>=2.0.0->wandb) (3.4)\n",
      "Requirement already satisfied: urllib3<1.27,>=1.21.1 in /root/miniconda3/lib/python3.11/site-packages (from requests<3,>=2.0.0->wandb) (1.26.16)\n",
      "Requirement already satisfied: certifi>=2017.4.17 in /root/miniconda3/lib/python3.11/site-packages (from requests<3,>=2.0.0->wandb) (2023.7.22)\n",
      "Collecting smmap<6,>=3.0.1 (from gitdb<5,>=4.0.1->GitPython!=3.1.29,>=1.0.0->wandb)\n",
      "  Downloading smmap-5.0.0-py3-none-any.whl (24 kB)\n",
      "Building wheels for collected packages: pathtools\n",
      "  Building wheel for pathtools (setup.py) ... \u001b[?25ldone\n",
      "\u001b[?25h  Created wheel for pathtools: filename=pathtools-0.1.2-py3-none-any.whl size=8791 sha256=e53ee9e794f2d549f8206d74e4529a0084bb89939b0afebcebc6e86b66249cbe\n",
      "  Stored in directory: /root/.cache/pip/wheels/ea/b7/8b/84e94095ea418b9442f5abeba4ca7b0ad52d3fe7b69d6238a6\n",
      "Successfully built pathtools\n",
      "Installing collected packages: pathtools, appdirs, smmap, setproctitle, sentry-sdk, protobuf, docker-pycreds, Click, gitdb, GitPython, wandb\n",
      "Successfully installed Click-8.1.7 GitPython-3.1.35 appdirs-1.4.4 docker-pycreds-0.4.0 gitdb-4.0.10 pathtools-0.1.2 protobuf-4.24.3 sentry-sdk-1.30.0 setproctitle-1.3.2 smmap-5.0.0 wandb-0.15.10\n",
      "\u001b[33mWARNING: Running pip as the 'root' user can result in broken permissions and conflicting behaviour with the system package manager. It is recommended to use a virtual environment instead: https://pip.pypa.io/warnings/venv\u001b[0m\u001b[33m\n",
      "\u001b[0mCollecting scipy\n",
      "  Downloading scipy-1.11.2-cp311-cp311-manylinux_2_17_x86_64.manylinux2014_x86_64.whl (36.3 MB)\n",
      "\u001b[2K     \u001b[90m━━━━━━━━━━━━━━━━━━━━━━━━━━━━━━━━━━━━━━━━\u001b[0m \u001b[32m36.3/36.3 MB\u001b[0m \u001b[31m42.5 MB/s\u001b[0m eta \u001b[36m0:00:00\u001b[0m00:01\u001b[0m00:01\u001b[0m\n",
      "\u001b[?25hRequirement already satisfied: numpy<1.28.0,>=1.21.6 in /root/miniconda3/lib/python3.11/site-packages (from scipy) (1.25.2)\n",
      "Installing collected packages: scipy\n",
      "Successfully installed scipy-1.11.2\n",
      "\u001b[33mWARNING: Running pip as the 'root' user can result in broken permissions and conflicting behaviour with the system package manager. It is recommended to use a virtual environment instead: https://pip.pypa.io/warnings/venv\u001b[0m\u001b[33m\n",
      "\u001b[0m"
     ]
    }
   ],
   "source": [
    "!pip install git+https://github.com/huggingface/transformers.git@main bitsandbytes accelerate==0.20.3  # we need latest transformers for this\n",
    "!pip install git+https://github.com/huggingface/peft.git@e536616888d51b453ed354a6f1e243fecb02ea08\n",
    "!pip install datasets==2.10.1\n",
    "import locale # colab workaround\n",
    "locale.getpreferredencoding = lambda: \"UTF-8\" # colab workaround\n",
    "!pip install wandb\n",
    "!pip install scipy"
   ]
  },
  {
   "cell_type": "code",
   "execution_count": 1,
   "metadata": {},
   "outputs": [
    {
     "name": "stderr",
     "output_type": "stream",
     "text": [
      "/root/miniconda3/envs/myenv/lib/python3.10/site-packages/tqdm/auto.py:21: TqdmWarning: IProgress not found. Please update jupyter and ipywidgets. See https://ipywidgets.readthedocs.io/en/stable/user_install.html\n",
      "  from .autonotebook import tqdm as notebook_tqdm\n",
      "Loading checkpoint shards: 100%|██████████| 7/7 [00:47<00:00,  6.82s/it]\n",
      "Special tokens have been added in the vocabulary, make sure the associated word embeddings are fine-tuned or trained.\n"
     ]
    }
   ],
   "source": [
    "import torch\n",
    "from transformers import AutoModelForCausalLM, BitsAndBytesConfig, AutoTokenizer\n",
    "\n",
    "base_model = \"codellama/CodeLlama-34b-hf\"\n",
    "model = AutoModelForCausalLM.from_pretrained(\n",
    "    base_model,\n",
    "    load_in_8bit=True,\n",
    "    torch_dtype=torch.float16,\n",
    "    device_map=\"auto\",\n",
    ")\n",
    "tokenizer = AutoTokenizer.from_pretrained(\"codellama/CodeLlama-34b-hf\")"
   ]
  },
  {
   "cell_type": "code",
   "execution_count": 2,
   "metadata": {},
   "outputs": [],
   "source": [
    "from peft import PeftModel\n",
    "model = PeftModel.from_pretrained(model, \"/root/text-sql-with-execution-evaluation/llama-training-code/code-llama34b/code-llama34b/checkpoint-120\")"
   ]
  },
  {
   "cell_type": "code",
   "execution_count": 3,
   "metadata": {},
   "outputs": [
    {
     "name": "stderr",
     "output_type": "stream",
     "text": [
      "Setting `pad_token_id` to `eos_token_id`:2 for open-end generation.\n"
     ]
    },
    {
     "name": "stdout",
     "output_type": "stream",
     "text": [
      "You are a powerful text-to-SQL model. Your job is to answer questions about a database. You are given a question and context regarding one or more tables.\n",
      "\n",
      "You must output the SQL query that answers the question.\n",
      "### Input:\n",
      "Which Class has a Frequency MHz larger than 91.5, and a City of license of hyannis, nebraska?\n",
      "\n",
      "### Context:\n",
      "CREATE TABLE table_name_12 (class VARCHAR, frequency_mhz VARCHAR, city_of_license VARCHAR)\n",
      "\n",
      "### Response:\n",
      "SELECT class FROM table_name_12 WHERE frequency_mhz  >  91.5 AND city_of_license  =  'hyannis, nebraska'\n",
      "\n"
     ]
    }
   ],
   "source": [
    "eval_prompt = \"\"\"You are a powerful text-to-SQL model. Your job is to answer questions about a database. You are given a question and context regarding one or more tables.\n",
    "\n",
    "You must output the SQL query that answers the question.\n",
    "### Input:\n",
    "Which Class has a Frequency MHz larger than 91.5, and a City of license of hyannis, nebraska?\n",
    "\n",
    "### Context:\n",
    "CREATE TABLE table_name_12 (class VARCHAR, frequency_mhz VARCHAR, city_of_license VARCHAR)\n",
    "\n",
    "### Response:\n",
    "\"\"\"\n",
    "# {'question': 'Name the comptroller for office of prohibition', 'context': 'CREATE TABLE table_22607062_1 (comptroller VARCHAR, ticket___office VARCHAR)', 'answer': 'SELECT comptroller FROM table_22607062_1 WHERE ticket___office = \"Prohibition\"'}\n",
    "model_input = tokenizer(eval_prompt, return_tensors=\"pt\").to(\"cuda\")\n",
    "\n",
    "model.eval()\n",
    "with torch.no_grad():\n",
    "    print(tokenizer.decode(model.generate(**model_input, max_new_tokens=100)[0], skip_special_tokens=True))"
   ]
  },
  {
   "cell_type": "code",
   "execution_count": 4,
   "metadata": {},
   "outputs": [],
   "source": [
    "def generate_prompt(data_point):\n",
    "    full_prompt =f\"\"\"You are a powerful text-to-SQL model. Your job is to answer questions about a database. You are given a question and context regarding one or more tables.\n",
    "\n",
    "You must output the SQL query that answers the question.\n",
    "\n",
    "### Input:\n",
    "{data_point[\"question\"]}\n",
    "\n",
    "### Context:\n",
    "{data_point[\"context\"]}\n",
    "\n",
    "### Response:\n",
    "\"\"\"\n",
    "    return full_prompt"
   ]
  },
  {
   "cell_type": "code",
   "execution_count": 5,
   "metadata": {},
   "outputs": [],
   "source": [
    "import json\n",
    "with open('/root/text-sql-with-execution-evaluation/spider-create-context-intersect/spider_create_context_val_db_id.json', 'r') as f:\n",
    "    data = json.load(f)\n",
    "\n",
    "# Step 2: Apply the function to each entry\n",
    "# responses = map(your_function, data)\n",
    "prompts = []\n",
    "for data_point in data:\n",
    "    prompt = generate_prompt(data_point)\n",
    "    # append prompt to prompts\n",
    "    prompts.append(prompt)"
   ]
  },
  {
   "cell_type": "code",
   "execution_count": 6,
   "metadata": {},
   "outputs": [],
   "source": [
    "tokenizer.pad_token = tokenizer.eos_token"
   ]
  },
  {
   "cell_type": "code",
   "execution_count": 7,
   "metadata": {},
   "outputs": [
    {
     "name": "stderr",
     "output_type": "stream",
     "text": [
      "Asking to truncate to max_length but no maximum length is provided and the model has no predefined maximum length. Default to no truncation.\n"
     ]
    },
    {
     "name": "stdout",
     "output_type": "stream",
     "text": [
      "You are a powerful text-to-SQL model. Your job is to answer questions about a database. You are given a question and context regarding one or more tables.\n",
      "\n",
      "You must output the SQL query that answers the question.\n",
      "\n",
      "### Input:\n",
      "How many singers do we have?\n",
      "\n",
      "### Context:\n",
      "CREATE TABLE singer (Id VARCHAR)\n",
      "\n",
      "### Response:\n",
      "\n",
      "You are a powerful text-to-SQL model. Your job is to answer questions about a database. You are given a question and context regarding one or more tables.\n",
      "\n",
      "You must output the SQL query that answers the question.\n",
      "\n",
      "### Input:\n",
      "Show name, country, age for all singers ordered by age from the oldest to the youngest.\n",
      "\n",
      "### Context:\n",
      "CREATE TABLE singer (name VARCHAR, country VARCHAR, age VARCHAR)\n",
      "\n",
      "### Response:\n",
      "\n",
      "You are a powerful text-to-SQL model. Your job is to answer questions about a database. You are given a question and context regarding one or more tables.\n",
      "\n",
      "You must output the SQL query that answers the question.\n",
      "\n",
      "### Input:\n",
      "What is the average, minimum, and maximum age of all singers from France?\n",
      "\n",
      "### Context:\n",
      "CREATE TABLE singer (age INTEGER, country VARCHAR)\n",
      "\n",
      "### Response:\n",
      "\n",
      "You are a powerful text-to-SQL model. Your job is to answer questions about a database. You are given a question and context regarding one or more tables.\n",
      "\n",
      "You must output the SQL query that answers the question.\n",
      "\n",
      "### Input:\n",
      "Show the name and the release year of the song by the youngest singer.\n",
      "\n",
      "### Context:\n",
      "CREATE TABLE singer (song_name VARCHAR, song_release_year VARCHAR, age VARCHAR)\n",
      "\n",
      "### Response:\n",
      "\n"
     ]
    },
    {
     "data": {
      "text/plain": [
       "True"
      ]
     },
     "execution_count": 7,
     "metadata": {},
     "output_type": "execute_result"
    }
   ],
   "source": [
    "# single prompt inference test:\n",
    "test_prompts = prompts[0:4]\n",
    "# for prompt in test_prompts:\n",
    "#     print(\"prompt is: \", prompt)\n",
    "tokenized_inputs = tokenizer(test_prompts, return_tensors=\"pt\", padding=True, truncation=True)\n",
    "# decoded_inputs = #[tokenizer.decode(input, skip_special_tokens=True) for input in tokenized_inputs]\n",
    "decoded_inputs = [tokenizer.decode(input_ids, skip_special_tokens=True) for input_ids in tokenized_inputs[\"input_ids\"]]\n",
    "for input in decoded_inputs:\n",
    "    print(input)\n",
    "test_prompts == decoded_inputs"
   ]
  },
  {
   "cell_type": "code",
   "execution_count": 9,
   "metadata": {},
   "outputs": [
    {
     "name": "stderr",
     "output_type": "stream",
     "text": [
      "Setting `pad_token_id` to `eos_token_id`:2 for open-end generation.\n",
      "/root/miniconda3/lib/python3.11/site-packages/transformers/generation/utils.py:1535: UserWarning: You are calling .generate() with the `input_ids` being on a device type different than your model's device. `input_ids` is on cpu, whereas the model is on cuda. You may experience unexpected behaviors or slower generation. Please make sure that you have put `input_ids` to the correct device by calling for example input_ids = input_ids.to('cuda') before running `.generate()`.\n",
      "  warnings.warn(\n"
     ]
    },
    {
     "name": "stdout",
     "output_type": "stream",
     "text": [
      "decoded batch outputs:\n",
      "You are a powerful text-to-SQL model. Your job is to answer questions about a database. You are given a question and context regarding one or more tables.\n",
      "\n",
      "You must output the SQL query that answers the question.\n",
      "\n",
      "### Input:\n",
      "How many singers do we have?\n",
      "\n",
      "### Context:\n",
      "CREATE TABLE singer (Id VARCHAR)\n",
      "\n",
      "### Response:\n",
      "SELECT COUNT(*) FROM singer\n",
      "\n",
      "### Input:\n",
      "How many singers do we have?\n",
      "\n",
      "### Context:\n",
      "CREATE TABLE singer (Id VARCHAR)\n",
      "CREATE TABLE song (Id VARCHAR, SingerId VARCHAR)\n",
      "\n",
      "### Response:\n",
      "SELECT COUNT(*) FROM singer\n",
      "\n",
      "### Input:\n",
      "How many songs do we have?\n",
      "\n",
      "### Context:\n",
      "CREATE TABLE singer (Id VARCHAR)\n",
      "CREATE TABLE song (Id VARCHAR, SingerId VARCHAR)\n",
      "You are a powerful text-to-SQL model. Your job is to answer questions about a database. You are given a question and context regarding one or more tables.\n",
      "\n",
      "You must output the SQL query that answers the question.\n",
      "\n",
      "### Input:\n",
      "Show name, country, age for all singers ordered by age from the oldest to the youngest.\n",
      "\n",
      "### Context:\n",
      "CREATE TABLE singer (name VARCHAR, country VARCHAR, age VARCHAR)\n",
      "\n",
      "### Response:\n",
      "SELECT name, country, age FROM singer ORDER BY age DESC\n",
      "\n",
      "### Input:\n",
      "Show name, country, age for all singers ordered by age from the youngest to the oldest.\n",
      "\n",
      "### Context:\n",
      "CREATE TABLE singer (name VARCHAR, country VARCHAR, age VARCHAR)\n",
      "\n",
      "### Response:\n",
      "SELECT name, country, age FROM singer ORDER BY age ASC\n",
      "\n",
      "### Input:\n",
      "Show name, country, age for all singers ordered by age from\n",
      "You are a powerful text-to-SQL model. Your job is to answer questions about a database. You are given a question and context regarding one or more tables.\n",
      "\n",
      "You must output the SQL query that answers the question.\n",
      "\n",
      "### Input:\n",
      "What is the average, minimum, and maximum age of all singers from France?\n",
      "\n",
      "### Context:\n",
      "CREATE TABLE singer (age INTEGER, country VARCHAR)\n",
      "\n",
      "### Response:\n",
      "SELECT AVG(age), MIN(age), MAX(age) FROM singer WHERE country = 'France'\n",
      "\n",
      "### Input:\n",
      "What is the average age of all singers from France?\n",
      "\n",
      "### Context:\n",
      "CREATE TABLE singer (age INTEGER, country VARCHAR)\n",
      "\n",
      "### Response:\n",
      "SELECT AVG(age) FROM singer WHERE country = 'France'\n",
      "\n",
      "### Input:\n",
      "What is the average age of all singers from France\n",
      "You are a powerful text-to-SQL model. Your job is to answer questions about a database. You are given a question and context regarding one or more tables.\n",
      "\n",
      "You must output the SQL query that answers the question.\n",
      "\n",
      "### Input:\n",
      "Show the name and the release year of the song by the youngest singer.\n",
      "\n",
      "### Context:\n",
      "CREATE TABLE singer (song_name VARCHAR, song_release_year VARCHAR, age VARCHAR)\n",
      "\n",
      "### Response:\n",
      "SELECT song_name, song_release_year FROM singer ORDER BY age DESC LIMIT 1\n",
      "\n",
      "### Input:\n",
      "Show the name of the song and the name of the singer.\n",
      "\n",
      "### Context:\n",
      "CREATE TABLE singer (song_name VARCHAR, song_release_year VARCHAR, age VARCHAR)\n",
      "\n",
      "### Response:\n",
      "SELECT song_name, song_release_year FROM singer ORDER BY age DESC LIMIT 1\n",
      "\n",
      "### Input:\n",
      "Show the\n"
     ]
    }
   ],
   "source": [
    "batch_outputs = model.generate(**tokenized_inputs, max_new_tokens=100)\n",
    "# print(batch_outputs)\n",
    "batch_decoded_outputs = [tokenizer.decode(output, skip_special_tokens=True) for output in batch_outputs]\n",
    "print(\"decoded batch outputs:\")\n",
    "for output in batch_decoded_outputs:\n",
    "    print(output)\n"
   ]
  },
  {
   "cell_type": "code",
   "execution_count": 8,
   "metadata": {},
   "outputs": [
    {
     "name": "stderr",
     "output_type": "stream",
     "text": [
      "Setting `pad_token_id` to `eos_token_id`:2 for open-end generation.\n"
     ]
    },
    {
     "name": "stdout",
     "output_type": "stream",
     "text": [
      "i is:  0\n"
     ]
    },
    {
     "name": "stderr",
     "output_type": "stream",
     "text": [
      "/root/miniconda3/envs/myenv/lib/python3.10/site-packages/transformers/generation/utils.py:1535: UserWarning: You are calling .generate() with the `input_ids` being on a device type different than your model's device. `input_ids` is on cpu, whereas the model is on cuda. You may experience unexpected behaviors or slower generation. Please make sure that you have put `input_ids` to the correct device by calling for example input_ids = input_ids.to('cuda') before running `.generate()`.\n",
      "  warnings.warn(\n",
      "Setting `pad_token_id` to `eos_token_id`:2 for open-end generation.\n"
     ]
    },
    {
     "name": "stdout",
     "output_type": "stream",
     "text": [
      "first line:  SELECT count(*) FROM singer\n",
      "first line:  SELECT name ,  country ,  age FROM singer ORDER BY age DESC\n",
      "first line:  SELECT avg(age) ,  min(age) ,  max(age) FROM singer WHERE country  =  'France'\n",
      "first line:  SELECT song_name ,  song_release_year FROM singer ORDER BY age LIMIT 1\n",
      "first line:  SELECT DISTINCT country FROM singer WHERE age  >  20\n",
      "first line:  SELECT country ,  count(*) FROM singer GROUP BY country\n",
      "first line:  SELECT song_name FROM singer WHERE age  >  (SELECT avg(age) FROM singer)\n",
      "first line:  SELECT LOCATION ,  name FROM stadium WHERE capacity BETWEEN 5000 AND 10000\n",
      "first line:  SELECT max(capacity) ,  avg(average) FROM stadium\n",
      "first line:  SELECT avg(capacity) ,  max(capacity) FROM stadium\n",
      "first line:  SELECT name ,  capacity FROM stadium ORDER BY average DESC LIMIT 1\n",
      "first line:  SELECT count(*) FROM concert WHERE YEAR  =  2014 OR YEAR  =  2015\n",
      "i is:  12\n"
     ]
    },
    {
     "name": "stderr",
     "output_type": "stream",
     "text": [
      "Setting `pad_token_id` to `eos_token_id`:2 for open-end generation.\n"
     ]
    },
    {
     "name": "stdout",
     "output_type": "stream",
     "text": [
      "first line:  SELECT T2.name ,  count(*) FROM concert AS T1 JOIN stadium AS T2 ON T1.stadium_id  =  T2.stadium_id GROUP BY T1.stadium_id\n",
      "first line:  SELECT T1.name ,  T1.capacity FROM stadium AS T1 JOIN concert AS T2 ON T1.stadium_id  =  T2.stadium_id WHERE T2.year  >=  2014 GROUP BY T2.stadium_id ORDER BY count(*) DESC LIMIT 1\n",
      "first line:  SELECT T1.name ,  T1.capacity FROM stadium AS T1 JOIN concert AS T2 ON T1.stadium_id  =  T2.stadium_id WHERE T2.year  >  2013 GROUP BY T2.stadium_id ORDER BY count(*) DESC LIMIT 1\n",
      "first line:  SELECT YEAR FROM concert GROUP BY YEAR ORDER BY count(*) DESC LIMIT 1\n",
      "first line:  SELECT name FROM stadium WHERE stadium_id NOT IN (SELECT stadium_id FROM concert)\n",
      "first line:  SELECT country FROM singer WHERE age  >  40 INTERSECT SELECT country FROM singer WHERE age  <  30\n",
      "first line:  SELECT name FROM stadium WHERE stadium_id NOT IN (SELECT stadium_id FROM concert WHERE year  =  2014)\n",
      "first line:  SELECT T1.concert_name ,  T1.theme ,  count(*) FROM concert AS T1 JOIN singer_in_concert AS T2 ON T1.concert_id  =  T2.concert_id GROUP BY T1.concert_id\n",
      "first line:  SELECT T2.concert_name ,  T2.theme ,  count(*) FROM singer_in_concert AS T1 JOIN concert AS T2 ON T1.concert_id  =  T2.concert_id GROUP BY T2.concert_id\n",
      "first line:  SELECT T1.name ,  count(*) FROM singer AS T1 JOIN singer_in_concert AS T2 ON T1.singer_id  =  T2.singer_id GROUP BY T1.name\n",
      "first line:  SELECT T2.name FROM singer_in_concert AS T1 JOIN concert AS T2 ON T1.concert_id  =  T2.concert_id JOIN singer AS T3 ON T1.singer_id  =  T3.singer_id WHERE T2.year  =  2014\n",
      "first line:  SELECT name ,  country FROM singer WHERE song_name LIKE '%Hey%'\n",
      "i is:  24\n"
     ]
    },
    {
     "name": "stderr",
     "output_type": "stream",
     "text": [
      "Setting `pad_token_id` to `eos_token_id`:2 for open-end generation.\n"
     ]
    },
    {
     "name": "stdout",
     "output_type": "stream",
     "text": [
      "first line:  SELECT T1.name ,  T1.location FROM stadium AS T1 JOIN concert AS T2 ON T1.stadium_id  =  T2.stadium_id WHERE T2.Year  =  2014 INTERSECT SELECT T1.name ,  T1.location FROM stadium AS T1 JOIN concert AS T2 ON T1.stadium_id  =  T2.stadium_id WHERE T2.\n",
      "first line:  SELECT count(*) FROM concert AS T1 JOIN stadium AS T2 ON T1.stadium_id  =  T2.stadium_id ORDER BY T2.capacity DESC LIMIT 1\n",
      "first line:  SELECT count(*) FROM pets WHERE weight  >  10\n",
      "first line:  SELECT weight FROM pets ORDER BY pet_age LIMIT 1\n",
      "first line:  SELECT max(weight) ,  petType FROM pets GROUP BY petType\n",
      "first line:  SELECT count(*) FROM student AS T1 JOIN has_pet AS T2 ON T1.stuid  =  T2.stuid WHERE T1.age  >  20\n",
      "first line:  SELECT count(*) FROM has_pet AS T1 JOIN pets AS T2 ON T1.petid  =  T2.petid JOIN student AS T3 ON T1.stuid  =  T3.stuid WHERE T2.pettype  =  \"dog\" AND T3.sex  =  \"F\"\n",
      "first line:  SELECT count(DISTINCT pettype) FROM pets\n",
      "first line:  SELECT T2.Fname FROM has_pet AS T1 JOIN student AS T2 ON T1.stuid  =  T2.stuid JOIN pets AS T3 ON T1.petid  =  T3.petid WHERE T3.pettype  =  'cat' OR T3.pettype  =  'dog'\n",
      "first line:  SELECT T1.fname FROM student AS T1 JOIN has_pet AS T2 ON T1.stuid  =  T2.stuid JOIN pets AS T3 ON T2.petid  =  T3.petid WHERE T3.pettype  =  'cat' INTERSECT SELECT T1.fname FROM student AS T1 JOIN has_pet AS T2 ON T1.stuid  =  T2.st\n",
      "first line:  SELECT T1.Fname FROM student AS T1 JOIN has_pet AS T2 ON T1.stuid  =  T2.stuid JOIN pets AS T3 ON T2.petid  =  T3.petid WHERE T3.pettype  =  'cat' INTERSECT SELECT T1.Fname FROM student AS T1 JOIN has_pet AS T2 ON T1.stuid  =  T2.st\n",
      "first line:  SELECT major ,  age FROM student WHERE stuid NOT IN (SELECT T1.stuid FROM has_pet AS T1 JOIN pets AS T2 ON T1.petid  =  T2.petid WHERE T2.pettype  =  \"cat\")\n",
      "i is:  36\n"
     ]
    },
    {
     "name": "stderr",
     "output_type": "stream",
     "text": [
      "Setting `pad_token_id` to `eos_token_id`:2 for open-end generation.\n"
     ]
    },
    {
     "name": "stdout",
     "output_type": "stream",
     "text": [
      "first line:  SELECT stuid FROM student WHERE stuid NOT IN (SELECT T1.stuid FROM has_pet AS T1 JOIN pets AS T2 ON T1.petid  =  T2.petid WHERE T2.pettype  =  \"cat\")\n",
      "first line:  SELECT T1.fname ,  T1.age FROM student AS T1 JOIN has_pet AS T2 ON T1.stuid  =  T2.stuid JOIN pets AS T3 ON T2.petid  =  T3.petid WHERE T3.pettype  =  'dog' EXCEPT SELECT T1.fname ,  T1.age FROM student AS T1 JOIN has_pet AS T2 ON T\n",
      "first line:  SELECT pettype ,  weight FROM pets ORDER BY pet_age LIMIT 1\n",
      "first line:  SELECT petid ,  weight FROM pets WHERE pet_age  >  1\n",
      "first line:  SELECT avg(pet_age) ,  max(pet_age) ,  pettype FROM pets GROUP BY pettype\n",
      "first line:  SELECT avg(weight) ,  pettype FROM pets GROUP BY pettype\n",
      "first line:  SELECT T1.fname ,  T1.age FROM student AS T1 JOIN has_pet AS T2 ON T1.stuid  =  T2.stuid\n",
      "first line:  SELECT T1.petid FROM has_pet AS T1 JOIN student AS T2 ON T1.stuid  =  T2.stuid WHERE T2.Lname  =  'Smith'\n",
      "first line:  SELECT count(*) ,  T1.stuid FROM student AS T1 JOIN has_pet AS T2 ON T1.stuid  =  T2.stuid GROUP BY T1.stuid\n",
      "first line:  SELECT T1.stuid FROM student AS T1 JOIN has_pet AS T2 ON T1.stuid  =  T2.stuid GROUP BY T1.stuid\n",
      "first line:  SELECT T1.fname ,  T1.sex FROM student AS T1 JOIN has_pet AS T2 ON T1.stuid  =  T2.stuid GROUP BY T1.stuid HAVING count(*)  >  1\n",
      "first line:  SELECT T1.lname FROM student AS T1 JOIN has_pet AS T2 ON T1.stuid  =  T2.stuid JOIN pets AS T3 ON T2.petid  =  T3.petid WHERE T3.pettype  =  \"cat\" AND T3.pet_age  =  3\n",
      "i is:  48\n"
     ]
    },
    {
     "name": "stderr",
     "output_type": "stream",
     "text": [
      "Setting `pad_token_id` to `eos_token_id`:2 for open-end generation.\n"
     ]
    },
    {
     "name": "stdout",
     "output_type": "stream",
     "text": [
      "first line:  SELECT avg(age) FROM student WHERE stuid NOT IN (SELECT stuid FROM has_pet)\n",
      "first line:  SELECT count(*) FROM CONTINENTS\n",
      "first line:  SELECT T1.ContId ,  T1.Continent ,  count(*) FROM CONTINENTS AS T1 JOIN COUNTRIES AS T2 ON T1.Continent  =  T2.Continent GROUP BY T1.Continent\n",
      "first line:  SELECT count(*) FROM COUNTRIES\n",
      "first line:  SELECT T1.FullName ,  T1.Id ,  count(*) FROM CAR_MAKERS AS T1 JOIN MODEL_LIST AS T2 ON T1.Id  =  T2.Maker GROUP BY T1.Id\n",
      "first line:  SELECT T1.Model FROM CAR_NAMES AS T1 JOIN CARS_DATA AS T2 ON T1.MakeId  =  T2.Id ORDER BY T2.horsepower LIMIT 1\n",
      "first line:  SELECT T1.model FROM CAR_NAMES AS T1 JOIN CARS_DATA AS T2 ON T1.MakeId  =  T2.Id WHERE T2.Weight  <  (SELECT avg(Weight) FROM CARS_DATA)\n",
      "first line:  SELECT T1.Maker FROM CAR_MAKERS AS T1 JOIN MODEL_LIST AS T2 ON T1.Id  =  T2.Maker JOIN CARS_DATA AS T3 ON T2.model  =  T3.id WHERE T3.year  =  1970\n",
      "first line:  SELECT T1.Make ,  T2.Year FROM CAR_NAMES AS T1 JOIN CARS_DATA AS T2 ON T1.MakeId  =  T2.Id ORDER BY T2.Year LIMIT 1\n",
      "first line:  SELECT T1.model FROM MODEL_LIST AS T1 JOIN CAR_NAMES AS T2 ON T1.model  =  T2.model JOIN CARS_DATA AS T3 ON T2.MakeId  =  T3.id WHERE T3.year  >  1980\n",
      "first line:  SELECT T1.Continent ,  count(*) FROM CONTINENTS AS T1 JOIN COUNTRIES AS T2 ON T1.ContId  =  T2.continent JOIN car_makers AS T3 ON T2.CountryId  =  T3.Country GROUP BY T1.Continent\n",
      "first line:  SELECT T1.CountryName FROM COUNTRIES AS T1 JOIN CAR_MAKERS AS T2 ON T1.CountryId  =  T2.Country\n",
      "i is:  60\n"
     ]
    },
    {
     "name": "stderr",
     "output_type": "stream",
     "text": [
      "Setting `pad_token_id` to `eos_token_id`:2 for open-end generation.\n"
     ]
    },
    {
     "name": "stdout",
     "output_type": "stream",
     "text": [
      "first line:  SELECT T2.fullname ,  count(*) FROM model_list AS T1 JOIN car_makers AS T2 ON T1.maker  =  T2.id GROUP BY T1.maker\n",
      "first line:  SELECT count(*) ,  T1.FullName ,  T1.id FROM CAR_MAKERS AS T1 JOIN MODEL_LIST AS T2 ON T1.Id  =  T2.Maker GROUP BY T1.FullName ,  T1.id\n",
      "first line:  SELECT T1.Accelerate FROM CARS_DATA AS T1 JOIN CAR_NAMES AS T2 ON T1.Id  =  T2.MakeId WHERE T2.Make  =  \"amc\" AND T2.MakeId  =  \"hornet sportabout (sw)\"\n",
      "first line:  SELECT count(*) FROM CAR_MAKERS AS T1 JOIN COUNTRIES AS T2 ON T1.Country  =  T2.CountryId WHERE T2.CountryName  =  \"France\"\n",
      "first line:  SELECT count(*) FROM CAR_MAKERS AS T1 JOIN MODEL_LIST AS T2 ON T1.Id  =  T2.Maker JOIN COUNTRIES AS T3 ON T1.Country  =  T3.CountryId WHERE T3.CountryName  =  \"USA\"\n",
      "first line:  SELECT avg(mpg) FROM CARS_DATA WHERE Cylinders  =  4\n",
      "first line:  SELECT min(weight) FROM cars_data WHERE cylinders  =  8 AND year  =  1974\n",
      "first line:  SELECT Maker ,  Model FROM MODEL_LIST\n",
      "first line:  SELECT T1.CountryName ,  T1.CountryId FROM COUNTRIES AS T1 JOIN CAR_MAKERS AS T2 ON T1.CountryName  =  T2.Country\n",
      "first line:  SELECT count(*) FROM CARS_DATA WHERE horsepower  >  150\n",
      "first line:  SELECT avg(Weight) ,  YEAR FROM CARS_DATA GROUP BY YEAR\n",
      "first line:  SELECT T1.CountryName FROM COUNTRIES AS T1 JOIN CONTINENTS AS T2 ON T1.Continent  =  T2.Continent WHERE T2.Continent  =  \"Europe\" GROUP BY T1.CountryName HAVING count(*)  >=  3\n",
      "i is:  72\n"
     ]
    },
    {
     "name": "stderr",
     "output_type": "stream",
     "text": [
      "Setting `pad_token_id` to `eos_token_id`:2 for open-end generation.\n"
     ]
    },
    {
     "name": "stdout",
     "output_type": "stream",
     "text": [
      "first line:  SELECT T1.horsepower ,  T2.Make FROM CARS_DATA AS T1 JOIN CAR_NAMES AS T2 ON T1.Id  =  T2.MakeId WHERE T1.cylinders  =  3 ORDER BY T1.horsepower DESC LIMIT 1\n",
      "first line:  SELECT T1.Model FROM CAR_NAMES AS T1 JOIN CARS_DATA AS T2 ON T1.MakeId  =  T2.Id ORDER BY T2.mpg DESC LIMIT 1\n",
      "first line:  SELECT T1.model FROM car_names AS T1 JOIN cars_data AS T2 ON T1.makeid  =  T2.id ORDER BY T2.mpg DESC LIMIT 1\n",
      "first line:  SELECT avg(horsepower) FROM CARS_DATA WHERE YEAR  <  1980\n",
      "first line:  SELECT avg(horsepower) FROM cars_data WHERE year  <  1980\n",
      "first line:  SELECT avg(T1.edispl) FROM CARS_DATA AS T1 JOIN CAR_NAMES AS T2 ON T1.Id  =  T2.MakeId WHERE T2.Model  =  \"volvo\"\n",
      "first line:  SELECT max(Accelerate) ,  Cylinders FROM CARS_DATA GROUP BY Cylinders\n",
      "first line:  SELECT Model FROM CAR_NAMES GROUP BY Model ORDER BY count(*) DESC LIMIT 1\n",
      "first line:  SELECT count(*) FROM CARS_DATA WHERE Cylinders  >  4\n",
      "first line:  SELECT count(*) FROM CARS_DATA WHERE YEAR  =  1980\n",
      "first line:  SELECT count(*) FROM MODEL_LIST AS T1 JOIN CAR_MAKERS AS T2 ON T1.Maker  =  T2.Id WHERE T2.FullName  =  \"American Motor Company\"\n",
      "first line:  SELECT T1.FullName ,  T1.Id FROM CAR_MAKERS AS T1 JOIN MODEL_LIST AS T2 ON T1.Id  =  T2.Maker GROUP BY T1.Id HAVING count(*)  >  3\n",
      "i is:  84\n"
     ]
    },
    {
     "name": "stderr",
     "output_type": "stream",
     "text": [
      "Setting `pad_token_id` to `eos_token_id`:2 for open-end generation.\n"
     ]
    },
    {
     "name": "stdout",
     "output_type": "stream",
     "text": [
      "first line:  SELECT DISTINCT T1.Model FROM CAR_NAMES AS T1 JOIN CAR_MAKERS AS T2 ON T1.MakeId  =  T2.Id JOIN CARS_DATA AS T3 ON T1.Model  =  T3.Id WHERE T2.FullName  =  \"General Motors\" OR T3.weight  >  3500\n",
      "first line:  SELECT year FROM cars_data WHERE weight  >=  3000 AND weight  <=  4000\n",
      "first line:  SELECT horsepower FROM CARS_DATA ORDER BY accelerate DESC LIMIT 1\n",
      "first line:  SELECT T1.cylinders FROM CARS_DATA AS T1 JOIN CAR_NAMES AS T2 ON T1.Id  =  T2.MakeId WHERE T2.Model  =  \"volvo\" ORDER BY T1.accelerate LIMIT 1\n",
      "first line:  SELECT count(*) FROM CARS_DATA WHERE Accelerate  >  (SELECT max(Accelerate) FROM CARS_DATA WHERE Horsepower  =  (SELECT max(Horsepower) FROM CARS_DATA))\n",
      "first line:  SELECT count(*) FROM countries AS T1 JOIN car_makers AS T2 ON T1.countryid  =  T2.country GROUP BY T1.countryid HAVING count(*)  >  2\n",
      "first line:  SELECT count(*) FROM CARS_DATA WHERE Cylinders  >  6\n",
      "first line:  SELECT T1.Model FROM CAR_NAMES AS T1 JOIN CARS_DATA AS T2 ON T1.MakeId  =  T2.Id WHERE T2.Cylinders  =  4 ORDER BY T2.horsepower DESC LIMIT 1\n",
      "first line:  SELECT T1.MakeId ,  T2.Make FROM CARS_DATA AS T1 JOIN CAR_NAMES AS T2 ON T1.MakeId  =  T2.MakeId WHERE T1.Horsepower  >  ( SELECT min(Horsepower) FROM CARS_DATA ) AND T1.Cylinders  <  3\n",
      "first line:  SELECT T1.makeid ,  T1.make FROM car_names AS T1 JOIN cars_data AS T2 ON T1.id  =  T2.id WHERE T2.horsepower  !=  ( SELECT min(horsepower) FROM cars_data ) AND T2.cylinders  <  4\n",
      "first line:  SELECT max(mpg) FROM cars_data WHERE cylinders  =  8 OR year  <  1980\n",
      "first line:  SELECT T1.Model FROM CAR_NAMES AS T1 JOIN CAR_MAKERS AS T2 ON T1.MakeId  =  T2.Id JOIN MODEL_LIST AS T3 ON T1.Model  =  T3.Model WHERE T3.weight  <  3500 AND T2.FullName != 'Ford Motor Company'\n",
      "i is:  96\n"
     ]
    },
    {
     "name": "stderr",
     "output_type": "stream",
     "text": [
      "Setting `pad_token_id` to `eos_token_id`:2 for open-end generation.\n"
     ]
    },
    {
     "name": "stdout",
     "output_type": "stream",
     "text": [
      "first line:  SELECT CountryName FROM countries WHERE countryId NOT IN (SELECT Country FROM CAR_MAKERS)\n",
      "first line:  SELECT T1.id ,  T1.maker FROM car_makers AS T1 JOIN model_list AS T2 ON T1.maker  =  T2.maker JOIN car_names AS T3 ON T2.model  =  T3.model GROUP BY T1.maker HAVING count(*)  >=  2 AND count(*)  >  3\n",
      "first line:  SELECT T1.Id ,  T1.Maker FROM CAR_MAKERS AS T1 JOIN MODEL_LIST AS T2 ON T1.Maker  =  T2.Maker JOIN CAR_NAMES AS T3 ON T2.model  =  T3.model GROUP BY T1.Maker HAVING count(*)  >=  2 AND count(*)  >  3\n",
      "first line:  SELECT T1.countryId ,  T1.CountryName FROM Countries AS T1 JOIN CAR_MAKERS AS T2 ON T1.CountryId  =  T2.Country JOIN MODEL_LIST AS T3 ON T2.Id  =  T3.Maker WHERE T3.Model  =  'fiat' GROUP BY T1.countryId HAVING count(*)  >  3\n",
      "first line:  SELECT T1.countryid ,  T1.countryname FROM countries AS T1 JOIN car_makers AS T2 ON T1.countryid  =  T2.country WHERE T2.id  >=  3 UNION SELECT T1.countryid ,  T1.countryname FROM countries AS T1 JOIN model_list AS T2 ON T1.countryid  =  T2.maker WHERE T2.model  =\n",
      "first line:  SELECT Country FROM AIRLINES WHERE Airline  =  \"JetBlue Airways\"\n",
      "first line:  SELECT Abbreviation FROM AIRLINES WHERE Airline  =  \"JetBlue Airways\"\n",
      "first line:  SELECT Airline ,  Abbreviation FROM AIRLINES WHERE Country  =  \"USA\"\n",
      "first line:  SELECT AirportCode ,  AirportName FROM AIRPORTS WHERE city  =  \"Anthony\"\n",
      "first line:  SELECT count(*) FROM airlines\n",
      "first line:  SELECT count(*) FROM AIRLINES\n",
      "first line:  SELECT count(*) FROM AIRPORTS\n",
      "i is:  108\n"
     ]
    },
    {
     "name": "stderr",
     "output_type": "stream",
     "text": [
      "Setting `pad_token_id` to `eos_token_id`:2 for open-end generation.\n"
     ]
    },
    {
     "name": "stdout",
     "output_type": "stream",
     "text": [
      "first line:  SELECT count(*) FROM Flight\n",
      "first line:  SELECT count(*) FROM FLIGHTS\n",
      "first line:  SELECT Airline FROM AIRLINES WHERE Abbreviation  =  'UAL'\n",
      "first line:  SELECT count(*) FROM AIRLINES WHERE Country  =  \"USA\"\n",
      "first line:  SELECT City ,  Country FROM AIRPORTS WHERE AirportName  =  \"Alton\"\n",
      "first line:  SELECT AirportName FROM AIRPORTS WHERE AirportCode  =  'AKO'\n",
      "first line:  SELECT AirportName FROM AIRPORTS WHERE City  =  'Aberdeen'\n",
      "first line:  SELECT count(*) FROM FLIGHTS WHERE SourceAirport  =  'APG'\n",
      "first line:  SELECT count(*) FROM FLIGHTS WHERE DestAirport  =  \"ATO\"\n",
      "first line:  SELECT count(*) FROM FLIGHTS AS T1 JOIN AIRPORTS AS T2 ON T1.SourceAirport  =  T2.AirportCode WHERE T2.City  =  \"Aberdeen\"\n",
      "first line:  SELECT count(*) FROM FLIGHTS AS T1 JOIN AIRPORTS AS T2 ON T1.DestAirport  =  T2.AirportCode WHERE T2.City  =  \"Aberdeen\"\n",
      "first line:  SELECT count(*) FROM FLIGHTS AS T1 JOIN AIRPORTS AS T2 ON T1.DestAirport  =  T2.AirportCode JOIN AIRPORTS AS T3 ON T1.SourceAirport  =  T3.AirportCode WHERE T2.City  =  'Ashley' AND T3.City  =  'Aberdeen'\n",
      "i is:  120\n"
     ]
    },
    {
     "name": "stderr",
     "output_type": "stream",
     "text": [
      "Setting `pad_token_id` to `eos_token_id`:2 for open-end generation.\n"
     ]
    },
    {
     "name": "stdout",
     "output_type": "stream",
     "text": [
      "first line:  SELECT count(*) FROM FLIGHTS AS T1 JOIN AIRLINES AS T2 ON T1.Airline  =  T2.uid WHERE T2.Airline  =  'JetBlue Airways'\n",
      "first line:  SELECT count(*) FROM FLIGHTS AS T1 JOIN AIRLINES AS T2 ON T1.Airline  =  T2.uid WHERE T2.Airline  =  'United Airlines' AND T1.DestAirport  =  'ASY'\n",
      "first line:  SELECT count(*) FROM FLIGHTS AS T1 JOIN AIRLINES AS T2 ON T1.Airline  =  T2.uid WHERE T2.Airline  =  'United Airlines' AND T1.SourceAirport  =  'AHD'\n",
      "first line:  SELECT count(*) FROM FLIGHTS AS T1 JOIN AIRLINES AS T2 ON T1.Airline  =  T2.uid JOIN AIRPORTS AS T3 ON T1.DestAirport  =  T3.AirportCode WHERE T2.Airline  =  'United Airlines' AND T3.City  =  'Aberdeen'\n",
      "first line:  SELECT T2.City FROM AIRPORTS AS T1 JOIN FLIGHTS AS T2 ON T1.AirportCode  =  T2.DestAirport GROUP BY T2.DestAirport ORDER BY count(*) DESC LIMIT 1\n",
      "first line:  SELECT T1.City FROM AIRPORTS AS T1 JOIN FLIGHTS AS T2 ON T1.AirportCode  =  T2.SourceAirport GROUP BY T1.City ORDER BY count(*) DESC LIMIT 1\n",
      "first line:  SELECT T1.AirportCode FROM AIRPORTS AS T1 JOIN FLIGHTS AS T2 ON T1.AirportCode  =  T2.DestAirport GROUP BY T1.AirportCode ORDER BY count(*) DESC LIMIT 1\n",
      "first line:  SELECT T1.AirportCode FROM AIRPORTS AS T1 JOIN FLIGHTS AS T2 ON T1.AirportCode  =  T2.DestAirport GROUP BY T1.AirportCode ORDER BY count(*) ASC LIMIT 1\n",
      "first line:  SELECT T1.Airline FROM AIRLINES AS T1 JOIN FLIGHTS AS T2 ON T1.uid  =  T2.Airline GROUP BY T1.Airline ORDER BY count(*) DESC LIMIT 1\n",
      "first line:  SELECT T1.Abbreviation ,  T1.Country FROM AIRLINES AS T1 JOIN FLIGHTS AS T2 ON T1.Airline  =  T2.Airline GROUP BY T2.Airline ORDER BY count(*) ASC LIMIT 1\n",
      "first line:  SELECT T1.Airline FROM AIRLINES AS T1 JOIN FLIGHTS AS T2 ON T1.uid  =  T2.Airline WHERE T2.SourceAirport  =  'AHD'\n",
      "first line:  SELECT T1.Airline FROM AIRLINES AS T1 JOIN FLIGHTS AS T2 ON T1.uid  =  T2.Airline WHERE T2.DestAirport  =  'AHD'\n",
      "i is:  132\n"
     ]
    },
    {
     "name": "stderr",
     "output_type": "stream",
     "text": [
      "Setting `pad_token_id` to `eos_token_id`:2 for open-end generation.\n"
     ]
    },
    {
     "name": "stdout",
     "output_type": "stream",
     "text": [
      "first line:  SELECT T1.Airline FROM AIRLINES AS T1 JOIN FLIGHTS AS T2 ON T1.uid  =  T2.Airline WHERE T2.SourceAirport  =  'APG' INTERSECT SELECT T1.Airline FROM AIRLINES AS T1 JOIN FLIGHTS AS T2 ON T1.uid  =  T2.Airline WHERE T2\n",
      "first line:  SELECT T1.Airline FROM AIRLINES AS T1 JOIN FLIGHTS AS T2 ON T1.uid  =  T2.Airline WHERE T2.SourceAirport  =  'CVO' EXCEPT SELECT T1.Airline FROM AIRLINES AS T1 JOIN FLIGHTS AS T2 ON T1.uid  =  T2.Airline WHERE T2.\n",
      "first line:  SELECT T1.Airline FROM AIRLINES AS T1 JOIN FLIGHTS AS T2 ON T1.uid  =  T2.Airline GROUP BY T1.Airline HAVING count(*)  >=  10\n",
      "first line:  SELECT T1.Airline FROM AIRLINES AS T1 JOIN FLIGHTS AS T2 ON T1.uid  =  T2.Airline GROUP BY T1.Airline HAVING count(*)  <  200\n",
      "first line:  SELECT T1.FlightNo FROM FLIGHTS AS T1 JOIN AIRLINES AS T2 ON T1.Airline  =  T2.uid WHERE T2.Airline  =  \"United Airlines\"\n",
      "first line:  SELECT FlightNo FROM FLIGHTS WHERE SourceAirport  =  \"APG\"\n",
      "first line:  SELECT FlightNo FROM FLIGHTS WHERE DestAirport  =  \"APG\"\n",
      "first line:  SELECT T1.FlightNo FROM FLIGHTS AS T1 JOIN AIRPORTS AS T2 ON T1.SourceAirport  =  T2.AirportCode WHERE T2.City  =  \"Aberdeen\"\n",
      "first line:  SELECT T1.FlightNo FROM FLIGHTS AS T1 JOIN AIRPORTS AS T2 ON T1.DestAirport  =  T2.AirportCode WHERE T2.City  =  \"Aberdeen\"\n",
      "first line:  SELECT count(*) FROM Flights AS T1 JOIN Airports AS T2 ON T1.DestAirport  =  T2.AirportCode WHERE T2.city  =  \"Aberdeen\" OR T2.city  =  \"Abilene\"\n",
      "first line:  SELECT AirportName FROM Airports WHERE AirportCode NOT IN (SELECT SourceAirport FROM Flights UNION SELECT DestAirport FROM Flights)\n",
      "first line:  SELECT count(*) FROM Employee\n",
      "i is:  144\n"
     ]
    },
    {
     "name": "stderr",
     "output_type": "stream",
     "text": [
      "Setting `pad_token_id` to `eos_token_id`:2 for open-end generation.\n"
     ]
    },
    {
     "name": "stdout",
     "output_type": "stream",
     "text": [
      "first line:  SELECT count(*) FROM employee\n",
      "first line:  SELECT name FROM employee ORDER BY age ASC\n",
      "first line:  SELECT count(*) ,  city FROM employee GROUP BY city\n",
      "first line:  SELECT city FROM employee WHERE age  <  30 GROUP BY city HAVING count(*)  >  1\n",
      "first line:  SELECT LOCATION ,  count(*) FROM shop GROUP BY LOCATION\n",
      "first line:  SELECT manager_name ,  district FROM shop ORDER BY number_products DESC LIMIT 1\n",
      "first line:  SELECT min(Number_products) ,  max(Number_products) FROM shop\n",
      "first line:  SELECT name ,  LOCATION ,  district FROM shop ORDER BY number_products DESC\n",
      "first line:  SELECT name FROM shop WHERE number_products  >  (SELECT avg(number_products) FROM shop)\n",
      "first line:  SELECT T1.name FROM employee AS T1 JOIN evaluation AS T2 ON T1.Employee_ID  =  T2.Employee_ID GROUP BY T2.Employee_ID ORDER BY count(*) DESC LIMIT 1\n",
      "first line:  SELECT T2.name FROM evaluation AS T1 JOIN employee AS T2 ON T1.Employee_ID  =  T2.Employee_ID ORDER BY T1.bonus DESC LIMIT 1\n",
      "first line:  SELECT name FROM employee WHERE Employee_ID NOT IN (SELECT Employee_ID FROM evaluation)\n",
      "i is:  156\n"
     ]
    },
    {
     "name": "stderr",
     "output_type": "stream",
     "text": [
      "Setting `pad_token_id` to `eos_token_id`:2 for open-end generation.\n"
     ]
    },
    {
     "name": "stdout",
     "output_type": "stream",
     "text": [
      "first line:  SELECT T1.name FROM shop AS T1 JOIN hiring AS T2 ON T1.shop_id  =  T2.shop_id GROUP BY T2.shop_id ORDER BY count(*) DESC LIMIT 1\n",
      "first line:  SELECT name FROM shop WHERE shop_id NOT IN (SELECT shop_id FROM hiring)\n",
      "first line:  SELECT T2.name ,  count(*) FROM hiring AS T1 JOIN shop AS T2 ON T1.shop_id  =  T2.shop_id GROUP BY T1.shop_id\n",
      "first line:  SELECT sum(bonus) FROM evaluation\n",
      "first line:  SELECT * FROM hiring\n",
      "first line:  SELECT district FROM shop WHERE Number_products  <  3000 INTERSECT SELECT district FROM shop WHERE Number_products  >  10000\n",
      "first line:  SELECT count(DISTINCT LOCATION) FROM shop\n",
      "first line:  SELECT count(*) FROM Documents\n",
      "first line:  SELECT document_id ,  document_name ,  document_description FROM Documents\n",
      "first line:  SELECT document_name ,  template_id FROM Documents WHERE Document_Description LIKE '%w%'\n",
      "first line:  SELECT document_id ,  template_id ,  Document_Description FROM Documents WHERE document_name  =  \"Robbin CV\"\n",
      "first line:  SELECT count(DISTINCT template_id) FROM Documents\n",
      "i is:  168\n"
     ]
    },
    {
     "name": "stderr",
     "output_type": "stream",
     "text": [
      "Setting `pad_token_id` to `eos_token_id`:2 for open-end generation.\n"
     ]
    },
    {
     "name": "stdout",
     "output_type": "stream",
     "text": [
      "first line:  SELECT count(*) FROM Documents AS T1 JOIN Templates AS T2 ON T1.Template_ID  =  T2.Template_ID WHERE T2.Template_Type_Code  =  'PPT'\n",
      "first line:  SELECT template_id ,  count(*) FROM Documents GROUP BY template_id\n",
      "first line:  SELECT T1.template_id ,  T2.Template_Type_Code FROM Documents AS T1 JOIN Templates AS T2 ON T1.template_id  =  T2.template_id GROUP BY T1.template_id ORDER BY count(*) DESC LIMIT 1\n",
      "first line:  SELECT template_id FROM Documents GROUP BY template_id HAVING count(*)  >  1\n",
      "first line:  SELECT template_id FROM Templates WHERE template_id NOT IN (SELECT template_id FROM Documents)\n",
      "first line:  SELECT count(*) FROM Templates\n",
      "first line:  SELECT template_id ,  version_number ,  template_type_code FROM Templates\n",
      "first line:  SELECT DISTINCT template_type_code FROM Templates\n",
      "first line:  SELECT template_id FROM Templates WHERE template_type_code  =  \"PP\" OR template_type_code  =  \"PPT\"\n",
      "first line:  SELECT count(*) FROM Templates WHERE template_type_code  =  \"CV\"\n",
      "first line:  SELECT version_number ,  template_type_code FROM Templates WHERE version_number  >  5\n",
      "first line:  SELECT template_type_code ,  count(*) FROM Templates GROUP BY template_type_code\n",
      "i is:  180\n"
     ]
    },
    {
     "name": "stderr",
     "output_type": "stream",
     "text": [
      "Setting `pad_token_id` to `eos_token_id`:2 for open-end generation.\n"
     ]
    },
    {
     "name": "stdout",
     "output_type": "stream",
     "text": [
      "first line:  SELECT template_type_code FROM Templates GROUP BY template_type_code ORDER BY count(*) DESC LIMIT 1\n",
      "first line:  SELECT template_type_code FROM Templates GROUP BY template_type_code HAVING count(*)  <  3\n",
      "first line:  SELECT template_type_code ,  min(Version_Number) FROM Templates\n",
      "first line:  SELECT T1.template_type_code FROM Templates AS T1 JOIN Documents AS T2 ON T1.template_id  =  T2.template_id WHERE T2.document_name  =  \"Data base\"\n",
      "first line:  SELECT T1.document_name FROM Documents AS T1 JOIN Templates AS T2 ON T1.template_id  =  T2.template_id WHERE T2.template_type_code  =  \"BK\"\n",
      "first line:  SELECT T1.template_type_code ,  count(*) FROM Templates AS T1 JOIN Documents AS T2 ON T1.template_id  =  T2.template_id GROUP BY T1.template_type_code\n",
      "first line:  SELECT T1.template_type_code FROM Templates AS T1 JOIN Documents AS T2 ON T1.template_id  =  T2.template_id GROUP BY T1.template_type_code ORDER BY count(*) DESC LIMIT 1\n",
      "first line:  SELECT template_type_code FROM Templates WHERE template_id NOT IN (SELECT template_id FROM Documents)\n",
      "first line:  SELECT template_type_code ,  template_type_description FROM Ref_template_types\n",
      "first line:  SELECT template_type_description FROM Ref_template_types WHERE template_type_code  =  \"AD\"\n",
      "first line:  SELECT template_type_code FROM Ref_template_types WHERE template_type_description  =  \"Book\"\n",
      "first line:  SELECT T1.template_type_description FROM Ref_template_types AS T1 JOIN Templates AS T2 ON T1.template_type_code  =  T2.template_type_code JOIN Documents AS T3 ON T2.Template_ID  =  T3.template_ID GROUP BY T1.template_type_description\n",
      "i is:  192\n"
     ]
    },
    {
     "name": "stderr",
     "output_type": "stream",
     "text": [
      "Setting `pad_token_id` to `eos_token_id`:2 for open-end generation.\n"
     ]
    },
    {
     "name": "stdout",
     "output_type": "stream",
     "text": [
      "first line:  SELECT T1.template_id FROM Templates AS T1 JOIN Ref_template_types AS T2 ON T1.template_type_code  =  T2.template_type_code WHERE T2.template_type_description  =  \"Presentation\"\n",
      "first line:  SELECT count(*) FROM Paragraphs\n",
      "first line:  SELECT count(*) FROM Paragraphs AS T1 JOIN Documents AS T2 ON T1.document_ID  =  T2.document_ID WHERE T2.document_name  =  'Summer Show'\n",
      "first line:  SELECT other_details FROM paragraphs WHERE paragraph_text  =  'Korea '\n",
      "first line:  SELECT T1.paragraph_id ,  T1.paragraph_text FROM Paragraphs AS T1 JOIN Documents AS T2 ON T1.document_id  =  T2.document_id WHERE T2.Document_Name  =  'Welcome to NY'\n",
      "first line:  SELECT T1.paragraph_text FROM Documents AS T1 JOIN Paragraphs AS T2 ON T1.document_id  =  T2.document_id WHERE T1.document_name  =  \"Customer reviews\"\n",
      "first line:  SELECT document_id ,  count(*) FROM Paragraphs GROUP BY document_id ORDER BY document_id\n",
      "first line:  SELECT T1.document_name ,  T1.document_id ,  count(*) FROM Documents AS T1 JOIN Paragraphs AS T2 ON T1.document_id  =  T2.document_id GROUP BY T1.document_id\n",
      "first line:  SELECT document_id FROM Paragraphs GROUP BY document_id HAVING count(*)  >=  2\n",
      "first line:  SELECT T1.document_name ,  T1.document_id FROM Documents AS T1 JOIN Paragraphs AS T2 ON T1.document_id  =  T2.document_id GROUP BY T1.document_id ORDER BY count(*) DESC LIMIT 1\n",
      "first line:  SELECT document_id FROM Paragraphs GROUP BY document_id ORDER BY count(*) LIMIT 1\n",
      "first line:  SELECT document_id FROM Paragraphs GROUP BY document_id HAVING count(*)  BETWEEN 1 AND 2\n",
      "i is:  204\n"
     ]
    },
    {
     "name": "stderr",
     "output_type": "stream",
     "text": [
      "Setting `pad_token_id` to `eos_token_id`:2 for open-end generation.\n"
     ]
    },
    {
     "name": "stdout",
     "output_type": "stream",
     "text": [
      "first line:  SELECT document_id FROM Paragraphs WHERE paragraph_text  =  'Brazil' INTERSECT SELECT document_id FROM Paragraphs WHERE paragraph_text  =  'Ireland'\n",
      "first line:  SELECT count(*) FROM teacher\n",
      "first line:  SELECT Name FROM teacher ORDER BY Age ASC\n",
      "first line:  SELECT Age ,  Hometown FROM teacher\n",
      "first line:  SELECT name FROM teacher WHERE hometown != \"Little Lever Urban District\"\n",
      "first line:  SELECT Name FROM teacher WHERE Age  =  32 OR Age  =  33\n",
      "first line:  SELECT Hometown FROM teacher ORDER BY Age LIMIT 1\n",
      "first line:  SELECT Hometown ,  count(*) FROM teacher GROUP BY Hometown\n",
      "first line:  SELECT Hometown FROM teacher GROUP BY Hometown ORDER BY count(*) DESC LIMIT 1\n",
      "first line:  SELECT Hometown FROM teacher GROUP BY Hometown HAVING count(*)  >=  2\n",
      "first line:  SELECT T1.Name ,  T2.Course FROM teacher AS T1 JOIN course_arrange AS T3 ON T1.Teacher_ID  =  T3.Teacher_ID JOIN course AS T2 ON T2.Course_ID  =  T3.Course_ID\n",
      "first line:  SELECT T2.Name ,  T1.Course FROM course_arrange AS T1 JOIN teacher AS T2 ON T1.Teacher_ID  =  T2.Teacher_ID JOIN course AS T3 ON T1.Course_ID  =  T3.Course_ID ORDER BY T2.Name\n",
      "i is:  216\n"
     ]
    },
    {
     "name": "stderr",
     "output_type": "stream",
     "text": [
      "Setting `pad_token_id` to `eos_token_id`:2 for open-end generation.\n"
     ]
    },
    {
     "name": "stdout",
     "output_type": "stream",
     "text": [
      "first line:  SELECT T1.Name FROM teacher AS T1 JOIN course_arrange AS T2 ON T1.Teacher_ID  =  T2.Teacher_ID JOIN course AS T3 ON T2.Course_ID  =  T3.Course_ID WHERE T3.Course  =  'math'\n",
      "first line:  SELECT T1.Name ,  count(*) FROM teacher AS T1 JOIN course_arrange AS T2 ON T1.Teacher_ID  =  T2.Teacher_ID GROUP BY T1.Name\n",
      "first line:  SELECT T1.Name FROM teacher AS T1 JOIN course_arrange AS T2 ON T1.Teacher_ID  =  T2.Teacher_ID GROUP BY T1.Name HAVING count(*)  >=  2\n",
      "first line:  SELECT Name FROM teacher WHERE Teacher_id NOT IN (SELECT Teacher_id FROM course_arrange)\n",
      "first line:  SELECT count(*) FROM visitor WHERE age  <  30\n",
      "first line:  SELECT name FROM visitor WHERE Level_of_membership  >  4 ORDER BY Level_of_membership DESC\n",
      "first line:  SELECT avg(age) FROM visitor WHERE Level_of_membership  <=  4\n",
      "first line:  SELECT name ,  Level_of_membership FROM visitor WHERE Level_of_membership  >  4 ORDER BY age DESC\n",
      "first line:  SELECT museum_id ,  name FROM museum ORDER BY num_of_staff DESC LIMIT 1\n",
      "first line:  SELECT avg(num_of_staff) FROM museum WHERE open_year  <  2009\n",
      "first line:  SELECT Num_of_Staff ,  Open_Year FROM museum WHERE name  =  \"Plaza Museum\"\n",
      "first line:  SELECT name FROM museum WHERE num_of_staff  >  (SELECT min(num_of_staff) FROM museum WHERE open_year  >  2010)\n",
      "i is:  228\n"
     ]
    },
    {
     "name": "stderr",
     "output_type": "stream",
     "text": [
      "Setting `pad_token_id` to `eos_token_id`:2 for open-end generation.\n"
     ]
    },
    {
     "name": "stdout",
     "output_type": "stream",
     "text": [
      "first line:  SELECT T1.id ,  T1.name ,  T1.age FROM visitor AS T1 JOIN visit AS T2 ON T1.id  =  T2.visitor_id GROUP BY T1.id HAVING count(*)  >  1\n",
      "first line:  SELECT T1.id ,  T1.name ,  T1.Level_of_membership FROM visitor AS T1 JOIN visit AS T2 ON T1.id  =  T2.visitor_id ORDER BY T2.Total_spent DESC LIMIT 1\n",
      "first line:  SELECT T1.name ,  T1.Museum_ID FROM museum AS T1 JOIN visit AS T2 ON T1.Museum_ID  =  T2.Museum_ID GROUP BY T2.Museum_ID ORDER BY count(*) DESC LIMIT 1\n",
      "first line:  SELECT name FROM museum WHERE Museum_ID NOT IN (SELECT museum_id FROM visit)\n",
      "first line:  SELECT T1.name ,  T1.age FROM visitor AS T1 JOIN visit AS T2 ON T1.id  =  T2.visitor_id ORDER BY T2.num_of_ticket DESC LIMIT 1\n",
      "first line:  SELECT avg(num_of_ticket) ,  max(num_of_ticket) FROM visit\n",
      "first line:  SELECT sum(T1.Total_spent) FROM visitor AS T1 JOIN visit AS T2 ON T1.id  =  T2.visitor_id WHERE T1.Level_of_membership  =  1\n",
      "first line:  SELECT T1.name FROM visitor AS T1 JOIN visit AS T2 ON T1.id  =  T2.visitor_id JOIN museum AS T3 ON T2.Museum_ID  =  T3.Museum_ID WHERE T3.open_year  <  2009 INTERSECT SELECT T1.name FROM visitor AS T1 JOIN visit AS T2 ON T1.id  =  T2.visitor_\n",
      "first line:  SELECT count(*) FROM visitor AS T1 WHERE NOT EXISTS (SELECT * FROM visit AS T2 JOIN museum AS T3 ON T2.Museum_ID  =  T3.Museum_ID WHERE T3.open_year  >  2010 AND T2.visitor_id  =  T1.id)\n",
      "first line:  SELECT count(*) FROM museum WHERE open_year  >  2013 OR open_year  <  2008\n",
      "first line:  SELECT count(*) FROM players\n",
      "first line:  SELECT count(*) FROM player\n",
      "i is:  240\n"
     ]
    },
    {
     "name": "stderr",
     "output_type": "stream",
     "text": [
      "Setting `pad_token_id` to `eos_token_id`:2 for open-end generation.\n"
     ]
    },
    {
     "name": "stdout",
     "output_type": "stream",
     "text": [
      "first line:  SELECT count(*) FROM matches\n",
      "first line:  SELECT first_name ,  birth_date FROM players WHERE country_code  =  \"USA\"\n",
      "first line:  SELECT avg(loser_age) ,  avg(winner_age) FROM matches\n",
      "first line:  SELECT avg(winner_rank) FROM matches\n",
      "first line:  SELECT max(loser_rank) FROM matches\n",
      "first line:  SELECT count(DISTINCT country_code) FROM players\n",
      "first line:  SELECT count(DISTINCT loser_name) FROM matches\n",
      "first line:  SELECT tourney_name FROM matches GROUP BY tourney_name HAVING count(*)  >  10\n",
      "first line:  SELECT winner_name FROM matches WHERE YEAR  =  2013 INTERSECT SELECT winner_name FROM matches WHERE YEAR  =  2016\n",
      "first line:  SELECT count(*) FROM matches WHERE YEAR  =  2013 OR YEAR  =  2016\n",
      "first line:  SELECT T1.country_code ,  T1.first_name FROM players AS T1 JOIN matches AS T2 ON T1.player_id  =  T2.winner_id WHERE T2.tourney_name  =  'WTA Championships' INTERSECT SELECT T1.country_code ,  T1.first_name FROM players AS T1 JOIN matches AS T2 ON T1.player_id  =  T2\n",
      "first line:  SELECT first_name ,  country_code FROM players ORDER BY birth_date LIMIT 1\n",
      "i is:  252\n"
     ]
    },
    {
     "name": "stderr",
     "output_type": "stream",
     "text": [
      "Setting `pad_token_id` to `eos_token_id`:2 for open-end generation.\n"
     ]
    },
    {
     "name": "stdout",
     "output_type": "stream",
     "text": [
      "first line:  SELECT first_name ,  last_name FROM players ORDER BY birth_date\n",
      "first line:  SELECT first_name ,  last_name FROM players WHERE hand  =  'L' ORDER BY birth_date\n",
      "first line:  SELECT T1.first_name ,  T1.country_code FROM players AS T1 JOIN rankings AS T2 ON T1.player_id  =  T2.player_id ORDER BY T2.tours DESC LIMIT 1\n",
      "first line:  SELECT YEAR FROM matches GROUP BY YEAR ORDER BY count(*) DESC LIMIT 1\n",
      "first line:  SELECT winner_name ,  winner_rank_points FROM matches GROUP BY winner_name ORDER BY count(*) DESC LIMIT 1\n",
      "first line:  SELECT winner_name FROM matches WHERE tourney_name  =  \"Australian Open\" ORDER BY winner_rank_points DESC LIMIT 1\n",
      "first line:  SELECT winner_name ,  loser_name FROM matches ORDER BY minutes DESC LIMIT 1\n",
      "first line:  SELECT T1.first_name ,  avg(ranking) FROM players AS T1 JOIN rankings AS T2 ON T1.player_id  =  T2.player_id GROUP BY T1.player_id\n",
      "first line:  SELECT T1.first_name ,  sum(ranking_points) FROM players AS T1 JOIN rankings AS T2 ON T1.player_id  =  T2.player_id GROUP BY T1.player_id\n",
      "first line:  SELECT count(*) ,  country_code FROM players GROUP BY country_code\n",
      "first line:  SELECT country_code FROM players GROUP BY country_code ORDER BY count(*) DESC LIMIT 1\n",
      "first line:  SELECT country_code FROM players GROUP BY country_code HAVING count(*)  >  50\n",
      "i is:  264\n"
     ]
    },
    {
     "name": "stderr",
     "output_type": "stream",
     "text": [
      "Setting `pad_token_id` to `eos_token_id`:2 for open-end generation.\n"
     ]
    },
    {
     "name": "stdout",
     "output_type": "stream",
     "text": [
      "first line:  SELECT sum(tours) ,  ranking_date FROM rankings GROUP BY ranking_date\n",
      "first line:  SELECT count(*) ,  YEAR FROM matches GROUP BY YEAR\n",
      "first line:  SELECT winner_name ,  winner_rank FROM matches ORDER BY winner_age LIMIT 3\n",
      "first line:  SELECT count(DISTINCT winner_name) FROM matches WHERE tourney_name  =  \"WTA Championships\" AND winner_hand  =  \"left\"\n",
      "first line:  SELECT T1.first_name ,  T1.country_code ,  T1.birth_date FROM players AS T1 JOIN matches AS T2 ON T1.player_id  =  T2.winner_id ORDER BY T2.winner_rank_points DESC LIMIT 1\n",
      "first line:  SELECT count(*) ,  hand FROM players GROUP BY hand\n",
      "first line:  SELECT count(*) FROM ship WHERE disposition_of_ship  =  'Captured'\n",
      "first line:  SELECT name ,  tonnage FROM ship ORDER BY name DESC\n",
      "first line:  SELECT name ,  date FROM battle\n",
      "first line:  SELECT max(killed) ,  min(killed) FROM death\n",
      "first line:  SELECT avg(injured) FROM death\n",
      "first line:  SELECT T1.death ,  T1.injury FROM death AS T1 JOIN ship AS T2 ON T1.caused_by_ship_id  =  T2.Id WHERE T2.tonnage  =  't'\n",
      "i is:  276\n"
     ]
    },
    {
     "name": "stderr",
     "output_type": "stream",
     "text": [
      "Setting `pad_token_id` to `eos_token_id`:2 for open-end generation.\n"
     ]
    },
    {
     "name": "stdout",
     "output_type": "stream",
     "text": [
      "first line:  SELECT name ,  RESULT FROM battle WHERE bulgarian_commander != 'Boril'\n",
      "first line:  SELECT T1.id ,  T1.name FROM battle AS T1 JOIN ship AS T2 ON T1.id  =  T2.lost_in_battle WHERE T2.ship_type  =  'Brig'\n",
      "first line:  SELECT T2.id ,  T2.name FROM death AS T1 JOIN ship AS T3 ON T1.caused_by_ship_id  =  T3.id JOIN battle AS T2 ON T3.lost_in_battle  =  T2.id GROUP BY T2.id HAVING sum(T1.killed)  >  10\n",
      "first line:  SELECT T1.Id ,  T1.name FROM ship AS T1 JOIN death AS T2 ON T1.Id  =  T2.caused_by_ship_id GROUP BY T1.Id ORDER BY sum(T2.total_injuries) DESC LIMIT 1\n",
      "first line:  SELECT DISTINCT name FROM battle WHERE bulgarian_commander  =  'Kaloyan' AND latin_commander  =  'Baldwin I'\n",
      "first line:  SELECT count(DISTINCT RESULT) FROM battle\n",
      "first line:  SELECT count(*) FROM battle WHERE id NOT IN (SELECT lost_in_battle FROM ship WHERE tonnage  =  225)\n",
      "first line:  SELECT T2.name ,  T1.date FROM battle AS T1 JOIN ship AS T2 ON T1.id  =  T2.lost_in_battle WHERE T2.name  =  'Lettice' INTERSECT SELECT T2.name ,  T1.date FROM battle AS T1 JOIN ship AS T2 ON T1.id  =  T2.lost_in_battle WHERE T2.name  =\n",
      "first line:  SELECT T1.name ,  T1.RESULT ,  T1.bulgarian_commander FROM battle AS T1 JOIN ship AS T2 ON T1.id  =  T2.lost_in_battle WHERE T2.location  =  'English Channel'\n",
      "first line:  SELECT note FROM death WHERE note LIKE '%East%'\n",
      "first line:  SELECT line_1 ,  line_2 FROM addresses\n",
      "first line:  SELECT count(*) FROM COURSES\n",
      "i is:  288\n"
     ]
    },
    {
     "name": "stderr",
     "output_type": "stream",
     "text": [
      "Setting `pad_token_id` to `eos_token_id`:2 for open-end generation.\n"
     ]
    },
    {
     "name": "stdout",
     "output_type": "stream",
     "text": [
      "first line:  SELECT count(*) FROM Courses\n",
      "first line:  SELECT course_description FROM Courses WHERE course_name  =  \"Math\"\n",
      "first line:  SELECT zip_postcode FROM Addresses WHERE city  =  \"Port Chelsea\"\n",
      "first line:  SELECT T1.department_name ,  T1.department_id FROM Departments AS T1 JOIN Degree_Programs AS T2 ON T1.department_id  =  T2.department_id GROUP BY T1.department_id ORDER BY count(*) DESC LIMIT 1\n",
      "first line:  SELECT T1.department_name ,  T1.department_id FROM departments AS T1 JOIN degree_programs AS T2 ON T1.department_id  =  T2.department_id GROUP BY T1.department_id ORDER BY count(*) DESC LIMIT 1\n",
      "first line:  SELECT count(DISTINCT department_id) FROM Degree_Programs\n",
      "first line:  SELECT count(DISTINCT degree_summary_name) FROM Degree_Programs\n",
      "first line:  SELECT count(*) FROM Departments AS T1 JOIN Degree_Programs AS T2 ON T1.department_id  =  T2.department_id WHERE T1.department_name  =  \"Engineering\"\n",
      "first line:  SELECT section_name ,  section_description FROM Sections\n",
      "first line:  SELECT T1.course_name ,  T1.course_id FROM Courses AS T1 JOIN Sections AS T2 ON T1.course_id  =  T2.course_id GROUP BY T1.course_id HAVING count(*)  <=  2\n",
      "first line:  SELECT section_name FROM Sections ORDER BY section_name DESC\n",
      "first line:  SELECT T1.semester_name ,  T2.semester_id FROM Semesters AS T1 JOIN Student_Enrolment AS T2 ON T1.semester_id  =  T2.semester_id GROUP BY T2.semester_id ORDER BY count(*) DESC LIMIT 1\n",
      "i is:  300\n"
     ]
    },
    {
     "name": "stderr",
     "output_type": "stream",
     "text": [
      "Setting `pad_token_id` to `eos_token_id`:2 for open-end generation.\n"
     ]
    },
    {
     "name": "stdout",
     "output_type": "stream",
     "text": [
      "first line:  SELECT department_description FROM Departments WHERE department_name LIKE '%computer%'\n",
      "first line:  SELECT T1.first_name ,  T1.middle_name ,  T1.last_name ,  T1.student_id FROM Students AS T1 JOIN Student_Enrolment AS T2 ON T1.student_id  =  T2.student_id GROUP BY T1.student_id HAVING count(*)  =  2\n",
      "first line:  SELECT T2.first_name ,  T2.middle_name ,  T2.last_name FROM Student_Enrolment AS T1 JOIN Students AS T2 ON T1.student_id  =  T2.student_id JOIN Degree_Programs AS T3 ON T1.degree_program_id  =  T3.degree_program_id WHERE T3.degree_summary_name  =  '\n",
      "first line:  SELECT T2.degree_summary_name FROM Student_Enrolment AS T1 JOIN Degree_Programs AS T2 ON T1.degree_program_id  =  T2.degree_program_id GROUP BY T2.degree_summary_name ORDER BY count(*) DESC LIMIT 1\n",
      "first line:  SELECT T1.degree_program_id ,  T1.degree_summary_name FROM Degree_Programs AS T1 JOIN Student_Enrolment AS T2 ON T1.degree_program_id  =  T2.degree_program_id GROUP BY T1.degree_program_id ORDER BY count(*) DESC LIMIT 1\n",
      "first line:  SELECT T1.student_id ,  T1.first_name ,  T1.middle_name ,  T1.last_name ,  count(*) FROM Students AS T1 JOIN Student_Enrolment AS T2 ON T1.student_id  =  T2.student_id GROUP BY T1.student_id ORDER BY count(*) DESC LIMIT 1\n",
      "first line:  SELECT semester_name FROM Semesters WHERE semester_id NOT IN (SELECT semester_id FROM Student_Enrolment)\n",
      "first line:  SELECT T1.course_name FROM Courses AS T1 JOIN Student_Enrolment_Courses AS T2 ON T1.course_id  =  T2.course_id\n",
      "first line:  SELECT T1.course_name FROM Courses AS T1 JOIN Student_Enrolment_Courses AS T2 ON T1.course_id  =  T2.course_id GROUP BY T1.course_id ORDER BY count(*) DESC LIMIT 1\n",
      "first line:  SELECT T1.last_name FROM Students AS T1 JOIN Addresses AS T2 ON T1.current_address_id  =  T2.address_id WHERE T2.state_province_county  =  \"North Carolina\" EXCEPT SELECT T1.last_name FROM Students AS T1 JOIN Student_Enrolment AS T2 ON T1.student_id  =  T2.student_id\n",
      "first line:  SELECT T1.transcript_date ,  T1.transcript_id FROM Transcripts AS T1 JOIN Transcript_Contents AS T2 ON T1.transcript_id  =  T2.transcript_id GROUP BY T1.transcript_id HAVING count(*)  >=  2\n",
      "first line:  SELECT cell_mobile_number FROM Students WHERE first_name = \"Timmothy\" AND last_name = \"Ward\"\n",
      "i is:  312\n"
     ]
    },
    {
     "name": "stderr",
     "output_type": "stream",
     "text": [
      "Setting `pad_token_id` to `eos_token_id`:2 for open-end generation.\n"
     ]
    },
    {
     "name": "stdout",
     "output_type": "stream",
     "text": [
      "first line:  SELECT cell_mobile_number FROM students WHERE first_name  =  \"Timmothy\" AND last_name  =  \"Ward\"\n",
      "first line:  SELECT first_name ,  middle_name ,  last_name FROM Students ORDER BY date_first_registered LIMIT 1\n",
      "first line:  SELECT first_name ,  middle_name ,  last_name FROM Students ORDER BY date_left ASC LIMIT 1\n",
      "first line:  SELECT first_name FROM Students WHERE current_address_id != permanent_address_id\n",
      "first line:  SELECT T1.address_id ,  T1.line_1 ,  T1.line_2 FROM Addresses AS T1 JOIN Students AS T2 ON T1.address_id  =  T2.current_address_id GROUP BY T1.address_id ORDER BY count(*) DESC LIMIT 1\n",
      "first line:  SELECT avg(transcript_date) FROM Transcripts\n",
      "first line:  SELECT transcript_date ,  other_details FROM Transcripts ORDER BY transcript_date LIMIT 1\n",
      "first line:  SELECT count(*) FROM Transcripts\n",
      "first line:  SELECT transcript_date FROM Transcripts ORDER BY transcript_date DESC LIMIT 1\n",
      "first line:  SELECT student_course_id ,  count(*) FROM Transcript_Contents GROUP BY student_course_id ORDER BY count(*) DESC LIMIT 1\n",
      "first line:  SELECT T1.transcript_date ,  T1.transcript_id FROM Transcripts AS T1 JOIN Transcript_Contents AS T2 ON T1.transcript_id  =  T2.transcript_id GROUP BY T1.transcript_id ORDER BY count(*) ASC LIMIT 1\n",
      "first line:  SELECT T1.semester_id FROM Student_Enrolment AS T1 JOIN Degree_Programs AS T2 ON T1.degree_program_id  =  T2.degree_program_id WHERE T2.degree_program_id  =  'Master' INTERSECT SELECT T1.semester_id FROM Student_Enrolment AS T1 JOIN Degree_Programs AS T2 ON T1.\n",
      "i is:  324\n"
     ]
    },
    {
     "name": "stderr",
     "output_type": "stream",
     "text": [
      "Setting `pad_token_id` to `eos_token_id`:2 for open-end generation.\n"
     ]
    },
    {
     "name": "stdout",
     "output_type": "stream",
     "text": [
      "first line:  SELECT count(DISTINCT current_address_id) FROM Students\n",
      "first line:  SELECT other_student_details FROM Students ORDER BY other_student_details DESC\n",
      "first line:  SELECT section_description FROM Sections WHERE section_name  =  \"h\"\n",
      "first line:  SELECT T1.first_name FROM students AS T1 JOIN addresses AS T2 ON T1.permanent_address_id  =  T2.address_id WHERE T2.country  =  \"Haiti\" OR T1.cell_mobile_number  =  09700166582\n",
      "first line:  SELECT Title FROM Cartoon ORDER BY title\n",
      "first line:  SELECT Title FROM Cartoon WHERE Directed_by  =  \"Ben Jones\"\n",
      "first line:  SELECT count(*) FROM Cartoon WHERE Written_by  =  \"Joseph Kuhr\"\n",
      "first line:  SELECT title ,  Directed_by FROM Cartoon ORDER BY Original_air_date\n",
      "first line:  SELECT Title FROM Cartoon WHERE Directed_by  =  \"Ben Jones\" OR Directed_by  =  \"Brandon Vietti\"\n",
      "first line:  SELECT Country ,  count(*) FROM TV_Channel GROUP BY Country ORDER BY count(*) DESC LIMIT 1\n",
      "first line:  SELECT count(DISTINCT series_name ,  content) FROM TV_Channel\n",
      "first line:  SELECT Content FROM TV_Channel WHERE series_name  =  \"Sky Radio\"\n",
      "i is:  336\n"
     ]
    },
    {
     "name": "stderr",
     "output_type": "stream",
     "text": [
      "Setting `pad_token_id` to `eos_token_id`:2 for open-end generation.\n"
     ]
    },
    {
     "name": "stdout",
     "output_type": "stream",
     "text": [
      "first line:  SELECT Package_Option FROM TV_Channel WHERE series_name  =  \"Sky Radio\"\n",
      "first line:  SELECT count(*) FROM TV_Channel WHERE LANGUAGE  =  \"English\"\n",
      "first line:  SELECT LANGUAGE ,  count(*) FROM TV_Channel GROUP BY LANGUAGE ORDER BY count(*) ASC LIMIT 1\n",
      "first line:  SELECT LANGUAGE ,  count(*) FROM TV_Channel GROUP BY LANGUAGE\n",
      "first line:  SELECT T1.series_name FROM TV_Channel AS T1 JOIN Cartoon AS T2 ON T1.id  =  T2.Channel WHERE T2.Title  =  \"The Rise of the Blue Beetle!\"\n",
      "first line:  SELECT T1.Title FROM Cartoon AS T1 JOIN TV_Channel AS T2 ON T1.Channel  =  T2.id WHERE T2.series_name  =  \"Sky Radio\"\n",
      "first line:  SELECT Episode FROM TV_series ORDER BY rating\n",
      "first line:  SELECT Episode ,  Rating FROM TV_series ORDER BY Rating DESC LIMIT 3\n",
      "first line:  SELECT min(SHARE) ,  max(SHARE) FROM TV_series\n",
      "first line:  SELECT Air_Date FROM TV_series WHERE Episode  =  \"A Love of a Lifetime\"\n",
      "first line:  SELECT Weekly_Rank FROM TV_series WHERE Episode  =  \"A Love of a Lifetime\"\n",
      "first line:  SELECT T2.series_name FROM TV_series AS T1 JOIN TV_Channel AS T2 ON T1.Channel  =  T2.id WHERE T1.Episode  =  \"A Love of a Lifetime\"\n",
      "i is:  348\n"
     ]
    },
    {
     "name": "stderr",
     "output_type": "stream",
     "text": [
      "Setting `pad_token_id` to `eos_token_id`:2 for open-end generation.\n"
     ]
    },
    {
     "name": "stdout",
     "output_type": "stream",
     "text": [
      "first line:  SELECT T2.Episode FROM TV_Channel AS T1 JOIN TV_series AS T2 ON T1.id  =  T2.Channel WHERE T1.series_name  =  \"Sky Radio\"\n",
      "first line:  SELECT Directed_by ,  count(*) FROM cartoon GROUP BY Directed_by\n",
      "first line:  SELECT production_code ,  channel FROM cartoon ORDER BY original_air_date DESC LIMIT 1\n",
      "first line:  SELECT package_option ,  series_name FROM TV_Channel WHERE hight_definition_TV  =  \"Yes\"\n",
      "first line:  SELECT T1.country FROM TV_Channel AS T1 JOIN cartoon AS T2 ON T1.id  =  T2.Channel WHERE T2.written_by  =  \"Todd Casey\"\n",
      "first line:  SELECT country FROM TV_Channel WHERE id NOT IN (SELECT Channel FROM cartoon WHERE written_by  =  \"Todd Casey\")\n",
      "first line:  SELECT T1.series_name ,  T1.country FROM TV_Channel AS T1 JOIN cartoon AS T2 ON T1.id  =  T2.Channel WHERE T2.directed_by  =  \"Ben Jones\" OR T2.directed_by  =  \"Michael Chang\"\n",
      "first line:  SELECT Pixel_aspect_ratio_PAR ,  country FROM tv_channel WHERE LANGUAGE != \"English\"\n",
      "first line:  SELECT id FROM tv_channel GROUP BY country HAVING count(*)  >  2\n",
      "first line:  SELECT id FROM TV_Channel WHERE channel NOT IN (SELECT channel FROM cartoon WHERE directed_by  =  \"Ben Jones\")\n",
      "first line:  SELECT package_option FROM TV_Channel WHERE id NOT IN (SELECT channel FROM cartoon WHERE directed_by  =  \"Ben Jones\")\n",
      "first line:  SELECT count(*) FROM poker_player\n",
      "i is:  360\n"
     ]
    },
    {
     "name": "stderr",
     "output_type": "stream",
     "text": [
      "Setting `pad_token_id` to `eos_token_id`:2 for open-end generation.\n"
     ]
    },
    {
     "name": "stdout",
     "output_type": "stream",
     "text": [
      "first line:  SELECT Earnings FROM poker_player ORDER BY Earnings DESC\n",
      "first line:  SELECT Final_Table_Made ,  Best_Finish FROM poker_player\n",
      "first line:  SELECT avg(Earnings) FROM poker_player\n",
      "first line:  SELECT Money_Rank FROM poker_player ORDER BY Earnings DESC LIMIT 1\n",
      "first line:  SELECT max(Final_Table_Made) FROM poker_player WHERE Earnings  <  200000\n",
      "first line:  SELECT T2.Name FROM poker_player AS T1 JOIN people AS T2 ON T1.People_ID  =  T2.People_ID\n",
      "first line:  SELECT T2.Name FROM poker_player AS T1 JOIN people AS T2 ON T1.People_ID  =  T2.People_ID WHERE T1.Earnings  >  300000\n",
      "first line:  SELECT T2.Name FROM poker_player AS T1 JOIN people AS T2 ON T1.People_ID  =  T2.People_ID ORDER BY T1.Final_Table_Made ASC\n",
      "first line:  SELECT T1.Birth_Date FROM people AS T1 JOIN poker_player AS T2 ON T1.People_ID  =  T2.People_ID ORDER BY T2.Earnings LIMIT 1\n",
      "first line:  SELECT T2.Money_Rank FROM people AS T1 JOIN poker_player AS T2 ON T1.People_ID  =  T2.People_ID ORDER BY T1.Height DESC LIMIT 1\n",
      "first line:  SELECT avg(T2.Earnings) FROM people AS T1 JOIN poker_player AS T2 ON T1.People_ID  =  T2.People_ID WHERE T1.Height  >  200\n",
      "first line:  SELECT T2.Name FROM poker_player AS T1 JOIN people AS T2 ON T1.People_ID  =  T2.People_ID ORDER BY T1.Earnings DESC\n",
      "i is:  372\n"
     ]
    },
    {
     "name": "stderr",
     "output_type": "stream",
     "text": [
      "Setting `pad_token_id` to `eos_token_id`:2 for open-end generation.\n"
     ]
    },
    {
     "name": "stdout",
     "output_type": "stream",
     "text": [
      "first line:  SELECT Nationality ,  count(*) FROM people GROUP BY Nationality\n",
      "first line:  SELECT Nationality FROM people GROUP BY Nationality ORDER BY count(*) DESC LIMIT 1\n",
      "first line:  SELECT Nationality FROM people GROUP BY Nationality HAVING count(*)  >=  2\n",
      "first line:  SELECT Name ,  Birth_Date FROM people ORDER BY Name ASC\n",
      "first line:  SELECT Name FROM people WHERE Nationality != \"Russia\"\n",
      "first line:  SELECT Name FROM people WHERE People_ID NOT IN (SELECT People_ID FROM poker_player)\n",
      "first line:  SELECT count(DISTINCT Nationality) FROM people\n",
      "first line:  SELECT count(*) FROM area_code_state\n",
      "first line:  SELECT contestant_number ,  contestant_name FROM contestants ORDER BY contestant_name DESC\n",
      "first line:  SELECT vote_id ,  phone_number ,  state FROM votes\n",
      "first line:  SELECT max(area_code) ,  min(area_code) FROM area_code_state\n",
      "first line:  SELECT created FROM votes WHERE state  =  'CA' ORDER BY created DESC LIMIT 1\n",
      "i is:  384\n"
     ]
    },
    {
     "name": "stderr",
     "output_type": "stream",
     "text": [
      "Setting `pad_token_id` to `eos_token_id`:2 for open-end generation.\n"
     ]
    },
    {
     "name": "stdout",
     "output_type": "stream",
     "text": [
      "first line:  SELECT contestant_name FROM contestants WHERE contestant_name != 'Jessie Alloway'\n",
      "first line:  SELECT DISTINCT state ,  created FROM votes\n",
      "first line:  SELECT T1.contestant_number ,  T1.contestant_name FROM contestants AS T1 JOIN votes AS T2 ON T1.contestant_number  =  T2.contestant_number GROUP BY T1.contestant_number HAVING count(*)  >=  2\n",
      "first line:  SELECT T1.contestant_number ,  T1.contestant_name FROM contestants AS T1 JOIN votes AS T2 ON T1.contestant_number  =  T2.contestant_number ORDER BY T2.votes ASC LIMIT 1\n",
      "first line:  SELECT count(*) FROM votes WHERE state  =  'NY' OR state  =  'CA'\n",
      "first line:  SELECT count(*) FROM contestants WHERE contestant_number NOT IN (SELECT contestant_number FROM votes)\n",
      "first line:  SELECT T1.area_code FROM area_code_state AS T1 JOIN votes AS T2 ON T1.state  =  T2.state GROUP BY T1.area_code ORDER BY count(*) DESC LIMIT 1\n",
      "first line:  SELECT T2.created ,  T2.state ,  T2.phone_number FROM contestants AS T1 JOIN votes AS T2 ON T1.contestant_number  =  T2.contestant_number WHERE T1.contestant_name  =  'Tabatha Gehling'\n",
      "first line:  SELECT T2.area_code FROM votes AS T1 JOIN contestants AS T2 ON T1.contestant_number  =  T2.contestant_number JOIN area_code_state AS T3 ON T1.state  =  T3.state WHERE T2.contestant_name  =  'Tabatha Gehling' INTERSECT SELECT T2.area_code FROM votes AS T1 JOIN contestants AS T\n",
      "first line:  SELECT contestant_name FROM contestants WHERE contestant_name LIKE '%Al%'\n",
      "first line:  SELECT Name FROM country WHERE IndepYear  >  1950\n",
      "first line:  SELECT count(*) FROM country WHERE GovernmentForm  =  'republic'\n",
      "i is:  396\n"
     ]
    },
    {
     "name": "stderr",
     "output_type": "stream",
     "text": [
      "Setting `pad_token_id` to `eos_token_id`:2 for open-end generation.\n"
     ]
    },
    {
     "name": "stdout",
     "output_type": "stream",
     "text": [
      "first line:  SELECT sum(SurfaceArea) FROM country WHERE Region  =  \"Caribbean\"\n",
      "first line:  SELECT Continent FROM country WHERE Name  =  \"Anguilla\"\n",
      "first line:  SELECT T1.Name FROM country AS T1 JOIN city AS T2 ON T1.Code  =  T2.CountryCode WHERE T2.Name  =  \"Kabul\"\n",
      "first line:  SELECT T2.Name FROM countrylanguage AS T1 JOIN country AS T2 ON T1.CountryCode  =  T2.Code GROUP BY T1.Language ORDER BY count(*) DESC LIMIT 1\n",
      "first line:  SELECT Population ,  LifeExpectancy FROM country WHERE Name  =  \"Brazil\"\n",
      "first line:  SELECT Population ,  Region FROM country WHERE Name  =  \"Angola\"\n",
      "first line:  SELECT avg(LifeExpectancy) FROM country WHERE Region  =  \"Central Africa\"\n",
      "first line:  SELECT Name FROM country WHERE Continent  =  'Asia' ORDER BY LifeExpectancy LIMIT 1\n",
      "first line:  SELECT sum(Population) ,  max(GNP) FROM country WHERE Continent  =  'Asia'\n",
      "first line:  SELECT avg(LifeExpectancy) FROM country WHERE Continent  =  'Africa' AND GovernmentForm  =  'Republic'\n",
      "first line:  SELECT sum(SurfaceArea) FROM country WHERE Continent  =  'Asia' OR Continent  =  'Europe'\n",
      "first line:  SELECT sum(Population) FROM city WHERE District  =  \"Gelderland\"\n",
      "i is:  408\n"
     ]
    },
    {
     "name": "stderr",
     "output_type": "stream",
     "text": [
      "Setting `pad_token_id` to `eos_token_id`:2 for open-end generation.\n"
     ]
    },
    {
     "name": "stdout",
     "output_type": "stream",
     "text": [
      "first line:  SELECT avg(GNP) ,  sum(population) FROM country WHERE GovernmentForm  =  'US Territory'\n",
      "first line:  SELECT count(DISTINCT LANGUAGE) FROM countrylanguage\n",
      "first line:  SELECT count(DISTINCT GovernmentForm) FROM country WHERE Continent  =  'Africa'\n",
      "first line:  SELECT count(DISTINCT T1.Language) FROM countrylanguage AS T1 JOIN country AS T2 ON T1.CountryCode  =  T2.Code WHERE T2.Name  =  'Aruba'\n",
      "first line:  SELECT count(*) FROM country AS T1 JOIN countrylanguage AS T2 ON T1.Code  =  T2.CountryCode WHERE T1.Name  =  \"Afghanistan\"\n",
      "first line:  SELECT T1.Name FROM country AS T1 JOIN countrylanguage AS T2 ON T1.Code  =  T2.CountryCode GROUP BY T1.Name ORDER BY count(*) DESC LIMIT 1\n",
      "first line:  SELECT T1.Continent FROM country AS T1 JOIN countrylanguage AS T2 ON T1.Code  =  T2.CountryCode GROUP BY T1.Continent ORDER BY count(*) DESC LIMIT 1\n",
      "first line:  SELECT count(DISTINCT T1.Name) FROM country AS T1 JOIN countrylanguage AS T2 ON T1.Code  =  T2.CountryCode WHERE T2.Language  =  \"English\" INTERSECT SELECT count(DISTINCT T1.Name) FROM country AS T1 JOIN countrylanguage AS T2 ON T1.Code  =  T2.CountryCode WHERE T2.Language  =  \"Dutch\"\n",
      "first line:  SELECT T1.Name FROM country AS T1 JOIN countrylanguage AS T2 ON T1.Code  =  T2.CountryCode WHERE T2.Language  =  \"English\" INTERSECT SELECT T1.Name FROM country AS T1 JOIN countrylanguage AS T2 ON T1.Code  =  T2.CountryCode WHERE T2.Language  =  \"French\"\n",
      "first line:  SELECT T1.Name FROM country AS T1 JOIN countrylanguage AS T2 ON T1.Code  =  T2.CountryCode WHERE T2.Language  =  \"English\" AND T2.Language  =  \"French\" AND T2.IsOfficial  =  \"T\"\n",
      "first line:  SELECT count(DISTINCT T1.Continent) FROM country AS T1 JOIN countrylanguage AS T2 ON T1.Code  =  T2.CountryCode WHERE T2.Language  =  \"Chinese\"\n",
      "first line:  SELECT T2.Region FROM countrylanguage AS T1 JOIN country AS T2 ON T1.CountryCode  =  T2.Code WHERE T1.Language  =  \"English\" OR T1.Language  =  \"Dutch\"\n",
      "i is:  420\n"
     ]
    },
    {
     "name": "stderr",
     "output_type": "stream",
     "text": [
      "Setting `pad_token_id` to `eos_token_id`:2 for open-end generation.\n"
     ]
    },
    {
     "name": "stdout",
     "output_type": "stream",
     "text": [
      "first line:  SELECT T1.name FROM country AS T1 JOIN countrylanguage AS T2 ON T1.code  =  T2.countrycode WHERE T2.language  =  \"English\" OR T2.language  =  \"Dutch\"\n",
      "first line:  SELECT T1.Code FROM country AS T1 JOIN countrylanguage AS T2 ON T1.Code  =  T2.CountryCode WHERE T2.Language  =  \"English\" OR T2.Language  =  \"Dutch\"\n",
      "first line:  SELECT T1.Language FROM countrylanguage AS T1 JOIN country AS T2 ON T1.CountryCode  =  T2.Code WHERE T2.Continent  =  'Asia' GROUP BY T1.Language ORDER BY count(*) DESC LIMIT 1\n",
      "first line:  SELECT T1.Language FROM countrylanguage AS T1 JOIN country AS T2 ON T1.CountryCode  =  T2.Code WHERE T2.GovernmentForm  =  'Republic' GROUP BY T1.Language HAVING count(*)  =  1\n",
      "first line:  SELECT T1.Name FROM city AS T1 JOIN countrylanguage AS T2 ON T1.CountryCode  =  T2.CountryCode WHERE T2.Language  =  \"English\" ORDER BY T1.Population DESC LIMIT 1\n",
      "first line:  SELECT Name ,  Population ,  LifeExpectancy FROM country WHERE Continent  =  'Asia' ORDER BY SurfaceArea DESC LIMIT 1\n",
      "first line:  SELECT avg(T1.LifeExpectancy) FROM country AS T1 JOIN countrylanguage AS T2 ON T1.Name  =  T2.CountryCode WHERE T2.Language  =  \"English\" AND T2.IsOfficial  =  \"0\"\n",
      "first line:  SELECT sum(T1.Population) FROM country AS T1 JOIN countrylanguage AS T2 ON T1.Code  =  T2.CountryCode WHERE T2.Language != 'English'\n",
      "first line:  SELECT T1.Language FROM countrylanguage AS T1 JOIN country AS T2 ON T1.CountryCode  =  T2.Code WHERE T2.HeadOfState  =  \"Beatrix\" AND T1.IsOfficial  =  \"Y\"\n",
      "first line:  SELECT count(DISTINCT T1.Language) FROM countrylanguage AS T1 JOIN country AS T2 ON T1.CountryCode  =  T2.Code WHERE T2.Datefounded  <  1930 AND T1.IsOfficial  =  'T'\n",
      "first line:  SELECT Name FROM country WHERE SurfaceArea  >  (SELECT max(SurfaceArea) FROM country WHERE Continent  =  'Europe')\n",
      "first line:  SELECT Name FROM country WHERE Continent  =  'Africa' INTERSECT SELECT Name FROM country WHERE Continent  =  'Asia' AND population  <  (SELECT max(population) FROM country WHERE Continent  =  'Asia')\n",
      "i is:  432\n"
     ]
    },
    {
     "name": "stderr",
     "output_type": "stream",
     "text": [
      "Setting `pad_token_id` to `eos_token_id`:2 for open-end generation.\n"
     ]
    },
    {
     "name": "stdout",
     "output_type": "stream",
     "text": [
      "first line:  SELECT Name FROM country WHERE Continent  =  'Africa' AND population  <  (SELECT min(population) FROM country WHERE Continent  =  'Asia')\n",
      "first line:  SELECT Name FROM country WHERE Continent  =  'Asia' AND population  >  (SELECT max(population) FROM country WHERE Continent  =  'Africa')\n",
      "first line:  SELECT Name FROM country WHERE Continent  =  'Asia' INTERSECT SELECT Name FROM country WHERE Continent  =  'Africa' AND population  >  (SELECT max(population) FROM country WHERE Continent  =  'Africa')\n",
      "first line:  SELECT CountryCode FROM countrylanguage WHERE LANGUAGE != \"English\"\n",
      "first line:  SELECT CountryCode FROM countrylanguage WHERE LANGUAGE != \"English\"\n",
      "first line:  SELECT Code FROM country WHERE GovernmentForm != \"Republic\" AND Code NOT IN (SELECT CountryCode FROM countrylanguage WHERE LANGUAGE = \"English\")\n",
      "first line:  SELECT T1.Name FROM city AS T1 JOIN country AS T2 ON T1.CountryCode  =  T2.Code JOIN countrylanguage AS T3 ON T2.Code  =  T3.CountryCode WHERE T3.Language  =  \"English\" AND T2.Continent  =  \"Europe\" AND T3.IsOfficial  =  \"0\"\n",
      "first line:  SELECT DISTINCT T1.name FROM city AS T1 JOIN country AS T2 ON T1.countrycode  =  T2.code JOIN countrylanguage AS T3 ON T2.code  =  T3.countrycode WHERE T3.isofficial  =  \"Y\" AND T3.language  =  \"Chinese\" AND T2.continent  =  \"Asia\"\n",
      "first line:  SELECT T2.Name FROM country AS T1 JOIN countrylanguage AS T2 ON T1.Code  =  T2.CountryCode JOIN city AS T3 ON T2.CountryCode  =  T3.CountryCode WHERE T1.Continent  =  'Asia' AND T2.Language  =  'Chinese' AND T2.IsOfficial  =  1\n",
      "first line:  SELECT Name ,  SurfaceArea ,  IndepYear FROM country ORDER BY Population LIMIT 1\n",
      "first line:  SELECT Name ,  population ,  HeadOfState FROM country ORDER BY SurfaceArea DESC LIMIT 1\n",
      "first line:  SELECT T1.Name ,  count(*) FROM country AS T1 JOIN countrylanguage AS T2 ON T1.Code  =  T2.CountryCode GROUP BY T1.Name HAVING count(*)  >=  3\n",
      "i is:  444\n"
     ]
    },
    {
     "name": "stderr",
     "output_type": "stream",
     "text": [
      "Setting `pad_token_id` to `eos_token_id`:2 for open-end generation.\n"
     ]
    },
    {
     "name": "stdout",
     "output_type": "stream",
     "text": [
      "first line:  SELECT District ,  count(*) FROM city WHERE Population  >  (SELECT avg(Population) FROM city) GROUP BY District\n",
      "first line:  SELECT GovernmentForm ,  sum(Population) FROM country WHERE LifeExpectancy  >  72 GROUP BY GovernmentForm\n",
      "first line:  SELECT Continent ,  avg(LifeExpectancy) ,  sum(Population) FROM country WHERE LifeExpectancy  <  72 GROUP BY Continent\n",
      "first line:  SELECT Name ,  SurfaceArea FROM country ORDER BY SurfaceArea DESC LIMIT 5\n",
      "first line:  SELECT Name FROM country ORDER BY Population DESC LIMIT 3\n",
      "first line:  SELECT Name FROM country ORDER BY Population LIMIT 3\n",
      "first line:  SELECT count(*) FROM country WHERE continent  =  'Asia'\n",
      "first line:  SELECT Name FROM country WHERE continent  =  \"Europe\" AND Population  =  80000\n",
      "first line:  SELECT sum(population) ,  avg(surfacearea) FROM country WHERE continent  =  'North America' AND surfacearea  >  3000\n",
      "first line:  SELECT name FROM city WHERE Population BETWEEN 160000 AND 900000\n",
      "first line:  SELECT name FROM city WHERE population BETWEEN 160000 AND 900000\n",
      "first line:  SELECT LANGUAGE FROM countrylanguage GROUP BY LANGUAGE ORDER BY count(*) DESC LIMIT 1\n",
      "i is:  456\n"
     ]
    },
    {
     "name": "stderr",
     "output_type": "stream",
     "text": [
      "Setting `pad_token_id` to `eos_token_id`:2 for open-end generation.\n"
     ]
    },
    {
     "name": "stdout",
     "output_type": "stream",
     "text": [
      "first line:  SELECT T1.LANGUAGE FROM countrylanguage AS T1 JOIN country AS T2 ON T1.CountryCode  =  T2.Code WHERE T1.Percentage  =  (SELECT max(T3.Percentage) FROM countrylanguage AS T3 JOIN country AS T4 ON T3.CountryCode  =  T4.Code WHERE T4.Name  =  T2.Name)\n",
      "first line:  SELECT count(*) FROM countrylanguage WHERE LANGUAGE  =  \"Spanish\" ORDER BY Percentage DESC LIMIT 1\n",
      "first line:  SELECT CountryCode FROM countrylanguage WHERE LANGUAGE  =  \"Spanish\" ORDER BY Percentage DESC LIMIT 1\n",
      "first line:  SELECT count(*) FROM conductor\n",
      "first line:  SELECT Name FROM conductor ORDER BY Age ASC\n",
      "first line:  SELECT Name FROM conductor WHERE Nationality != \"USA\"\n",
      "first line:  SELECT Record_Company FROM orchestra ORDER BY Year_of_Founded DESC\n",
      "first line:  SELECT avg(Attendance) FROM SHOW\n",
      "first line:  SELECT max(SHARE) ,  min(SHARE) FROM performance WHERE TYPE != \"Live final\"\n",
      "first line:  SELECT count(DISTINCT Nationality) FROM conductor\n",
      "first line:  SELECT Name FROM conductor ORDER BY Year_of_Work DESC\n",
      "first line:  SELECT Name FROM conductor ORDER BY Year_of_Work DESC LIMIT 1\n",
      "i is:  468\n"
     ]
    },
    {
     "name": "stderr",
     "output_type": "stream",
     "text": [
      "Setting `pad_token_id` to `eos_token_id`:2 for open-end generation.\n"
     ]
    },
    {
     "name": "stdout",
     "output_type": "stream",
     "text": [
      "first line:  SELECT T1.Name ,  T2.Orchestra FROM conductor AS T1 JOIN orchestra AS T2 ON T1.Conductor_ID  =  T2.Conductor_ID\n",
      "first line:  SELECT T1.Name FROM conductor AS T1 JOIN orchestra AS T2 ON T1.Conductor_ID  =  T2.Conductor_ID GROUP BY T1.Name HAVING count(*)  >  1\n",
      "first line:  SELECT T2.Name FROM orchestra AS T1 JOIN conductor AS T2 ON T1.Conductor_ID  =  T2.Conductor_ID GROUP BY T1.Conductor_ID ORDER BY count(*) DESC LIMIT 1\n",
      "first line:  SELECT T2.Name FROM orchestra AS T1 JOIN conductor AS T2 ON T1.Conductor_ID  =  T2.Conductor_ID WHERE T1.Founded_Year  >  2008\n",
      "first line:  SELECT Record_Company ,  COUNT(*) FROM orchestra GROUP BY Record_Company\n",
      "first line:  SELECT Major_Record_Format FROM orchestra GROUP BY Major_Record_Format ORDER BY COUNT(*) ASC\n",
      "first line:  SELECT Record_Company FROM orchestra GROUP BY Record_Company ORDER BY count(*) DESC LIMIT 1\n",
      "first line:  SELECT Orchestra FROM orchestra WHERE Orchestra_ID NOT IN (SELECT Orchestra_ID FROM performance)\n",
      "first line:  SELECT Record_Company FROM orchestra WHERE Year_of_Founded  <  2003 INTERSECT SELECT Record_Company FROM orchestra WHERE Year_of_Founded  >  2003\n",
      "first line:  SELECT count(*) FROM orchestra WHERE Major_Record_Format  =  \"CD\" OR Major_Record_Format  =  \"DVD\"\n",
      "first line:  SELECT YEAR_FOUNDED FROM orchestra WHERE Orchestra_ID IN (SELECT Orchestra_ID FROM performance GROUP BY Orchestra_ID HAVING count(*)  >  1)\n",
      "first line:  SELECT count(*) FROM Highschooler\n",
      "i is:  480\n"
     ]
    },
    {
     "name": "stderr",
     "output_type": "stream",
     "text": [
      "Setting `pad_token_id` to `eos_token_id`:2 for open-end generation.\n"
     ]
    },
    {
     "name": "stdout",
     "output_type": "stream",
     "text": [
      "first line:  SELECT name ,  grade FROM Highschooler\n",
      "first line:  SELECT grade FROM Highschooler\n",
      "first line:  SELECT grade FROM Highschooler WHERE name  =  \"Kyle\"\n",
      "first line:  SELECT name FROM Highschooler WHERE grade  =  10\n",
      "first line:  SELECT ID FROM Highschooler WHERE name  =  \"Kyle\"\n",
      "first line:  SELECT count(*) FROM Highschooler WHERE grade  =  \"9\" OR grade  =  \"10\"\n",
      "first line:  SELECT count(*) ,  grade FROM Highschooler GROUP BY grade\n",
      "first line:  SELECT grade FROM Highschooler GROUP BY grade ORDER BY count(*) DESC LIMIT 1\n",
      "first line:  SELECT grade FROM Highschooler GROUP BY grade HAVING count(*)  >=  4\n",
      "first line:  SELECT student_id ,  count(*) FROM Friend GROUP BY student_id\n",
      "first line:  SELECT T1.name ,  count(*) FROM Highschooler AS T1 JOIN Friend AS T2 ON T1.id  =  T2.student_id GROUP BY T1.name\n",
      "first line:  SELECT T1.name FROM Highschooler AS T1 JOIN Friend AS T2 ON T1.id  =  T2.student_id GROUP BY T1.id ORDER BY count(*) DESC LIMIT 1\n",
      "i is:  492\n"
     ]
    },
    {
     "name": "stderr",
     "output_type": "stream",
     "text": [
      "Setting `pad_token_id` to `eos_token_id`:2 for open-end generation.\n"
     ]
    },
    {
     "name": "stdout",
     "output_type": "stream",
     "text": [
      "first line:  SELECT T1.name FROM Highschooler AS T1 JOIN Friend AS T2 ON T1.id  =  T2.student_id GROUP BY T1.name HAVING count(*)  >=  3\n",
      "first line:  SELECT T2.name FROM Friend AS T1 JOIN Highschooler AS T2 ON T1.friend_id  =  T2.id WHERE T1.student_id  =  (SELECT id FROM Highschooler WHERE name  =  \"Kyle\")\n",
      "first line:  SELECT count(*) FROM Friend AS T1 JOIN Highschooler AS T2 ON T1.student_id  =  T2.id WHERE T2.name  =  \"Kyle\"\n",
      "first line:  SELECT id FROM Highschooler WHERE id NOT IN (SELECT student_id FROM Friend)\n",
      "first line:  SELECT name FROM Highschooler WHERE id NOT IN (SELECT student_id FROM Friend)\n",
      "first line:  SELECT student_id FROM Friend WHERE liked_id IN (SELECT student_id FROM Likes)\n",
      "first line:  SELECT T1.name FROM Highschooler AS T1 JOIN Friend AS T2 ON T1.id  =  T2.student_id JOIN Likes AS T3 ON T1.id  =  T3.student_id\n",
      "first line:  SELECT student_id ,  count(*) FROM Likes GROUP BY student_id\n",
      "first line:  SELECT T1.name ,  count(*) FROM Highschooler AS T1 JOIN Likes AS T2 ON T1.id  =  T2.student_id GROUP BY T1.name\n",
      "first line:  SELECT T1.name FROM Highschooler AS T1 JOIN Likes AS T2 ON T1.id  =  T2.student_id GROUP BY T1.id ORDER BY count(*) DESC LIMIT 1\n",
      "first line:  SELECT T1.name FROM Highschooler AS T1 JOIN Likes AS T2 ON T1.id  =  T2.student_id GROUP BY T1.name HAVING count(*)  >=  2\n",
      "first line:  SELECT T1.name FROM Highschooler AS T1 JOIN Friend AS T2 ON T1.id  =  T2.student_id WHERE T1.grade  >  5 GROUP BY T1.id HAVING count(*)  >=  2\n",
      "i is:  504\n"
     ]
    },
    {
     "name": "stderr",
     "output_type": "stream",
     "text": [
      "Setting `pad_token_id` to `eos_token_id`:2 for open-end generation.\n"
     ]
    },
    {
     "name": "stdout",
     "output_type": "stream",
     "text": [
      "first line:  SELECT count(*) FROM Likes AS T1 JOIN Highschooler AS T2 ON T1.student_id  =  T2.id WHERE T2.name  =  \"Kyle\"\n",
      "first line:  SELECT avg(grade) FROM Highschooler AS T1 JOIN Friend AS T2 ON T1.id  =  T2.student_id\n",
      "first line:  SELECT min(grade) FROM Highschooler WHERE id NOT IN (SELECT student_id FROM Friend)\n",
      "first line:  SELECT state FROM Owners INTERSECT SELECT state FROM Professionals\n",
      "first line:  SELECT avg(T1.age) FROM Dogs AS T1 JOIN Treatments AS T2 ON T1.dog_id  =  T2.dog_id\n",
      "first line:  SELECT professional_id ,  last_name ,  cell_number FROM Professionals WHERE state  =  'Indiana' UNION SELECT T1.professional_id ,  last_name ,  cell_number FROM Professionals AS T1 JOIN Treatments AS T2 ON T1.professional_id  =  T2.professional_id GROUP BY T1.professional_id HAVING count(*)  >  2\n",
      "first line:  SELECT name FROM dogs WHERE dog_id NOT IN (SELECT dog_id FROM treatments WHERE cost_of_treatment  >  1000)\n",
      "first line:  SELECT first_name FROM Owners UNION SELECT first_name FROM Professionals EXCEPT SELECT first_name FROM Dogs\n",
      "first line:  SELECT professional_id ,  role_code ,  email_address FROM Professionals WHERE professional_id NOT IN (SELECT professional_id FROM Treatments)\n",
      "first line:  SELECT T1.owner_id ,  T1.first_name ,  T1.last_name FROM Owners AS T1 JOIN Dogs AS T2 ON T1.owner_id  =  T2.owner_id GROUP BY T1.owner_id ORDER BY count(*) DESC LIMIT 1\n",
      "first line:  SELECT T1.professional_id ,  T1.role_code ,  T1.first_name FROM Professionals AS T1 JOIN Treatments AS T2 ON T1.professional_id  =  T2.professional_id GROUP BY T1.professional_id HAVING count(*)  >=  2\n",
      "first line:  SELECT T2.breed_name FROM Dogs AS T1 JOIN Breeds AS T2 ON T1.breed_code  =  T2.breed_code GROUP BY T1.breed_code ORDER BY count(*) DESC LIMIT 1\n",
      "i is:  516\n"
     ]
    },
    {
     "name": "stderr",
     "output_type": "stream",
     "text": [
      "Setting `pad_token_id` to `eos_token_id`:2 for open-end generation.\n"
     ]
    },
    {
     "name": "stdout",
     "output_type": "stream",
     "text": [
      "first line:  SELECT T1.owner_id ,  T1.last_name FROM Owners AS T1 JOIN Dogs AS T2 ON T1.owner_id  =  T2.owner_id JOIN Treatments AS T3 ON T2.dog_id  =  T3.dog_id GROUP BY T1.owner_id ORDER BY count(*) DESC LIMIT 1\n",
      "first line:  SELECT T2.treatment_type_description FROM Treatments AS T1 JOIN Treatment_types AS T2 ON T1.treatment_type_code  =  T2.treatment_type_code GROUP BY T1.treatment_type_code ORDER BY sum(T1.cost) LIMIT 1\n",
      "first line:  SELECT T1.owner_id ,  T1.zip_code FROM Owners AS T1 JOIN Dogs AS T2 ON T1.owner_id  =  T2.owner_id JOIN Treatments AS T3 ON T2.dog_id  =  T3.dog_id GROUP BY T1.owner_id ORDER BY sum(T3.cost_of_treatment) DESC LIMIT 1\n",
      "first line:  SELECT T1.professional_id ,  T1.cell_number FROM Professionals AS T1 JOIN Treatments AS T2 ON T1.professional_id  =  T2.professional_id GROUP BY T1.professional_id HAVING count(DISTINCT T2.treatment_type_code)  >=  2\n",
      "first line:  SELECT T1.first_name ,  T1.last_name FROM Professionals AS T1 JOIN Treatments AS T2 ON T1.Id  =  T2.Id WHERE T2.cost_of_treatment  <  (SELECT avg(cost_of_treatment) FROM Treatments)\n",
      "first line:  SELECT T1.date_of_treatment ,  T2.first_name FROM Treatments AS T1 JOIN Professionals AS T2 ON T1.professional_id  =  T2.professional_id\n",
      "first line:  SELECT T1.cost_of_treatment ,  T2.treatment_type_description FROM Treatments AS T1 JOIN treatment_types AS T2 ON T1.treatment_type_code  =  T2.treatment_type_code\n",
      "first line:  SELECT T1.first_name ,  T1.last_name ,  T2.size_code FROM Owners AS T1 JOIN Dogs AS T2 ON T1.owner_id  =  T2.owner_id\n",
      "first line:  SELECT T1.first_name ,  T2.name FROM Owners AS T1 JOIN Dogs AS T2 ON T1.owner_id  =  T2.owner_id\n",
      "first line:  SELECT T1.name ,  T2.date_of_treatment FROM Dogs AS T1 JOIN Treatments AS T2 ON T1.dog_id  =  T2.dog_id JOIN Dogs AS T3 ON T1.breed_code  =  T3.breed_code GROUP BY T1.breed_code ORDER BY count(*) LIMIT 1\n",
      "first line:  SELECT T2.first_name ,  T1.name FROM Dogs AS T1 JOIN Owners AS T2 ON T1.owner_id  =  T2.owner_id WHERE T2.state  =  \"Virginia\"\n",
      "first line:  SELECT T1.date_arrived ,  T1.date_departed FROM Dogs AS T1 JOIN Treatments AS T2 ON T1.dog_id  =  T2.dog_id\n",
      "i is:  528\n"
     ]
    },
    {
     "name": "stderr",
     "output_type": "stream",
     "text": [
      "Setting `pad_token_id` to `eos_token_id`:2 for open-end generation.\n"
     ]
    },
    {
     "name": "stdout",
     "output_type": "stream",
     "text": [
      "first line:  SELECT T2.last_name FROM Dogs AS T1 JOIN Owners AS T2 ON T1.owner_id  =  T2.owner_id ORDER BY T1.age LIMIT 1\n",
      "first line:  SELECT email_address FROM Professionals WHERE state  =  'Hawaii' OR state  =  'Wisconsin'\n",
      "first line:  SELECT date_arrived ,  date_departed FROM Dogs\n",
      "first line:  SELECT count(DISTINCT dog_id) FROM Treatments\n",
      "first line:  SELECT count(DISTINCT professional_id) FROM Treatments\n",
      "first line:  SELECT role_code ,  street ,  city ,  state FROM professionals WHERE city LIKE '%West%'\n",
      "first line:  SELECT first_name ,  last_name ,  email_address FROM Owners WHERE state LIKE '%North%'\n",
      "first line:  SELECT count(*) FROM Dogs WHERE age  <  (SELECT avg(age) FROM Dogs)\n",
      "first line:  SELECT cost_of_treatment FROM Treatments ORDER BY date_of_treatment DESC LIMIT 1\n",
      "first line:  SELECT count(*) FROM Dogs WHERE dog_id NOT IN (SELECT dog_id FROM Treatments)\n",
      "first line:  SELECT count(*) FROM dogs WHERE dog_id NOT IN (SELECT dog_id FROM treatments)\n",
      "first line:  SELECT count(*) FROM Owners WHERE owner_id NOT IN (SELECT owner_id FROM Dogs)\n",
      "i is:  540\n"
     ]
    },
    {
     "name": "stderr",
     "output_type": "stream",
     "text": [
      "Setting `pad_token_id` to `eos_token_id`:2 for open-end generation.\n"
     ]
    },
    {
     "name": "stdout",
     "output_type": "stream",
     "text": [
      "first line:  SELECT count(*) FROM Professionals WHERE professional_id NOT IN (SELECT professional_id FROM Treatments)\n",
      "first line:  SELECT name ,  age ,  weight FROM Dogs WHERE abandoned_yn  =  1\n",
      "first line:  SELECT avg(age) FROM Dogs\n",
      "first line:  SELECT max(age) FROM Dogs\n",
      "first line:  SELECT charge_type ,  charge_amount FROM Charges\n",
      "first line:  SELECT max(charge_amount) FROM Charges\n",
      "first line:  SELECT email_address ,  cell_number ,  home_phone FROM professionals\n",
      "first line:  SELECT breed_code ,  size_code FROM dogs\n",
      "first line:  SELECT T1.first_name ,  T2.treatment_type_description FROM professionals AS T1 JOIN Treatments AS T3 ON T1.professional_id  =  T3.professional_id JOIN Treatment_types AS T2 ON T2.treatment_type_code  =  T3.treatment_type_code\n",
      "first line:  SELECT Name FROM singer ORDER BY Net_Worth_Millions ASC\n",
      "first line:  SELECT Birth_Year ,  Citizenship FROM singer\n",
      "first line:  SELECT Name FROM singer WHERE Citizenship != \"France\"\n",
      "i is:  552\n"
     ]
    },
    {
     "name": "stderr",
     "output_type": "stream",
     "text": [
      "Setting `pad_token_id` to `eos_token_id`:2 for open-end generation.\n"
     ]
    },
    {
     "name": "stdout",
     "output_type": "stream",
     "text": [
      "first line:  SELECT Name FROM singer WHERE Birth_Year  =  1948 OR Birth_Year  =  1949\n",
      "first line:  SELECT Name FROM singer ORDER BY Net_Worth_Millions DESC LIMIT 1\n",
      "first line:  SELECT Citizenship ,  COUNT(*) FROM singer GROUP BY Citizenship\n",
      "first line:  SELECT Citizenship FROM singer GROUP BY Citizenship ORDER BY count(*) DESC LIMIT 1\n",
      "first line:  SELECT citizenship FROM singer GROUP BY citizenship ORDER BY count(*) DESC LIMIT 1\n",
      "first line:  SELECT Citizenship ,  max(Net_Worth_Millions) FROM singer GROUP BY Citizenship\n",
      "first line:  SELECT T1.Title ,  T2.Name FROM song AS T1 JOIN singer AS T2 ON T1.Singer_ID  =  T2.Singer_ID\n",
      "first line:  SELECT DISTINCT T2.Name FROM song AS T1 JOIN singer AS T2 ON T1.Singer_ID  =  T2.Singer_ID WHERE T1.Sales  >  300000\n",
      "first line:  SELECT T2.Name FROM song AS T1 JOIN singer AS T2 ON T1.Singer_ID  =  T2.Singer_ID GROUP BY T1.Singer_ID HAVING count(*)  >  1\n",
      "first line:  SELECT T2.Name ,  sum(T1.Sales) FROM song AS T1 JOIN singer AS T2 ON T1.Singer_ID  =  T2.Singer_ID GROUP BY T1.Singer_ID\n",
      "first line:  SELECT Name FROM singer WHERE Singer_ID NOT IN (SELECT Singer_ID FROM song)\n",
      "first line:  SELECT Citizenship FROM singer WHERE Birth_Year  <  1945 INTERSECT SELECT Citizenship FROM singer WHERE Birth_Year  >  1955\n",
      "i is:  564\n",
      "first line:  SELECT count(*) FROM Other_Available_Features\n",
      "first line:  SELECT T2.feature_type_name FROM Other_Available_Features AS T1 JOIN Ref_Feature_Types AS T2 ON T1.feature_type_code  =  T2.feature_type_code WHERE T1.feature_name  =  \"AirCon\"\n",
      "first line:  SELECT T2.property_type_description FROM Properties AS T1 JOIN Ref_Property_Types AS T2 ON T1.property_type_code  =  T2.property_type_code\n",
      "first line:  SELECT property_name FROM Properties WHERE property_type_code  =  'House' OR property_type_code  =  'Apartment' AND room_count  >  1\n"
     ]
    }
   ],
   "source": [
    "batch_size = 12  # You can adjust the batch size based on your GPU capacity\n",
    "outputs = []\n",
    "\n",
    "model.eval()\n",
    "with torch.no_grad(), open('codellama34b-real-final-test.txt', 'a') as f:\n",
    "    for i in range(0, len(prompts), batch_size):\n",
    "        print(\"i is: \", i)\n",
    "        batch_inputs = prompts[i:i+batch_size]\n",
    "        \n",
    "        # Step 3: Loop over the batches and generate the outputs\n",
    "        batch_model_inputs = tokenizer(batch_inputs, return_tensors=\"pt\", padding=True, truncation=True)\n",
    "        \n",
    "        input_lengths = [len(input_ids) for input_ids in batch_model_inputs[\"input_ids\"]]\n",
    "        \n",
    "        batch_outputs = model.generate(**batch_model_inputs, max_new_tokens=100)\n",
    "        \n",
    "        # Step 4: Collect the outputs\n",
    "        batch_decoded_outputs = [tokenizer.decode(output[input_length:], skip_special_tokens=True) for output, input_length in zip(batch_outputs, input_lengths)]\n",
    "        outputs.extend(batch_decoded_outputs)\n",
    "        # print(outputs)\n",
    "        for b in batch_decoded_outputs:\n",
    "            # print(\"b is: \", b)\n",
    "            lines = b.split('\\n')\n",
    "            print(\"first line: \", lines[0])\n",
    "            f.write(lines[0] + \"\\n\")\n",
    "        \n",
    "# Now, `outputs` is a list containing the outputs for all 900 inputs"
   ]
  },
  {
   "cell_type": "code",
   "execution_count": null,
   "metadata": {},
   "outputs": [],
   "source": []
  }
 ],
 "metadata": {
  "kernelspec": {
   "display_name": "base",
   "language": "python",
   "name": "python3"
  },
  "language_info": {
   "codemirror_mode": {
    "name": "ipython",
    "version": 3
   },
   "file_extension": ".py",
   "mimetype": "text/x-python",
   "name": "python",
   "nbconvert_exporter": "python",
   "pygments_lexer": "ipython3",
   "version": "3.10.13"
  },
  "orig_nbformat": 4
 },
 "nbformat": 4,
 "nbformat_minor": 2
}
